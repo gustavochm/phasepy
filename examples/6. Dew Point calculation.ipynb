{
 "cells": [
  {
   "cell_type": "markdown",
   "metadata": {},
   "source": [
    "# Dew Point (VLE)\n",
    "\n",
    "The isothermal-isobaric two-phase flash is the base for the calculation Vapor-Liquid Equilibria. This calculation is based on the solution of the Rachford-Rice mass balance. \n",
    "\n",
    "$$ FO = \\sum_{i=1}^c \\left( x_i^\\beta - x_i^\\alpha \\right) = \\sum_{i=1}^c \\frac{z_i (K_i-1)}{1+\\psi (K_i-1)} $$\n",
    "\n",
    "\n",
    "Where,  $K_i = x_i^\\beta/x_i^\\alpha =\\hat{\\phi}_i^\\alpha /\\hat{\\phi}_i^\\beta  $ represents the equilibrium constant  and $\\psi$ the fraction of the phase $\\beta$. For bubble and dew points calculations the phase fraction $\\psi$ is known beforehand and set to 0 for bubble points (differential size bubble) and to 1 for dew point (differential size liquid drop).\n",
    "\n",
    "The Rachford-Rice mass balance reduces to the following equations:\n",
    "\n",
    "###  Dew \n",
    "\n",
    "$$ FO = 1 - \\sum_{i=1}^c \\frac{y_i}{K_i} = 1 - \\sum_{i=1}^c x_i = 0 $$\n",
    "\n",
    "The solution of this calculations includes using accelerated successive substitution (ASS) to update the phase compositions in an inner loop and the quasi-Newton method is used to update pressure or temperature in an outer loop. If slow convergence is detected, the algorithm attempts to solve the following system of equations using equilibrium constants, $K$, as iteration variables. This is done using SciPy's optimization routines.\n",
    "\n",
    "$$ f_i = \\ln K_i + \\ln \\hat{\\phi}_i^v(\\underline{y}, T, P) -\\ln \\hat{\\phi}_i^l(\\underline{x}, T, P) \\quad i = 1,...,c $$\n",
    "$$ f_{c+1} = \\sum_{i=1}^c (y_i-x_i) $$\n",
    "\n",
    "**note:** these calculations does not check for the stability of the phases.\n",
    "\n",
    "\n",
    "In this notebook, examples of calculation of dew point properties using Peng-Robinson equation of state are shown. The mixing rule applied is Modified Huron Vidal combined with Redlich Kister polynomial and also with Modified UNIFAC activity coefficient model."
   ]
  },
  {
   "cell_type": "code",
   "execution_count": 1,
   "metadata": {},
   "outputs": [],
   "source": [
    "import numpy as np\n",
    "from phasepy import mixture, component, prsveos, rkeos\n",
    "from phasepy.equilibrium import dewPx, dewTx"
   ]
  },
  {
   "cell_type": "markdown",
   "metadata": {},
   "source": [
    "# Binary mixture example\n",
    "\n",
    "This example uses Peng-Robinson-Stryjek-Vera equation of state. The mixing rule applied is Modified Huron Vidal combined with Redlich-Kister."
   ]
  },
  {
   "cell_type": "code",
   "execution_count": 2,
   "metadata": {},
   "outputs": [],
   "source": [
    "ethanol = component(name='ethanol', Tc=514.0, Pc=61.37, Zc=0.241, Vc=168.0, w=0.643558,\n",
    "                    ksv=[1.27092923, 0.0440421])\n",
    "\n",
    "mtbe = component(name='mtbe', Tc=497.1, Pc=34.3, Zc=0.273, Vc=329.0, w=0.266059,\n",
    "                 ksv=[0.76429651, 0.04242646])\n",
    "\n",
    "mix = mixture(mtbe, ethanol)\n",
    "# or\n",
    "mix = mtbe + ethanol\n",
    "C0 = np.array([0.02635196, -0.02855964, 0.01592515])\n",
    "C1 = np.array([312.575789, 50.1476555, 5.13981131])\n",
    "mix.rk(C0, C1)\n",
    "eos = prsveos(mix, mixrule='mhv_rk')"
   ]
  },
  {
   "cell_type": "markdown",
   "metadata": {},
   "source": [
    "#### Dew point algorithm y, T -> x, P"
   ]
  },
  {
   "cell_type": "code",
   "execution_count": 3,
   "metadata": {},
   "outputs": [
    {
     "data": {
      "text/plain": [
       "      T: 350.0\n",
       "      P: 1.5445973713540972\n",
       "  error: 1.003122029885617e-10\n",
       "   iter: 6\n",
       "      X: array([0.23512692, 0.76487308])\n",
       "     v1: 79.8592557083242\n",
       " state1: 'Liquid'\n",
       "      Y: array([0.5, 0.5])\n",
       "     v2: 18058.942068043412\n",
       " state2: 'Vapor'"
      ]
     },
     "execution_count": 3,
     "metadata": {},
     "output_type": "execute_result"
    }
   ],
   "source": [
    "y = np.array([0.5, 0.5])\n",
    "T = 350.0\n",
    "x0 = np.array([0.5, 0.5])\n",
    "P0 = 1.0\n",
    "P0 = 10.0\n",
    "dewPx(x0, P0, y, T, eos, full_output=True)"
   ]
  },
  {
   "cell_type": "markdown",
   "metadata": {},
   "source": [
    "#### Dew point algorithm y, P -> x, T"
   ]
  },
  {
   "cell_type": "code",
   "execution_count": 4,
   "metadata": {},
   "outputs": [
    {
     "data": {
      "text/plain": [
       "      T: 341.7556832715945\n",
       "      P: 1.0\n",
       "  error: 7.549516567451093e-15\n",
       "   iter: 5\n",
       "      X: array([0.1357666, 0.8642334])\n",
       "     v1: 73.24673375254616\n",
       " state1: 'Liquid'\n",
       "      Y: array([0.4, 0.6])\n",
       "     v2: 27627.20399825711\n",
       " state2: 'Vapor'"
      ]
     },
     "execution_count": 4,
     "metadata": {},
     "output_type": "execute_result"
    }
   ],
   "source": [
    "y = np.array([0.4, 0.6])\n",
    "P = 1.0\n",
    "x0 = np.array([0.1, 0.9])\n",
    "T0 = 360.0\n",
    "dewTx(x0, T0, y, P, eos, full_output=True)"
   ]
  },
  {
   "cell_type": "markdown",
   "metadata": {},
   "source": [
    "# Ternary mixture example\n",
    "\n",
    "This example uses Redlich Kwong equation of state. The mixing rule applied is Modified Huron Vidal combined with Modified UNIFAC."
   ]
  },
  {
   "cell_type": "code",
   "execution_count": 5,
   "metadata": {},
   "outputs": [],
   "source": [
    "mtbe = component(name='mtbe', Tc=497.1, Pc=34.3, Zc=0.273, Vc=329.0, w=0.266059,\n",
    "                 Ant=[9.16238246, 2541.97883529, -50.40534341],\n",
    "                 GC={'CH3':3, 'CH3O':1, 'C':1})\n",
    "\n",
    "ethanol = component(name='ethanol', Tc=514.0, Pc=61.37, Zc=0.241, Vc=168.0, w=0.643558,\n",
    "                    Ant=[11.61809279, 3423.0259436, -56.48094263],\n",
    "                    GC={'CH3':1, 'CH2':1, 'OH(P)':1})\n",
    "\n",
    "butanol = component(name='n-Butanol', Tc=563.0, Pc=44.14, Zc=0.258, Vc=274.0, w=0.589462,\n",
    "                    Ant=[9.74673479, 2668.52570016, -116.66189545],\n",
    "                    GC={'CH3':1, 'CH2':3, 'OH(P)':1})\n",
    "\n",
    "mix = mixture(mtbe, ethanol)\n",
    "mix.add_component(butanol)\n",
    "# or\n",
    "mix = mtbe + ethanol + butanol\n",
    "\n",
    "mix.unifac()\n",
    "eos = rkeos(mix, 'mhv_unifac')"
   ]
  },
  {
   "cell_type": "markdown",
   "metadata": {},
   "source": [
    "#### Dew point algorithm y, T -> x, P"
   ]
  },
  {
   "cell_type": "code",
   "execution_count": 6,
   "metadata": {},
   "outputs": [
    {
     "data": {
      "text/plain": [
       "      T: 350.0\n",
       "      P: 4.860774612727484\n",
       "  error: 1.879829625295315e-12\n",
       "   iter: 5\n",
       "      X: array([0.10835525, 0.35502455, 0.5366202 ])\n",
       "     v1: 115.51060023271316\n",
       " state1: 'Liquid'\n",
       "      Y: array([0.2, 0.5, 0.3])\n",
       "     v2: 5398.969154683488\n",
       " state2: 'Vapor'"
      ]
     },
     "execution_count": 6,
     "metadata": {},
     "output_type": "execute_result"
    }
   ],
   "source": [
    "y = np.array([0.2, 0.5, 0.3])\n",
    "T = 350.0\n",
    "x0 = np.array([0.2, 0.5, 0.3])\n",
    "P0 = 1.0\n",
    "dewPx(x0, P0, y, T, eos, full_output=True)"
   ]
  },
  {
   "cell_type": "markdown",
   "metadata": {},
   "source": [
    "#### Dew point algorithm y, P -> x, T"
   ]
  },
  {
   "cell_type": "code",
   "execution_count": 7,
   "metadata": {},
   "outputs": [
    {
     "data": {
      "text/plain": [
       "      T: 312.23088340038316\n",
       "      P: 2.0\n",
       "  error: 2.5688340343743878e-12\n",
       "   iter: 4\n",
       "      X: array([0.09352795, 0.33039408, 0.57607797])\n",
       "     v1: 108.73163446223263\n",
       " state1: 'Liquid'\n",
       "      Y: array([0.2, 0.5, 0.3])\n",
       "     v2: 12312.022678676838\n",
       " state2: 'Vapor'"
      ]
     },
     "execution_count": 7,
     "metadata": {},
     "output_type": "execute_result"
    }
   ],
   "source": [
    "y = np.array([0.2, 0.5, 0.3])\n",
    "P = 2.0\n",
    "x0 = np.array([0.2, 0.5, 0.3])\n",
    "T0 = 320.0\n",
    "dewTx(x0, T0, y, P, eos, full_output=True)"
   ]
  },
  {
   "cell_type": "markdown",
   "metadata": {},
   "source": [
    "For further information please also check [official documentation](https://phasepy.readthedocs.io/), or just try:\n",
    "\n",
    "```function?```"
   ]
  },
  {
   "cell_type": "code",
   "execution_count": null,
   "metadata": {},
   "outputs": [],
   "source": []
  }
 ],
 "metadata": {
  "kernelspec": {
   "display_name": "thermo",
   "language": "python",
   "name": "thermo"
  },
  "language_info": {
   "codemirror_mode": {
    "name": "ipython",
    "version": 3
   },
   "file_extension": ".py",
   "mimetype": "text/x-python",
   "name": "python",
   "nbconvert_exporter": "python",
   "pygments_lexer": "ipython3",
   "version": "3.9.7"
  }
 },
 "nbformat": 4,
 "nbformat_minor": 4
}
