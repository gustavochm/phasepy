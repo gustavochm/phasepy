{
 "cells": [
  {
   "cell_type": "markdown",
   "metadata": {},
   "source": [
    "# Square Gradient Theory for Mixtures\n",
    "\n",
    "Square Gradient Theory allows studying the interfacial behavior of fluid. SGT proposes that the Helmholtz free energy density at the interface can be described by the sum of a homogeneous and a gradient contribution, in which the density profiles between the bulk phases are mean to minimize the energy of the system. This results in the following Euler-Lagrange system: \n",
    "\n",
    "$$ \\sum_j c_{ij} \\frac{d^2 \\rho_j}{dz^2} = \\mu_i - \\mu_i^0 \\qquad i = 1,...,c$$ \n",
    "$$ \\rho(z \\rightarrow -\\infty) = \\rho^\\alpha \\qquad \\rho(z \\rightarrow \\infty) = \\rho^\\beta $$\n",
    "\n",
    "Here, $z$ represents the interfacial position,  $\\mu$, the chemical potential and $\\rho$ the density vector. The superscript 0 refers to the bulk phase value and $\\alpha$, $\\beta$ to the bulk phases index. Finally, $c_{ij}$, represents the cross-influence parameter between molecule $i$ and $j$ and, in general, is computed as the geometric mean of the pure fluid's influence parameter and a correction factor:\n",
    "\n",
    "$$ c_{ij} = (1 - \\beta_{ij}) \\sqrt{c_{ii} c_{jj}} $$\n",
    "\n",
    "The solution procedure of the SGT strongly depends on whether the influence parameter matrix is singular or not. f any of the correction parameter $\\beta_{ij}$ is different from zero, it is necessary to solve the Euler-Lagrange system as a boundary value problem (BVP) with a finite interfacial length. One numerical efficient method proposed by [Liang et al.](https://www.sciencedirect.com/science/article/pii/S0378381217302893) is to use orthogonal collocation which considerably reduces the grid to solve the density profiles and provides a direct route to compute interfacial tension. This is done with the ``sgt_mix`` function.\n",
    "\n",
    "An alternative formulation proposed by [Mu et al.](https://www.sciencedirect.com/science/article/pii/S0378381216305787), to modify the SGT Euler-Lagrange system, considering a time-stabilized form.\n",
    "\n",
    "$$ \\sum_j c_{ij} \\frac{d^2 \\rho_j}{dz^2} = \\frac{d \\rho_i}{ds} +  \\mu_i - \\mu_i^0 \\qquad i = 1,...,c $$\n",
    "\n",
    "This approach is performed by the ``msgt_mix`` function.\n",
    "\n",
    "\n",
    "Once the density profiles are solved the interfacial tension can be computed as:\n",
    "\n",
    "$$ \\sigma =  \\int_{-\\infty}^{\\infty} \\sum_i \\sum_j c_{ij} \\frac{d\\rho_i}{dz} \\frac{d\\rho_j}{dz} dz $$\n",
    "\n",
    "This notebook has the purpose of showing examples of computing interfacial tension of mixtures and $\\beta_{ij} \\neq 0$.\n",
    "\n",
    "First, it's needed to import the necessary modules"
   ]
  },
  {
   "cell_type": "code",
   "execution_count": 1,
   "metadata": {},
   "outputs": [],
   "source": [
    "import numpy as np\n",
    "from phasepy import component, mixture, prsveos\n",
    "from phasepy.equilibrium import bubblePy\n",
    "from phasepy.sgt import sgt_mix, msgt_mix\n",
    "import matplotlib.pyplot as plt"
   ]
  },
  {
   "cell_type": "markdown",
   "metadata": {},
   "source": [
    "Then the mixture and EoS are created. The bubble point of the mixture of x1 = 0.3 at 320K is computed. The ```full_output``` option allows obtaining the compositions, densities and equilibrium pressure."
   ]
  },
  {
   "cell_type": "code",
   "execution_count": 2,
   "metadata": {},
   "outputs": [],
   "source": [
    "hexane = component(name = 'n-Hexane', Tc = 507.6, Pc = 30.25, Zc = 0.266, Vc = 371.0, w = 0.301261, \n",
    "                ksv = [ 0.81185833, -0.08790848],\n",
    "                cii = [ 5.03377433e-24, -3.41297789e-21,  9.97008208e-19],\n",
    "                GC = {'CH3':2, 'CH2':4})\n",
    "\n",
    "ethanol = component(name = 'Ethanol', Tc = 514.0, Pc = 61.37, Zc = 0.241, Vc = 168.0, w = 0.643558,\n",
    "                ksv = [1.27092923, 0.0440421 ],\n",
    "                cii = [ 2.35206942e-24, -1.32498074e-21,  2.31193555e-19],\n",
    "                GC = {'CH3':1, 'CH2':1, 'OH(P)':1})\n",
    "\n",
    "mix = mixture(ethanol, hexane)\n",
    "# or \n",
    "mix = ethanol + hexane\n",
    "\n",
    "a12, a21 = np.array([1141.56994427,  125.25729314])\n",
    "A = np.array([[0, a12], [a21, 0]])\n",
    "mix.wilson(A)\n",
    "\n",
    "eos = prsveos(mix, 'mhv_wilson')\n",
    "\n",
    "T = 320 #K\n",
    "X = np.array([0.3, 0.7])\n",
    "P0 = 0.3 #bar\n",
    "Y0 = np.array([0.7, 0.3])\n",
    "\n",
    "sol = bubblePy(Y0, P0, X, T, eos, full_output = True)\n",
    "Y = sol.Y\n",
    "P = sol.P\n",
    "vl = sol.v1\n",
    "vv = sol.v2\n",
    "\n",
    "#computing the density vector\n",
    "rhol = X / vl\n",
    "rhov = Y / vv"
   ]
  },
  {
   "cell_type": "markdown",
   "metadata": {},
   "source": [
    "In order to set the beta correction is necessary to create the matrix and then use it with the  ```beta_sgt``` method from the eos. If this step is not done the ```sgt_mix``` or ```msgt_sgt``` function will raise an error as the influence parameter matrix will be singular. "
   ]
  },
  {
   "cell_type": "code",
   "execution_count": 3,
   "metadata": {},
   "outputs": [],
   "source": [
    "bij = 0.1\n",
    "beta = np.array([[0, bij], [bij, 0]])\n",
    "eos.beta_sgt(beta)"
   ]
  },
  {
   "cell_type": "markdown",
   "metadata": {},
   "source": [
    "The first option is to solve the BVP iteratively using orthogonal collocation. The initial interfacial length is set to 10 Amstrong and the density profiles are solved, then the interfacial length is increased until the calculated interfacial tension doesn't change more than a given tolerance.\n",
    "\n",
    "The initial value can be set as ```'linear'``` or ```'hyperbolic'``` to use a linear or a hyperbolic approximation. Optionally an array can be passed to the argument ```rho0``` or a TensionResult for another calculation, for example, the density profile computed with beta0 calculation."
   ]
  },
  {
   "cell_type": "code",
   "execution_count": 4,
   "metadata": {},
   "outputs": [],
   "source": [
    "sol = sgt_mix(rhol, rhov, T, P, eos, z0 = 10,  rho0 = 'linear', full_output = True)"
   ]
  },
  {
   "cell_type": "code",
   "execution_count": 5,
   "metadata": {},
   "outputs": [
    {
     "data": {
      "text/plain": [
       "array([0.00000000e+00, 3.58052641e-08, 9.84830120e-07, 5.89238684e-06,\n",
       "       2.04063727e-05, 5.48437142e-05, 1.34655653e-04, 3.48053772e-04,\n",
       "       1.02920029e-03, 3.06517319e-03, 7.01194889e-03, 1.10239854e-02,\n",
       "       1.32779240e-02, 1.30488849e-02, 1.03701432e-02, 6.58032831e-03,\n",
       "       3.29548017e-03, 1.29483240e-03, 3.90166908e-04, 7.56974612e-05,\n",
       "       3.53563956e-06, 0.00000000e+00])"
      ]
     },
     "execution_count": 5,
     "metadata": {},
     "output_type": "execute_result"
    }
   ],
   "source": [
    "sol.tension\n",
    "sol.rho\n",
    "sol.z\n",
    "sol.GPT"
   ]
  },
  {
   "cell_type": "markdown",
   "metadata": {},
   "source": [
    "The other option is to use a modified SGT system that includes a temporal variable which helps to reach the stationary density profile ignoring the nonlinearity of the BVP at the first iterations. This type of computation uses a fixed value for the interfacial length.\n",
    "\n",
    "The initial value options to solve the density profiles are the same as for ```sgt_mix```. In this case, the previously computed TensionResult is used as an initial guess."
   ]
  },
  {
   "cell_type": "code",
   "execution_count": 6,
   "metadata": {},
   "outputs": [],
   "source": [
    "solm = msgt_mix(rhol, rhov, T, P, eos, z = 20, rho0 = sol, full_output = True)"
   ]
  },
  {
   "cell_type": "code",
   "execution_count": 7,
   "metadata": {},
   "outputs": [
    {
     "data": {
      "text/plain": [
       "14.367813285943935"
      ]
     },
     "execution_count": 7,
     "metadata": {},
     "output_type": "execute_result"
    }
   ],
   "source": [
    "solm.tension"
   ]
  },
  {
   "cell_type": "code",
   "execution_count": 8,
   "metadata": {},
   "outputs": [
    {
     "name": "stdout",
     "output_type": "stream",
     "text": [
      "BVP SGT :  14.367813285943994 mN/m\n",
      "Modified BVP SGT :  14.367813285943935 mN/m\n"
     ]
    }
   ],
   "source": [
    "print('BVP SGT : ', sol.tension, 'mN/m')\n",
    "print('Modified BVP SGT : ', solm.tension, 'mN/m')"
   ]
  },
  {
   "cell_type": "markdown",
   "metadata": {},
   "source": [
    "Finally, the density profiles can be compared. It can be seen that when a correction to the cross-influence parameter just one stationary point across the interface."
   ]
  },
  {
   "cell_type": "code",
   "execution_count": 9,
   "metadata": {},
   "outputs": [
    {
     "data": {
      "text/plain": [
       "Text(0, 0.5, '$\\\\rho_2$ / kmol m$^{-3}$ ')"
      ]
     },
     "execution_count": 9,
     "metadata": {},
     "output_type": "execute_result"
    },
    {
     "data": {
      "image/png": "[encoded data removed]",
      "text/plain": [
       "<Figure size 360x360 with 1 Axes>"
      ]
     },
     "metadata": {
      "needs_background": "light"
     },
     "output_type": "display_data"
    }
   ],
   "source": [
    "%matplotlib inline\n",
    "#convert densitites to kmol/m3\n",
    "rho = sol.rho * 1000\n",
    "rhom = solm.rho * 1000 \n",
    "\n",
    "fig = plt.figure(figsize = (5,5))\n",
    "ax = fig.add_subplot(111)\n",
    "ax.plot(rho[0], rho[1], '--')\n",
    "ax.plot(rhom[0], rhom[1], '.')\n",
    "ax.set_xlabel(r'$\\rho_1$ / kmol m$^{-3}$ ')\n",
    "ax.set_ylabel(r'$\\rho_2$ / kmol m$^{-3}$ ')"
   ]
  },
  {
   "cell_type": "markdown",
   "metadata": {},
   "source": [
    "For further information please also check [official documentation](https://phasepy.readthedocs.io/), or just try:\n",
    "\n",
    "```function?```"
   ]
  },
  {
   "cell_type": "code",
   "execution_count": null,
   "metadata": {},
   "outputs": [],
   "source": []
  }
 ],
 "metadata": {
  "kernelspec": {
   "display_name": "thermo",
   "language": "python",
   "name": "thermo"
  },
  "language_info": {
   "codemirror_mode": {
    "name": "ipython",
    "version": 3
   },
   "file_extension": ".py",
   "mimetype": "text/x-python",
   "name": "python",
   "nbconvert_exporter": "python",
   "pygments_lexer": "ipython3",
   "version": "3.9.7"
  }
 },
 "nbformat": 4,
 "nbformat_minor": 2
}
