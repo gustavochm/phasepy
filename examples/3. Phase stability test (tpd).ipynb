{
 "cells": [
  {
   "cell_type": "markdown",
   "metadata": {},
   "source": [
    "# Stability testing with Tangent Plane Distance (TPD) function\n",
    "\n",
    "The [tangent plane distance](https://www.sciencedirect.com/science/article/pii/0378381282850012) ($tpd$) function allows testing the relative stability of a phase of composition $z$ against a trial phase of composition $w$ at fixed temperature and pressure].\n",
    "\n",
    "\n",
    "$$ tpd(\\underline{w}) =  \\sum_{i=1}^c w_i (\\ln w_i +  \\ln \\hat{\\phi}_i(\\underline{w})\n",
    "- \\ln z_i - \\ln \\hat{\\phi}_i(\\underline{z})) $$\n",
    "\n",
    "Usually, this function is minimized to check the stability of the given phase based on the following criteria:\n",
    "- If the minimized $tpd$ is positive, the global phase $z$ is stable.\n",
    "- If the minimized $tpd$ is zero, the global phase $z$ and trial phase $w$ are in equilibrium.\n",
    "- If the minimized $tpd$ is negative, the global phase $z$ is unstable\n",
    "\n",
    "\n",
    "In this notebook, stability analysis for the mixture of water and mtbe will be performed. To start, the required functions are imported."
   ]
  },
  {
   "cell_type": "code",
   "execution_count": 1,
   "metadata": {},
   "outputs": [],
   "source": [
    "import numpy as np\n",
    "from phasepy import component, mixture, preos\n",
    "from phasepy.equilibrium import tpd_min, tpd_minimas, lle_init"
   ]
  },
  {
   "cell_type": "markdown",
   "metadata": {},
   "source": [
    "Then, the mixture of water and mtbe and its interaction parameters are set up."
   ]
  },
  {
   "cell_type": "code",
   "execution_count": 2,
   "metadata": {},
   "outputs": [],
   "source": [
    "water = component(name='water', Tc=647.13, Pc=220.55, Zc=0.229, Vc=55.948, w=0.344861,\n",
    "                  Ant=[11.64785144, 3797.41566067, -46.77830444],\n",
    "                  GC={'H2O':1})\n",
    "\n",
    "mtbe = component(name='mtbe', Tc=497.1, Pc=34.3, Zc=0.273, Vc=329.0, w=0.266059,\n",
    "                 Ant=[9.16238246, 2541.97883529, -50.40534341], \n",
    "                 GC={'CH3':3, 'CH3O':1, 'C':1})\n",
    "\n",
    "mix = mixture(water, mtbe)\n",
    "\n",
    "# or\n",
    "\n",
    "mix = water + mtbe\n",
    "\n",
    "mix.unifac()\n",
    "eos = preos(mix, 'mhv_unifac')"
   ]
  },
  {
   "cell_type": "markdown",
   "metadata": {},
   "source": [
    "----\n",
    "### tpd_min\n",
    "\n",
    "The ``tpd_min`` function searches for a phase composition corresponding to a minimum of $tpd$ function given an initial value. The user needs to specify whether the trial (W) and reference (Z) phases are liquids (``L``) or vapors (``V``)."
   ]
  },
  {
   "cell_type": "code",
   "execution_count": 3,
   "metadata": {},
   "outputs": [
    {
     "name": "stdout",
     "output_type": "stream",
     "text": [
      "Liquid molar fractions and TPD value: (array([0.11779034, 0.88220966]), -0.0859542665231543)\n",
      "Vapor molar fractions and TPD value: (array([0.17422237, 0.82577763]), 0.07570203456337987)\n"
     ]
    }
   ],
   "source": [
    "T = 320.0\n",
    "P = 1.01\n",
    "z = np.array([0.5, 0.5])\n",
    "w = np.array([0.01, 0.99])\n",
    "print(\"Liquid molar fractions and TPD value:\", tpd_min(w, z, T, P, eos, stateW='L', stateZ='L'))\n",
    "print(\"Vapor molar fractions and TPD value:\", tpd_min(w, z, T, P, eos, stateW='V', stateZ='L'))"
   ]
  },
  {
   "cell_type": "markdown",
   "metadata": {},
   "source": [
    "---\n",
    "### tpd_minimas\n",
    "The ``tpd_minimas`` function will attempt (but does not guarantee) to search for ``nmin`` minima of the $tpd$ function. As for the ``tpd_min`` function, you need to specify the aggregation state of the global (``z``) and the trial phase (``w``)."
   ]
  },
  {
   "cell_type": "code",
   "execution_count": 4,
   "metadata": {},
   "outputs": [
    {
     "name": "stdout",
     "output_type": "stream",
     "text": [
      "TPD liquid minima: ((array([0.99868736, 0.00131264]), array([0.11778925, 0.88221075])), array([-0.73704754, -0.08595427]))\n",
      "TPD vapor minima: ((array([0.17422234, 0.82577766]), array([0.17422234, 0.82577766])), array([0.07570203, 0.07570203]))\n"
     ]
    }
   ],
   "source": [
    "nmin = 2\n",
    "print(\"TPD liquid minima:\", tpd_minimas(nmin, z, T, P, eos, stateW='L', stateZ='L'))\n",
    "print(\"TPD vapor minima:\", tpd_minimas(nmin, z, T, P, eos, stateW='V', stateZ='L'))"
   ]
  },
  {
   "cell_type": "markdown",
   "metadata": {},
   "source": [
    "---\n",
    "### lle_init\n",
    "\n",
    "Finally, the ``lle_init`` function can be used to find initial guesses for liquid-liquid equilibrium calculation.\n",
    "\n",
    "This function call ``tpd_minimas`` with ``nmin=2`` and liquid state for trial and global phase."
   ]
  },
  {
   "cell_type": "code",
   "execution_count": 5,
   "metadata": {},
   "outputs": [
    {
     "data": {
      "text/plain": [
       "(array([0.99868736, 0.00131264]), array([0.11778925, 0.88221075]))"
      ]
     },
     "execution_count": 5,
     "metadata": {},
     "output_type": "execute_result"
    }
   ],
   "source": [
    "lle_init(z, T, P, eos)"
   ]
  },
  {
   "cell_type": "markdown",
   "metadata": {},
   "source": [
    "For further information please also check [official documentation](https://phasepy.readthedocs.io/), or just try:\n",
    "\n",
    "```function?```"
   ]
  },
  {
   "cell_type": "code",
   "execution_count": null,
   "metadata": {},
   "outputs": [],
   "source": []
  }
 ],
 "metadata": {
  "kernelspec": {
   "display_name": "thermo",
   "language": "python",
   "name": "thermo"
  },
  "language_info": {
   "codemirror_mode": {
    "name": "ipython",
    "version": 3
   },
   "file_extension": ".py",
   "mimetype": "text/x-python",
   "name": "python",
   "nbconvert_exporter": "python",
   "pygments_lexer": "ipython3",
   "version": "3.9.7"
  }
 },
 "nbformat": 4,
 "nbformat_minor": 4
}
