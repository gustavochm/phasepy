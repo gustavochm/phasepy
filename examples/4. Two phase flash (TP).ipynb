{
 "cells": [
  {
   "cell_type": "markdown",
   "metadata": {},
   "source": [
    "# Two-Phase Flash Calculation (VLE and LLE)\n",
    "\n",
    "The isothermal-isobaric two-phase flash is carried out by a combination of accelerated successive substitution (ASS) to update phase compositions and Halley's method to solve the Rachford-Rice mass balance. \n",
    "\n",
    "$$ FO = \\sum_{i=1}^c \\left( x_i^\\beta - x_i^\\alpha \\right) = \\sum_{i=1}^c \\frac{z_i (K_i-1)}{1+\\psi (K_i-1)} $$\n",
    "\n",
    "Where,  $K_i = x_i^\\beta/x_i^\\alpha =\\hat{\\phi}_i^\\alpha /\\hat{\\phi}_i^\\beta  $ represents the equilibrium constant  and $\\psi$ the fraction of the phase $\\beta$. The described method can be slow at high pressures, for that reason, the number of cycles of ASS is limited to ``nacc`` cycles and if no solution is reached the algorithm changes to a second-order procedure based on Gibbs free energy minimization:\n",
    "\n",
    "$$ min \\, {G(\\underline{F}^\\alpha, \\underline{F}^\\beta)} = \\sum_{i=1}^c (F_i^\\alpha \\ln \\hat{f}_i^\\alpha + F_i^\\beta \\ln \\hat{f}_i^\\beta) $$\n",
    "\n",
    "Here, $F$ refers to the number of moles and $\\hat{f}$ to the effective fugacity, the superscript refers to the phase index and the subscript to the specie index. The optimization is performed using SciPy minimization routines.\n",
    "\n",
    "Phasepy ``flash`` routine solves phase compositions for two-phase flash at constant pressure and temperature (PT-flash).  The ```flash``` function requires initial guesses for the phase compositions, the states of the phases, i.e ```LV``` fo liquid-vapor flash or ```LL``` for liquid-liquid flash, the global phase composition (``z``),  the temperature (``T``) and pressure (``P``) of the system.\n",
    "\n",
    "In this notebook, Vapor-Liquid and Liquid-Liquid flash calculation will be exemplified. Examples below apply Peng-Robinson equation of state. The mixing rule applied is Modified Huron Vidal combined with Modified UNIFAC.\n",
    "\n",
    "To start, the required functions are imported."
   ]
  },
  {
   "cell_type": "code",
   "execution_count": 1,
   "metadata": {},
   "outputs": [],
   "source": [
    "import numpy as np\n",
    "from phasepy import mixture, component, preos\n",
    "from phasepy.equilibrium import flash"
   ]
  },
  {
   "cell_type": "markdown",
   "metadata": {},
   "source": [
    "---\n",
    "### Vapor Liquid Equilibrium Flash\n",
    "\n",
    "This calculation will be exemplified for the mixture of ethanol and water."
   ]
  },
  {
   "cell_type": "code",
   "execution_count": 2,
   "metadata": {},
   "outputs": [
    {
     "data": {
      "text/plain": [
       "      T: 350.0\n",
       "      P: 0.8\n",
       "   beta: 0.4665703979134844\n",
       "  error: 9.457065565351011e-09\n",
       "   iter: 7\n",
       "      X: array([0.23951597, 0.76048403])\n",
       "     v1: 32.508879490778675\n",
       " state1: 'L'\n",
       "      Y: array([0.58348128, 0.41651872])\n",
       "     v2: 35869.13850298779\n",
       " state2: 'V'"
      ]
     },
     "execution_count": 2,
     "metadata": {},
     "output_type": "execute_result"
    }
   ],
   "source": [
    "water = component(name='water', Tc=647.13, Pc=220.55, \n",
    "                  w=0.344861, GC={'H2O':1})\n",
    "\n",
    "ethanol = component(name='ethanol', Tc=514.0, Pc=61.37,\n",
    "                    w=0.643558, GC={'CH3':1, 'CH2':1, 'OH(P)':1})\n",
    "\n",
    "mix = mixture(ethanol, water)\n",
    "# or\n",
    "mix = ethanol + water\n",
    "\n",
    "mix.unifac() \n",
    "eos = preos(mix, 'mhv_unifac')\n",
    "T = 350.0\n",
    "P = 0.8\n",
    "Z = np.array([0.4, 0.6])\n",
    "x0 = np.array([0.23512692, 0.76487308])\n",
    "y0 = np.array([0.5, 0.5])\n",
    "flash(x0, y0, 'LV', Z, T, P, eos, full_output=True)"
   ]
  },
  {
   "cell_type": "markdown",
   "metadata": {},
   "source": [
    "---\n",
    "### Liquid Liquid Equilibrium Flash\n",
    "\n",
    "This calculation will be exemplified for the mixture of water and butanol."
   ]
  },
  {
   "cell_type": "code",
   "execution_count": 3,
   "metadata": {},
   "outputs": [
    {
     "data": {
      "text/plain": [
       "      T: 320.0\n",
       "      P: 1.01\n",
       "   beta: 0.46991089151358123\n",
       "  error: 2.9082881323704062e-09\n",
       "   iter: 7\n",
       "      X: array([0.05876434, 0.94123566])\n",
       "     v1: 112.09263402948604\n",
       " state1: 'L'\n",
       "      Y: array([0.99774164, 0.00225836])\n",
       "     v2: 21.756817287953822\n",
       " state2: 'L'"
      ]
     },
     "execution_count": 3,
     "metadata": {},
     "output_type": "execute_result"
    }
   ],
   "source": [
    "water = component(name='water', Tc=647.13, Pc=220.55, Zc=0.229, Vc=55.948, w=0.344861,\n",
    "                  Ant=[11.64785144, 3797.41566067, -46.77830444],\n",
    "                  GC={'H2O':1})\n",
    "\n",
    "mtbe = component(name='mtbe', Tc=497.1, Pc=34.3, Zc=0.273, Vc=329.0, w=0.266059,\n",
    "                 Ant=[9.16238246, 2541.97883529, -50.40534341],\n",
    "                 GC={'CH3':3, 'CH3O':1, 'C':1})\n",
    "\n",
    "mix = mixture(water, mtbe)\n",
    "# or\n",
    "mix = water + mtbe\n",
    "mix.unifac()\n",
    "eos = preos(mix, 'mhv_unifac')\n",
    "T = 320.0\n",
    "P = 1.01\n",
    "Z = np.array([0.5, 0.5])\n",
    "x0 = np.array([0.01, 0.99])\n",
    "w0 = np.array([0.99, 0.01])\n",
    "flash(x0, w0, 'LL', Z, T, P, eos, full_output=True)"
   ]
  },
  {
   "cell_type": "markdown",
   "metadata": {},
   "source": [
    "For further information please also check [official documentation](https://phasepy.readthedocs.io/), or just try:\n",
    "\n",
    "```function?```"
   ]
  },
  {
   "cell_type": "code",
   "execution_count": null,
   "metadata": {},
   "outputs": [],
   "source": []
  }
 ],
 "metadata": {
  "kernelspec": {
   "display_name": "thermo",
   "language": "python",
   "name": "thermo"
  },
  "language_info": {
   "codemirror_mode": {
    "name": "ipython",
    "version": 3
   },
   "file_extension": ".py",
   "mimetype": "text/x-python",
   "name": "python",
   "nbconvert_exporter": "python",
   "pygments_lexer": "ipython3",
   "version": "3.9.7"
  }
 },
 "nbformat": 4,
 "nbformat_minor": 4
}
