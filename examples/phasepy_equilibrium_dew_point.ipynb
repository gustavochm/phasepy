{
 "cells": [
  {
   "cell_type": "markdown",
   "metadata": {},
   "source": [
    "# Dew Point (VLE)\n",
    "\n",
    "Examples of calculation of dew point properties."
   ]
  },
  {
   "cell_type": "code",
   "execution_count": 1,
   "metadata": {},
   "outputs": [],
   "source": [
    "import numpy as np\n",
    "from phasepy import mixture, component, prsveos, rkeos\n",
    "from phasepy.equilibrium import dewPx, dewTx"
   ]
  },
  {
   "cell_type": "markdown",
   "metadata": {},
   "source": [
    "# Binary mixture example\n",
    "\n",
    "This example uses Peng-Robinson-Stryjek-Vera equation of state. The mixing rule applied is Modified Huron Vidal combined with Redlich-Kister."
   ]
  },
  {
   "cell_type": "code",
   "execution_count": 2,
   "metadata": {},
   "outputs": [],
   "source": [
    "ethanol = component(name='ethanol', Tc=514.0, Pc=61.37, Zc=0.241, Vc=168.0, w=0.643558,\n",
    "                    ksv=[1.27092923, 0.0440421])\n",
    "\n",
    "mtbe = component(name='mtbe', Tc=497.1, Pc=34.3, Zc=0.273, Vc=329.0, w=0.266059,\n",
    "                 ksv=[0.76429651, 0.04242646])\n",
    "\n",
    "mix = mixture(mtbe, ethanol)\n",
    "C0 = np.array([0.02635196, -0.02855964, 0.01592515])\n",
    "C1 = np.array([312.575789, 50.1476555, 5.13981131])\n",
    "mix.rk(C0, C1)\n",
    "eos = prsveos(mix, mixrule='mhv_rk')"
   ]
  },
  {
   "cell_type": "markdown",
   "metadata": {},
   "source": [
    "-----\n",
    "Dew point algorithm y, T -> x, P"
   ]
  },
  {
   "cell_type": "code",
   "execution_count": 3,
   "metadata": {},
   "outputs": [
    {
     "data": {
      "text/plain": [
       "      T: 350.0\n",
       "      P: 1.544597371354093\n",
       "  error: 1.0031064867632722e-10\n",
       "   iter: 6\n",
       "      X: array([0.23512692, 0.76487308])\n",
       "     v1: 79.85925570828724\n",
       " state1: 'Liquid'\n",
       "      Y: array([0.5, 0.5])\n",
       "     v2: 18058.942068043492\n",
       " state2: 'Vapor'"
      ]
     },
     "execution_count": 3,
     "metadata": {},
     "output_type": "execute_result"
    }
   ],
   "source": [
    "y = np.array([0.5, 0.5])\n",
    "T = 350.0\n",
    "x0 = np.array([0.5, 0.5])\n",
    "P0 = 1.0\n",
    "P0 = 10.0\n",
    "dewPx(x0, P0, y, T, eos, full_output=True)"
   ]
  },
  {
   "cell_type": "markdown",
   "metadata": {},
   "source": [
    "-----\n",
    "Dew point algorithm y, P -> x, T"
   ]
  },
  {
   "cell_type": "code",
   "execution_count": 4,
   "metadata": {},
   "outputs": [
    {
     "data": {
      "text/plain": [
       "      T: 341.75568327159453\n",
       "      P: 1.0\n",
       "  error: 1.1546319456101694e-14\n",
       "   iter: 5\n",
       "      X: array([0.1357666, 0.8642334])\n",
       "     v1: 73.2467337525917\n",
       " state1: 'Liquid'\n",
       "      Y: array([0.4, 0.6])\n",
       "     v2: 27627.203998257126\n",
       " state2: 'Vapor'"
      ]
     },
     "execution_count": 4,
     "metadata": {},
     "output_type": "execute_result"
    }
   ],
   "source": [
    "y = np.array([0.4, 0.6])\n",
    "P = 1.0\n",
    "x0 = np.array([0.1, 0.9])\n",
    "T0 = 360.0\n",
    "dewTx(x0, T0, y, P, eos, full_output=True)"
   ]
  },
  {
   "cell_type": "markdown",
   "metadata": {},
   "source": [
    "# Ternary mixture example\n",
    "\n",
    "This example uses Redlich Kwong equation of state. The mixing rule applied is Modified Huron Vidal combined with Modified UNIFAC."
   ]
  },
  {
   "cell_type": "code",
   "execution_count": 5,
   "metadata": {},
   "outputs": [],
   "source": [
    "mtbe = component(name='mtbe', Tc=497.1, Pc=34.3, Zc=0.273, Vc=329.0, w=0.266059,\n",
    "                 Ant=[9.16238246, 2541.97883529, -50.40534341],\n",
    "                 GC={'CH3':3, 'CH3O':1, 'C':1})\n",
    "\n",
    "ethanol = component(name='ethanol', Tc=514.0, Pc=61.37, Zc=0.241, Vc=168.0, w=0.643558,\n",
    "                    Ant=[11.61809279, 3423.0259436, -56.48094263],\n",
    "                    GC={'CH3':1, 'CH2':1, 'OH(P)':1})\n",
    "\n",
    "butanol = component(name='n-Butanol', Tc=563.0, Pc=44.14, Zc=0.258, Vc=274.0, w=0.589462,\n",
    "                    Ant=[9.74673479, 2668.52570016, -116.66189545],\n",
    "                    GC={'CH3':1, 'CH2':3, 'OH(P)':1})\n",
    "\n",
    "mix = mixture(mtbe, ethanol)\n",
    "mix.add_component(butanol)\n",
    "mix.unifac()\n",
    "eos = rkeos(mix, 'mhv_unifac')"
   ]
  },
  {
   "cell_type": "markdown",
   "metadata": {},
   "source": [
    "-----\n",
    "Dew point y, T -> x, P"
   ]
  },
  {
   "cell_type": "code",
   "execution_count": 6,
   "metadata": {},
   "outputs": [
    {
     "data": {
      "text/plain": [
       "      T: 350.0\n",
       "      P: 4.860776708694682\n",
       "  error: 1.8691714842589136e-12\n",
       "   iter: 5\n",
       "      X: array([0.10835492, 0.35502478, 0.5366203 ])\n",
       "     v1: 115.51058483258873\n",
       " state1: 'Liquid'\n",
       "      Y: array([0.2, 0.5, 0.3])\n",
       "     v2: 5398.966638137913\n",
       " state2: 'Vapor'"
      ]
     },
     "execution_count": 6,
     "metadata": {},
     "output_type": "execute_result"
    }
   ],
   "source": [
    "y = np.array([0.2, 0.5, 0.3])\n",
    "T = 350.0\n",
    "x0 = np.array([0.2, 0.5, 0.3])\n",
    "P0 = 1.0\n",
    "dewPx(x0, P0, y, T, eos, full_output=True)"
   ]
  },
  {
   "cell_type": "markdown",
   "metadata": {},
   "source": [
    "-----\n",
    "Dew point y, P -> y, T"
   ]
  },
  {
   "cell_type": "code",
   "execution_count": 7,
   "metadata": {},
   "outputs": [
    {
     "data": {
      "text/plain": [
       "      T: 312.2308610668499\n",
       "      P: 2.0\n",
       "  error: 2.5939250747308517e-12\n",
       "   iter: 4\n",
       "      X: array([0.09352745, 0.33039433, 0.57607822])\n",
       "     v1: 108.7316118147956\n",
       " state1: 'Liquid'\n",
       "      Y: array([0.2, 0.5, 0.3])\n",
       "     v2: 12312.021812268273\n",
       " state2: 'Vapor'"
      ]
     },
     "execution_count": 7,
     "metadata": {},
     "output_type": "execute_result"
    }
   ],
   "source": [
    "y = np.array([0.2, 0.5, 0.3])\n",
    "P = 2.0\n",
    "x0 = np.array([0.2, 0.5, 0.3])\n",
    "T0 = 320.0\n",
    "dewTx(x0, T0, y, P, eos, full_output=True)"
   ]
  },
  {
   "cell_type": "markdown",
   "metadata": {},
   "source": [
    "Please also check [official documentation](https://phasepy.readthedocs.io/), or just try:\n",
    "\n",
    "```function?```"
   ]
  },
  {
   "cell_type": "code",
   "execution_count": null,
   "metadata": {},
   "outputs": [],
   "source": []
  }
 ],
 "metadata": {
  "kernelspec": {
   "display_name": "Python 3",
   "language": "python",
   "name": "python3"
  },
  "language_info": {
   "codemirror_mode": {
    "name": "ipython",
    "version": 3
   },
   "file_extension": ".py",
   "mimetype": "text/x-python",
   "name": "python",
   "nbconvert_exporter": "python",
   "pygments_lexer": "ipython3",
   "version": "3.8.3"
  }
 },
 "nbformat": 4,
 "nbformat_minor": 4
}
