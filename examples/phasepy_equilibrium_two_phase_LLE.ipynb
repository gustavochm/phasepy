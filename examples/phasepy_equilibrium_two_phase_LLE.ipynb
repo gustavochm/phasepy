{
 "cells": [
  {
   "cell_type": "markdown",
   "metadata": {},
   "source": [
    "# Liquid Liquid Equilibrium (LLE)\n",
    "\n",
    "This example shows solution of equilibrium involving two liquid phases using ``lle`` function."
   ]
  },
  {
   "cell_type": "code",
   "execution_count": 1,
   "metadata": {},
   "outputs": [
    {
     "data": {
      "text/plain": [
       "           T: 320.0\n",
       "           P: 1.01\n",
       " error_outer: 1.1444982534455961e-10\n",
       " error_inner: 1.0505014660913268e-10\n",
       "        iter: 13\n",
       "        beta: array([0.58896516, 0.41103484])\n",
       "       tetha: array([0.])\n",
       "           X: array([[0.1560131 , 0.8439869 ],\n",
       "       [0.99289324, 0.00710676]])\n",
       "           v: [None, None]\n",
       "      states: ['L', 'L']"
      ]
     },
     "execution_count": 1,
     "metadata": {},
     "output_type": "execute_result"
    }
   ],
   "source": [
    "import numpy as np\n",
    "from phasepy import component, mixture, virialgamma, unifac\n",
    "from phasepy.equilibrium import lle\n",
    "\n",
    "water = component(name='water', Tc=647.13, Pc=220.55, Zc=0.229, Vc=55.948, w=0.344861,\n",
    "                  Ant=[11.64785144, 3797.41566067, -46.77830444],\n",
    "                  GC={'H2O':1})\n",
    "\n",
    "mtbe = component(name='mtbe', Tc=497.1, Pc=34.3, Zc=0.273, Vc=329.0, w=0.266059,\n",
    "                 Ant=[9.16238246, 2541.97883529, -50.40534341],\n",
    "                 GC={'CH3':3, 'CH3O':1, 'C':1})\n",
    "\n",
    "mix = mixture(water, mtbe)\n",
    "mix.unifac()\n",
    "eos = virialgamma(mix, actmodel='unifac')\n",
    "T = 320.0\n",
    "P = 1.01\n",
    "Z = np.array([0.5, 0.5])\n",
    "x0 = np.array([0.01, 0.99])\n",
    "w0 = np.array([0.99, 0.01])\n",
    "lle(x0, w0, Z, T, P, eos, full_output=True)"
   ]
  },
  {
   "cell_type": "markdown",
   "metadata": {},
   "source": [
    "-----\n",
    "``lle_init`` function searches for minima of the tangent plane distance (TPD) function. Results can be used as initial values for ``lle``."
   ]
  },
  {
   "cell_type": "code",
   "execution_count": 2,
   "metadata": {},
   "outputs": [
    {
     "data": {
      "text/plain": [
       "(array([0.99538258, 0.00461742]), array([0.30683406, 0.69316594]))"
      ]
     },
     "execution_count": 2,
     "metadata": {},
     "output_type": "execute_result"
    }
   ],
   "source": [
    "from phasepy.equilibrium import lle_init\n",
    "from phasepy import preos \n",
    "eos = preos(mix, 'mhv_unifac')\n",
    "T = 320.0\n",
    "P = 1.01\n",
    "z = np.array([0.5, 0.5])\n",
    "lle_init(z, T, P, eos)"
   ]
  },
  {
   "cell_type": "markdown",
   "metadata": {},
   "source": [
    "Please also check [official documentation](https://phasepy.readthedocs.io/), or just try:\n",
    "\n",
    "```function?```"
   ]
  },
  {
   "cell_type": "code",
   "execution_count": null,
   "metadata": {},
   "outputs": [],
   "source": []
  }
 ],
 "metadata": {
  "kernelspec": {
   "display_name": "Python 3",
   "language": "python",
   "name": "python3"
  },
  "language_info": {
   "codemirror_mode": {
    "name": "ipython",
    "version": 3
   },
   "file_extension": ".py",
   "mimetype": "text/x-python",
   "name": "python",
   "nbconvert_exporter": "python",
   "pygments_lexer": "ipython3",
   "version": "3.8.3"
  }
 },
 "nbformat": 4,
 "nbformat_minor": 4
}
