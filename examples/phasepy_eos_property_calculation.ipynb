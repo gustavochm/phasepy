{
 "cells": [
  {
   "cell_type": "markdown",
   "metadata": {},
   "source": [
    "# Property Calculation with Cubic EoS\n",
    "\n",
    "This workbook shows examples of calculation of physical properties for pure components and mixtures using a cubic equation of state model (Peng-Robinson EoS ``preos`` is used in these examples).\n",
    "\n",
    "**Note:** Thermal derived properties (residual entropy, residual enthalpy, residual heat capacities and speed of sound) need partial temperature derivatives, which is computed numerically using the classical 4th order Runge–Kutta method ($O(h^4)$ approximation)."
   ]
  },
  {
   "cell_type": "markdown",
   "metadata": {},
   "source": [
    "# Pure component properties"
   ]
  },
  {
   "cell_type": "code",
   "execution_count": 11,
   "metadata": {},
   "outputs": [],
   "source": [
    "import numpy as np\n",
    "from phasepy import component, preos\n",
    "water = component(name='water', Tc=647.13, Pc=220.55, Zc=0.229, Vc=55.948, w=0.344861,\n",
    "                  GC={'H2O':1}, Mw=18.04)\n",
    "eos = preos(water)"
   ]
  },
  {
   "cell_type": "markdown",
   "metadata": {},
   "source": [
    "## Density\n",
    "\n",
    "The density of the fluid is computed with the ``eos.density`` method [mol/cm3]. It requires the temperature, pressure and the aggregation state."
   ]
  },
  {
   "cell_type": "code",
   "execution_count": 12,
   "metadata": {},
   "outputs": [
    {
     "data": {
      "text/plain": [
       "(0.045697369422639834, 3.5769380018112745e-05)"
      ]
     },
     "execution_count": 12,
     "metadata": {},
     "output_type": "execute_result"
    }
   ],
   "source": [
    "T = 340.0 # K\n",
    "P = 1.0 # bar\n",
    "eos.density(T, P, 'L'), eos.density(T, P, 'V')"
   ]
  },
  {
   "cell_type": "markdown",
   "metadata": {},
   "source": [
    "## Pressure\n",
    "\n",
    "The pressure of the fluid can be computed at given molar volume and temperature using the ``eos.pressure`` method [bar]. "
   ]
  },
  {
   "cell_type": "code",
   "execution_count": 13,
   "metadata": {},
   "outputs": [
    {
     "data": {
      "text/plain": [
       "(array([1.]), array([1.]))"
      ]
     },
     "execution_count": 13,
     "metadata": {},
     "output_type": "execute_result"
    }
   ],
   "source": [
    "rhol = 0.045697369422639834\n",
    "vl = 1.0/rhol\n",
    "rhov = 3.5769380018112745e-05\n",
    "vv = 1.0/rhov\n",
    "eos.pressure(T, vl), eos.pressure(T, vv)"
   ]
  },
  {
   "cell_type": "markdown",
   "metadata": {},
   "source": [
    "## Validation of phase equilibrium\n",
    "\n",
    "For pure fluids, the ``eos.psat`` method allows to compute the saturation pressure at given temperature. It returns the equilibrium pressure and molar volumes of the liquid and vapor phase. \n",
    "\n",
    "The phase equilibria can be verified through fugacity coefficients using the ``eos.logfug`` method or by using chemical potentials with the ``eos.muad`` method."
   ]
  },
  {
   "cell_type": "code",
   "execution_count": 14,
   "metadata": {},
   "outputs": [
    {
     "name": "stdout",
     "output_type": "stream",
     "text": [
      "Fugacity coefficients: [-0.00269341] [-0.00269341] are equal: True\n",
      "Chemical potentials: [-0.61292691] [-0.61292691] are equal: True\n"
     ]
    }
   ],
   "source": [
    "Psat, vlsat, vvsat = eos.psat(T)\n",
    "\n",
    "# Get fugacity coefficients and phase volumes\n",
    "logfugl, vlsat = eos.logfug(T, Psat, 'L')\n",
    "logfugv, vvsat = eos.logfug(T, Psat, 'V')\n",
    "\n",
    "# Calculate chemical potentials\n",
    "Tfactor, Pfactor, rofactor, tenfactor, zfactor = eos.sgt_adim(T)\n",
    "Tad = T * Tfactor\n",
    "rholad = 1/vlsat * rofactor\n",
    "rhovad = 1/vvsat * rofactor\n",
    "mul = eos.muad(rholad, Tad)\n",
    "muv = eos.muad(rhovad, Tad)\n",
    "\n",
    "print('Fugacity coefficients:', logfugl, logfugv, 'are equal:', np.allclose(logfugl, logfugv))\n",
    "print('Chemical potentials:', mul, muv, 'are equal:', np.allclose(mul, muv))"
   ]
  },
  {
   "cell_type": "markdown",
   "metadata": {},
   "source": [
    "## Thermal derived properties\n",
    "\n",
    "The ``eos`` object also includes the calculation of some thermal derived properties such as residual entropy (``eos.EntropyR``), residual enthalpy (``eos.EnthalpyR``), residual isochoric heat capacity (``eos.CvR``), and residual isobaric heat capacity (``eos.CpR``).\n",
    "\n",
    "For the speed of sound calculation (``eos.speed_sound``) the ideal gas heat capacities are required. In the example the isochoric and isobaric ideal gas contribution are set to $3R/2$ and $5R/2$, respectively. Better values of ideal gas heat capacities contribution can be found from empirical correlations, e.g. DIPPR 801."
   ]
  },
  {
   "cell_type": "code",
   "execution_count": 15,
   "metadata": {},
   "outputs": [
    {
     "name": "stdout",
     "output_type": "stream",
     "text": [
      "Vaporization Entropy: [128.64101949] J/(mol K)\n",
      "Vaporization Enthalpy: [43737.94662499] J/mol\n",
      "Residual isochoric heat capacity: [30.75238107] J/(mol K)\n",
      "Residual isobaric heat capacity: [47.74395699] J/(mol K)\n",
      "Speed of sound: [508.71361585] m/s\n"
     ]
    }
   ],
   "source": [
    "# vaporization entropy [J/(mol K)]\n",
    "Svap = eos.EntropyR(T, Psat, 'V') - eos.EntropyR(T, Psat, 'L')\n",
    "\n",
    "# vaporization enthalpy [J/mol]\n",
    "Hvap = eos.EnthalpyR(T, Psat, 'V') - eos.EnthalpyR(T, Psat, 'L')\n",
    "\n",
    "# isochoric and isobaric residual heat capacities [J/(mol K)]\n",
    "cvr = eos.CvR(T, P, 'L')\n",
    "cpr = eos.CpR(T, P, 'L')\n",
    "\n",
    "# speed of sound using ideal gas heat capacities [m/s]\n",
    "r = 8.314  # J/(mol K)\n",
    "CvId = 3*r/2\n",
    "CpId = 5*r/2\n",
    "w = eos.speed_sound(T, P, 'V', CvId=CvId, CpId=CpId)\n",
    "\n",
    "print('Vaporization Entropy:', Svap, 'J/(mol K)')\n",
    "print('Vaporization Enthalpy:', Hvap, 'J/mol')\n",
    "print('Residual isochoric heat capacity:', cvr, 'J/(mol K)')\n",
    "print('Residual isobaric heat capacity:', cpr, 'J/(mol K)')\n",
    "print('Speed of sound:', w, 'm/s')"
   ]
  },
  {
   "cell_type": "markdown",
   "metadata": {},
   "source": [
    "# Mixture properties\n",
    "\n",
    "Following mixture examples use the Peng-Robinson EoS using the MHV mixing rule and the UNIFAC activity coefficient model."
   ]
  },
  {
   "cell_type": "code",
   "execution_count": 16,
   "metadata": {},
   "outputs": [],
   "source": [
    "from phasepy import mixture\n",
    "water = component(name='water', Tc=647.13, Pc=220.55, Zc=0.229, Vc=55.948, w=0.344861,\n",
    "                  GC={'H2O':1}, Mw=18.04)\n",
    "ethanol = component(name='ethanol', Tc=514.0, Pc=61.37, Zc=0.241, Vc=168.0, w=0.643558,\n",
    "                    GC={'CH3':1, 'CH2':1, 'OH(P)':1}, Mw=46.07)\n",
    "mix = mixture(water, ethanol)\n",
    "mix.unifac()\n",
    "eos = preos(mix, 'mhv_unifac')"
   ]
  },
  {
   "cell_type": "markdown",
   "metadata": {},
   "source": [
    "## Density\n",
    "\n",
    "The density of the fluid is computed with the ``eos.density`` method. It requires the composition, temperature, pressure and the aggregation state."
   ]
  },
  {
   "cell_type": "code",
   "execution_count": 17,
   "metadata": {},
   "outputs": [
    {
     "data": {
      "text/plain": [
       "(0.01905921137858399, 3.611599060036928e-05)"
      ]
     },
     "execution_count": 17,
     "metadata": {},
     "output_type": "execute_result"
    }
   ],
   "source": [
    "T = 340.  # K\n",
    "P = 1.  # bar\n",
    "x = np.array([0.3, 0.7])\n",
    "eos.density(x, T, P, 'L'), eos.density(x, T, P, 'V')"
   ]
  },
  {
   "cell_type": "markdown",
   "metadata": {},
   "source": [
    "## Pressure\n",
    "\n",
    "The pressure of the fluid mixture can be computed at given composition, molar volume and temperature using the ``eos.pressure`` method. "
   ]
  },
  {
   "cell_type": "code",
   "execution_count": 18,
   "metadata": {},
   "outputs": [
    {
     "data": {
      "text/plain": [
       "(0.999999999998181, 0.9999999999999996)"
      ]
     },
     "execution_count": 18,
     "metadata": {},
     "output_type": "execute_result"
    }
   ],
   "source": [
    "rhol = eos.density(x, T, P, 'L')\n",
    "vl = 1.0/rhol\n",
    "rhov = eos.density(x, T, P, 'V')\n",
    "vv = 1.0/rhov\n",
    "eos.pressure(x, vl, T), eos.pressure(x, vv, T)"
   ]
  },
  {
   "cell_type": "markdown",
   "metadata": {},
   "source": [
    "## Validation of phase equilibrium\n",
    "\n",
    "The effective fugacity coefficients can be computed at given composition, temperature, pressure and aggregation state using the ``eos.logfugef`` method. This function returns the natural logarithm of the fugacity coefficients and the computed volume fraction. The fugacity of the mixture can be computed similarly with the ``eos.logfugmix`` method.\n",
    "\n",
    "The chemical potential are computed at given dimensionless density vector ($\\rho_i = x_i \\rho b_0$) and temperature.\n"
   ]
  },
  {
   "cell_type": "code",
   "execution_count": 19,
   "metadata": {},
   "outputs": [
    {
     "name": "stdout",
     "output_type": "stream",
     "text": [
      "Fugacities: -0.49475747839407447 -0.49475747839408146 are equal: True\n",
      "Chemical potentials: [-0.05741901  0.01584424]\n"
     ]
    }
   ],
   "source": [
    "lnphi, v = eos.logfugef(x, T, P, 'L')\n",
    "lnphimix, v = eos.logfugmix(x, T, P, 'L')\n",
    "print('Fugacities:', lnphimix, np.dot(lnphi, x), 'are equal:', np.allclose(lnphimix, np.dot(lnphi, x)))\n",
    "\n",
    "rhofactor = eos.b[0]\n",
    "rhoad = 1/v * rofactor\n",
    "rhovector = x * rhoad\n",
    "print('Chemical potentials:', eos.muad(rhovector, T))"
   ]
  },
  {
   "cell_type": "markdown",
   "metadata": {},
   "source": [
    "## Thermal derived properties\n",
    "\n",
    "The ``eos`` object also includes the calculation of some thermal derived properties such as residual entropy (``eos.EntropyR``), residual enthalpy (``eos.EnthalpyR``), residual isochoric heat capacity (``eos.CvR``), and residual isobaric heat capacity (``eos.CpR``).\n",
    "\n",
    "For the speed of sound calculation (``eos.speed_sound``) the ideal gas heat capacities are required. In the example the isochoric and isobaric ideal gas contribution are set to $3R/2$ and $5R/2$, respectively. Better values of ideal gas heat capacities contribution can be found from empirical correlations, e.g. DIPPR 801."
   ]
  },
  {
   "cell_type": "code",
   "execution_count": 20,
   "metadata": {},
   "outputs": [
    {
     "name": "stdout",
     "output_type": "stream",
     "text": [
      "Residual Entropy: -116.82399490452899 J/(mol K)\n",
      "Residual Enthalpy: -41118.71891716509 J/mol\n",
      "Residual isochoric heat capacity: 49.63465165531006 J/(mol K)\n",
      "Residual isobaric heat capacity: 80.144782348063 J/(mol K)\n",
      "Speed of sound: 351.21516609921684 m/s\n"
     ]
    }
   ],
   "source": [
    "Sr = eos.EntropyR(x, T, P, 'L')\n",
    "Hr = eos.EnthalpyR(x, T, P, 'L')\n",
    "Cvr = eos.CvR(x, T, P, 'L')\n",
    "Cpr = eos.CpR(x, T, P, 'L')\n",
    "\n",
    "# speed of sound using ideal gas heat capacities [m/s]\n",
    "r = 8.314  # J / mol K\n",
    "CvId = 3*r/2\n",
    "CpId = 5*r/2\n",
    "w = eos.speed_sound(x, T, P, 'V', CvId=CvId, CpId=CpId)\n",
    "\n",
    "print('Residual Entropy:', Sr, 'J/(mol K)')\n",
    "print('Residual Enthalpy:', Hr, 'J/mol')\n",
    "print('Residual isochoric heat capacity:', Cvr, 'J/(mol K)')\n",
    "print('Residual isobaric heat capacity:', Cpr, 'J/(mol K)')\n",
    "print('Speed of sound:', w, 'm/s')"
   ]
  },
  {
   "cell_type": "code",
   "execution_count": null,
   "metadata": {},
   "outputs": [],
   "source": []
  }
 ],
 "metadata": {
  "kernelspec": {
   "display_name": "Python 3",
   "language": "python",
   "name": "python3"
  },
  "language_info": {
   "codemirror_mode": {
    "name": "ipython",
    "version": 3
   },
   "file_extension": ".py",
   "mimetype": "text/x-python",
   "name": "python",
   "nbconvert_exporter": "python",
   "pygments_lexer": "ipython3",
   "version": "3.8.8"
  }
 },
 "nbformat": 4,
 "nbformat_minor": 4
}
