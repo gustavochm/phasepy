{
 "cells": [
  {
   "cell_type": "markdown",
   "metadata": {},
   "source": [
    "# Square Gradient Theory for Pure Components\n",
    "\n",
    "This notebook has te purpose of showing examples of computing interfacial tension of pure fluids. This calculation is based on Square Gradient Theory, which for pure fluids allows computing the interfacial tension as follows:\n",
    "\n",
    "$$ \\sigma = \\sqrt{2c_{ii}} \\int_{\\rho^v}^{\\rho^l} \\sqrt{a_0 - \\rho \\mu^0 + P^0} d\\rho $$\n",
    "\n",
    "Here, $\\sigma$ represents the interfacial tension, $\\rho^v$ and $\\rho^l$ are the vapor and liquid molar densities, respectively, $P^0$ is the vapor pressure, $a_0$ is the Helmholtz energy density and $\\mu^0$ is the equilibrium chemical potential. Both $a_0$ and $\\mu^0$ are obtained from the EoS. Finally, $c_{ii}$ is the influence parameter.\n",
    "\n",
    "SGT for pure fluids is implemented through the ``sgt_pure`` function. First, it's needed to import the necessary modules"
   ]
  },
  {
   "cell_type": "code",
   "execution_count": 1,
   "metadata": {},
   "outputs": [],
   "source": [
    "import numpy as np\n",
    "from phasepy import component, prsveos\n",
    "from phasepy.sgt import sgt_pure\n",
    "import matplotlib.pyplot as plt"
   ]
  },
  {
   "cell_type": "code",
   "execution_count": 2,
   "metadata": {},
   "outputs": [],
   "source": [
    "#component creation\n",
    "water =  component(name = 'Water', Tc = 647.13, Pc = 220.55, Zc = 0.229, Vc = 55.948, w = 0.344861,\n",
    "                ksv = [ 0.87185176, -0.06621339], cii = [2.06553362e-26, 2.64204784e-23, 4.10320513e-21])\n",
    "\n",
    "#EoS object creation\n",
    "eos = prsveos(water)"
   ]
  },
  {
   "cell_type": "code",
   "execution_count": 3,
   "metadata": {},
   "outputs": [
    {
     "data": {
      "text/plain": [
       "0.045253458433634326"
      ]
     },
     "execution_count": 3,
     "metadata": {},
     "output_type": "execute_result"
    }
   ],
   "source": [
    "eos.density(350., 1., 'L')"
   ]
  },
  {
   "cell_type": "markdown",
   "metadata": {},
   "source": [
    "Now vapor-liquid equilibria has to be computed. This is done with the ``psat`` method from the EoS, which returns the pressure and densities at equilibrium.\n",
    "\n",
    "Alternatively, you can use the ``tsat`` method to compute equilibrium temperature and densities at given pressure."
   ]
  },
  {
   "cell_type": "code",
   "execution_count": 4,
   "metadata": {},
   "outputs": [],
   "source": [
    "T = 350. #K\n",
    "Psat, vl, vv = eos.psat(T)\n",
    "rhol = 1/vl  # mol/cm3\n",
    "rhov = 1/vv  # mol/cm3"
   ]
  },
  {
   "cell_type": "markdown",
   "metadata": {},
   "source": [
    "Once the phase equilibrium is computed, the interfacial tension can be computed as follow:"
   ]
  },
  {
   "cell_type": "code",
   "execution_count": 5,
   "metadata": {},
   "outputs": [
    {
     "data": {
      "text/plain": [
       "array([63.25083234])"
      ]
     },
     "execution_count": 5,
     "metadata": {},
     "output_type": "execute_result"
    }
   ],
   "source": [
    "tension = sgt_pure(rhov, rhol, T, Psat, eos, full_output = False)\n",
    "tension"
   ]
  },
  {
   "cell_type": "markdown",
   "metadata": {},
   "source": [
    "If all the calculated information is desired, the ```full_output``` options allow obtaining, density profiles, interfacial tension and grand thermodynamic potential."
   ]
  },
  {
   "cell_type": "code",
   "execution_count": 6,
   "metadata": {},
   "outputs": [],
   "source": [
    "solution = sgt_pure(rhol, rhov, T, Psat, eos, full_output = True)"
   ]
  },
  {
   "cell_type": "code",
   "execution_count": 7,
   "metadata": {},
   "outputs": [
    {
     "data": {
      "text/plain": [
       "Text(0, 0.5, '$\\\\rho$ / cm$^3$ mol$^{-1}$')"
      ]
     },
     "execution_count": 7,
     "metadata": {},
     "output_type": "execute_result"
    },
    {
     "data": {
      "image/png": "[encoded data removed]",
      "text/plain": [
       "<Figure size 432x288 with 1 Axes>"
      ]
     },
     "metadata": {
      "needs_background": "light"
     },
     "output_type": "display_data"
    }
   ],
   "source": [
    "%matplotlib inline\n",
    "z = solution.z\n",
    "rho = solution.rho\n",
    "plt.plot(z, rho)\n",
    "plt.xlabel(r'z/ $\\AA$')\n",
    "plt.ylabel(r'$\\rho$ / cm$^3$ mol$^{-1}$')\n",
    "# plt.show()"
   ]
  },
  {
   "cell_type": "markdown",
   "metadata": {},
   "source": [
    "The procedure can be repeated in a for loop, allowing to study the interfacial behavior against the temperature. The results can be compared against experimental data."
   ]
  },
  {
   "cell_type": "code",
   "execution_count": 8,
   "metadata": {},
   "outputs": [
    {
     "name": "stderr",
     "output_type": "stream",
     "text": [
      "/Users/gac21/Documents/phasepy/phasepy/sgt/sgtpure.py:91: RuntimeWarning: invalid value encountered in sqrt\n",
      "  tenint = np.nan_to_num(np.sqrt(2*dOm))\n"
     ]
    }
   ],
   "source": [
    "#Experimental Saturation Data of water obtained from NIST\n",
    "#Saturation Temperature in Kelvin\n",
    "Tsat = np.array([290., 300., 310., 320., 330., 340., 350., 360., 370., 380.]) \n",
    "\n",
    "#Interfacial Tension in mN/m\n",
    "tension = np.array([73.21 , 71.686, 70.106, 68.47 , 66.781, 65.04 , 63.248, 61.406,\n",
    "       59.517, 57.581]) \n",
    "\n",
    "ten_sgt = np.zeros_like(tension)\n",
    "n = len(Tsat)\n",
    "\n",
    "for i in range(n):\n",
    "    P, vl, vv = eos.psat(Tsat[i])\n",
    "    rhol = 1/vl\n",
    "    rhov = 1/vv\n",
    "    ten_sgt[i] = sgt_pure(rhol, rhov, Tsat[i], P, eos, full_output = False)"
   ]
  },
  {
   "cell_type": "code",
   "execution_count": 9,
   "metadata": {},
   "outputs": [
    {
     "data": {
      "text/plain": [
       "Text(0, 0.5, 'IFT / mN/m')"
      ]
     },
     "execution_count": 9,
     "metadata": {},
     "output_type": "execute_result"
    },
    {
     "data": {
      "image/png": "[encoded data removed]",
      "text/plain": [
       "<Figure size 432x288 with 1 Axes>"
      ]
     },
     "metadata": {
      "needs_background": "light"
     },
     "output_type": "display_data"
    }
   ],
   "source": [
    "%matplotlib inline\n",
    "plt.plot(Tsat, tension, 'o')\n",
    "plt.plot(Tsat, ten_sgt)\n",
    "plt.xlabel('T/K')\n",
    "plt.ylabel('IFT / mN/m')\n",
    "# plt.show()"
   ]
  },
  {
   "cell_type": "markdown",
   "metadata": {},
   "source": [
    "For further information please also check [official documentation](https://phasepy.readthedocs.io/), or just try:\n",
    "\n",
    "```function?```"
   ]
  }
 ],
 "metadata": {
  "kernelspec": {
   "display_name": "thermo",
   "language": "python",
   "name": "thermo"
  },
  "language_info": {
   "codemirror_mode": {
    "name": "ipython",
    "version": 3
   },
   "file_extension": ".py",
   "mimetype": "text/x-python",
   "name": "python",
   "nbconvert_exporter": "python",
   "pygments_lexer": "ipython3",
   "version": "3.9.7"
  }
 },
 "nbformat": 4,
 "nbformat_minor": 2
}
