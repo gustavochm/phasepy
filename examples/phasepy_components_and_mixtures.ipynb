{
 "cells": [
  {
   "cell_type": "markdown",
   "metadata": {},
   "source": [
    "# Components, mixtures and phase equilibrium model basics\n",
    "\n",
    "Phasepy unit for temperature is [K], unit of pressure is [bar] and unit of molar volume is [cm^3/mol]."
   ]
  },
  {
   "cell_type": "code",
   "execution_count": 1,
   "metadata": {},
   "outputs": [],
   "source": [
    "import numpy as np\n",
    "from phasepy import mixture, component, virialgamma, preos"
   ]
  },
  {
   "cell_type": "markdown",
   "metadata": {},
   "source": [
    "## Single components\n",
    "\n",
    "Physical properties are specified when a component is created. Typical properties include critical properties (Tc, Pc, Zc, Vc), acentric factor (w), Antoine Coefficients (Ant) and group specification for Modified UNIFAC group contribution (GC) method."
   ]
  },
  {
   "cell_type": "code",
   "execution_count": 2,
   "metadata": {},
   "outputs": [
    {
     "name": "stdout",
     "output_type": "stream",
     "text": [
      "Water saturation pressure at 373 K: 1.0072796747419537 bar\n",
      "Water liquid molar volume at 310 K: 16.46025809309672 cm3/mol\n",
      "Ethanol saturation pressure at 373 K: 2.233335305328437 bar\n",
      "Ethanol liquid molar volume at 310 K: 56.32856995891473 cm3/mol\n"
     ]
    }
   ],
   "source": [
    "water = component(name='water', Tc=647.13, Pc=220.55, Zc=0.229, Vc=55.948, w=0.344861,\n",
    "                  Ant=[11.64785144, 3797.41566067, -46.77830444],\n",
    "                  GC={'H2O':1})\n",
    "\n",
    "ethanol = component(name='ethanol', Tc=514.0, Pc=61.37, Zc=0.241, Vc=168.0, w=0.643558,\n",
    "                    Ant=[11.61809279, 3423.0259436, -56.48094263],\n",
    "                    GC={'CH3':1, 'CH2':1, 'OH(P)':1})\n",
    "\n",
    "print('Water saturation pressure at 373 K:', water.psat(T=373.0), 'bar')\n",
    "print('Water liquid molar volume at 310 K:', water.vlrackett(T=310.0), 'cm3/mol')\n",
    "print('Ethanol saturation pressure at 373 K:', ethanol.psat(T=373.0), 'bar')\n",
    "print('Ethanol liquid molar volume at 310 K:', ethanol.vlrackett(T=310.0), 'cm3/mol')"
   ]
  },
  {
   "cell_type": "code",
   "execution_count": 3,
   "metadata": {},
   "outputs": [
    {
     "name": "stdout",
     "output_type": "stream",
     "text": [
      "Saturation pressure, liquid and vapor molar volumes: (array([0.98800647]), array([66.75754804]), array([28799.31921623]))\n",
      "Liquid density: 0.01497960198094922\n",
      "Vapor density: 3.515440899573752e-05\n"
     ]
    },
    {
     "name": "stderr",
     "output_type": "stream",
     "text": [
      "/home/user/miniconda3/lib/python3.8/site-packages/numpy/core/_asarray.py:136: VisibleDeprecationWarning: Creating an ndarray from ragged nested sequences (which is a list-or-tuple of lists-or-tuples-or ndarrays with different lengths or shapes) is deprecated. If you meant to do this, you must specify 'dtype=object' when creating the ndarray\n",
      "  return array(a, dtype, copy=False, order=order, subok=True)\n"
     ]
    }
   ],
   "source": [
    "# Example 1. Peng Robinson EOS for single component (without volume translation)\n",
    "eos = preos(ethanol)\n",
    "print('Saturation pressure, liquid and vapor molar volumes:', eos.psat(T=350.0))\n",
    "print('Liquid density:', eos.density(T=350.0, P=1.0, state='L'))\n",
    "print('Vapor density:', eos.density(T=350.0, P=1.0, state='V'))"
   ]
  },
  {
   "cell_type": "code",
   "execution_count": 4,
   "metadata": {},
   "outputs": [
    {
     "name": "stdout",
     "output_type": "stream",
     "text": [
      "Saturation pressure, liquid and vapor molar volumes: (array([0.98800647]), array([61.40263868]), array([28793.96430687]))\n",
      "Liquid density: 0.01628597159790686\n",
      "Vapor density: 3.5161028012629526e-05\n"
     ]
    }
   ],
   "source": [
    "# Example 2. Peng Robinson EOS for single component (with volume translation, parameter c)\n",
    "ethanol = component(name='ethanol', Tc=514.0, Pc=61.37, Zc=0.241, Vc=168.0, w=0.643558,\n",
    "                    c=5.35490936, Ant=[11.61809279, 3423.0259436, -56.48094263],\n",
    "                    GC={'CH3':1, 'CH2':1, 'OH(P)':1})\n",
    "eos = preos(ethanol, volume_translation=True)\n",
    "print('Saturation pressure, liquid and vapor molar volumes:', eos.psat(T=350.0))\n",
    "print('Liquid density:', eos.density(T=350.0, P=1.0, state='L'))\n",
    "print('Vapor density:', eos.density(T=350.0, P=1.0, state='V'))"
   ]
  },
  {
   "cell_type": "markdown",
   "metadata": {},
   "source": [
    "## Mixtures\n",
    "\n",
    "Mixtures are created from components:"
   ]
  },
  {
   "cell_type": "code",
   "execution_count": 5,
   "metadata": {},
   "outputs": [
    {
     "name": "stdout",
     "output_type": "stream",
     "text": [
      "Component names: ['ethanol', 'water']\n",
      "Number of components: 2\n",
      "Component saturation pressures: [2.23333531 1.00727967]\n",
      "Component liquid molar volumes: [56.32856996 16.46025809]\n"
     ]
    }
   ],
   "source": [
    "mix = mixture(ethanol, water)\n",
    "print('Component names:', mix.names)\n",
    "print('Number of components:', mix.nc)\n",
    "print('Component saturation pressures:', mix.psat(T=373.0))\n",
    "print('Component liquid molar volumes:', mix.vlrackett(T=310.0))"
   ]
  },
  {
   "cell_type": "markdown",
   "metadata": {},
   "source": [
    "## Phase equilibrium models\n",
    "\n",
    "Phase equilibrium models are created from a mixture and model specifications. Model specific parameters must be provided to the mixture."
   ]
  },
  {
   "cell_type": "code",
   "execution_count": 6,
   "metadata": {},
   "outputs": [],
   "source": [
    "# Example 3. Initialization of NRTL activity coefficient model for liquid, and Abbott virial model for vapor\n",
    "alpha = np.array([[0.0, 0.5597628],\n",
    "                  [0.5597628, 0.0]])\n",
    "g = np.array([[0.0, -57.6880881],\n",
    "              [668.682368, 0.0]])\n",
    "g1 = np.array([[0.0, 0.46909821],\n",
    "               [-0.37982045, 0.0]])\n",
    "mix.NRTL(alpha, g, g1)\n",
    "eos = virialgamma(mix, virialmodel='Abbott', actmodel='nrtl')"
   ]
  },
  {
   "cell_type": "code",
   "execution_count": 7,
   "metadata": {},
   "outputs": [],
   "source": [
    "# Example 4. Inititalization of Redlich Kister expansion for liquid, Tsonopoulos virial model for vapor\n",
    "C0 = np.array([1.20945699, -0.62209997, 3.18919339])\n",
    "C1 = np.array([-13.271128, 101.837857, -1100.29221])\n",
    "mix.rk(C0, C1)\n",
    "eos = virialgamma(mix, virialmodel='Tsonopoulos', actmodel='rk')"
   ]
  },
  {
   "cell_type": "code",
   "execution_count": 8,
   "metadata": {},
   "outputs": [],
   "source": [
    "# Example 5. Inititalization of Dortmund Modified UNIFAC for liquid, ideal gas law for vapor\n",
    "mix.unifac()\n",
    "eos = virialgamma(mix, virialmodel='ideal_gas', actmodel='unifac')"
   ]
  },
  {
   "cell_type": "code",
   "execution_count": 9,
   "metadata": {},
   "outputs": [],
   "source": [
    "# Example 6. Initialization of Peng Robinson EOS for mixture with Quadratic mixing rule.\n",
    "Kij = np.array([[0, -0.11], [-0.11, 0]])\n",
    "mix.kij_cubic(Kij)\n",
    "eos = preos(mix, mixrule='qmr')"
   ]
  },
  {
   "cell_type": "code",
   "execution_count": 10,
   "metadata": {},
   "outputs": [],
   "source": [
    "# Example 7. Initialization of Peng Robinson EOS for mixture. Mixing rule is Modified Huron Vidal with NRTL.\n",
    "alpha = np.array([[0.0, 0.5597628],\n",
    "                  [0.5597628, 0.0]])\n",
    "g = np.array([[0.0, -57.6880881],\n",
    "              [668.682368, 0.0]])\n",
    "g1 = np.array([[0.0, 0.46909821],\n",
    "               [-0.37982045, 0.0]])\n",
    "mix.NRTL(alpha, g, g1)\n",
    "eos = preos(mix, mixrule='mhv_nrtl')"
   ]
  },
  {
   "cell_type": "code",
   "execution_count": 11,
   "metadata": {},
   "outputs": [],
   "source": [
    "# Example 8. Initialization of Peng Robinson EOS for mixture. Mixing rule is Modified Huron Vidal with Modified UNIFAC.\n",
    "mix.unifac()\n",
    "eos = preos(mix, mixrule='mhv_unifac')"
   ]
  },
  {
   "cell_type": "code",
   "execution_count": 12,
   "metadata": {},
   "outputs": [],
   "source": [
    "# Example 9. Initialization of Peng Robinson EOS for mixture. Mixing rule is Modified Huron Vidal with Redlich Kister.\n",
    "C0 = np.array([1.20945699, -0.62209997, 3.18919339])\n",
    "C1 = np.array([-13.271128, 101.837857, -1100.29221])\n",
    "mix.rk(C0, C1)\n",
    "eos = preos(mix, mixrule='mhv_rk')"
   ]
  },
  {
   "cell_type": "markdown",
   "metadata": {},
   "source": [
    "Please also check [official documentation](https://phasepy.readthedocs.io/), or just try:\n",
    "\n",
    "```function?```"
   ]
  },
  {
   "cell_type": "code",
   "execution_count": null,
   "metadata": {},
   "outputs": [],
   "source": []
  }
 ],
 "metadata": {
  "kernelspec": {
   "display_name": "Python 3",
   "language": "python",
   "name": "python3"
  },
  "language_info": {
   "codemirror_mode": {
    "name": "ipython",
    "version": 3
   },
   "file_extension": ".py",
   "mimetype": "text/x-python",
   "name": "python",
   "nbconvert_exporter": "python",
   "pygments_lexer": "ipython3",
   "version": "3.8.3"
  }
 },
 "nbformat": 4,
 "nbformat_minor": 4
}
