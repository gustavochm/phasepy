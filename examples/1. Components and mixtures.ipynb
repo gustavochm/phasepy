{
 "cells": [
  {
   "cell_type": "markdown",
   "metadata": {},
   "source": [
    "# Components, mixtures and phase equilibrium model basics\n",
    "\n",
    "In this notebook basic creation of pure components, fluid mixtures and the available models in Phasepy are exemplified.\n",
    "\n",
    "Phasepy unit for temperature is [K], unit of pressure is [bar] and unit of molar volume is [cm^3/mol].\n",
    "\n",
    "- [Single components](#pure-fluids)\n",
    "- [Mixtures](#fluid-mixtures)\n",
    "- [Models](#models)\n",
    "    - [Discontinuous Models](#gamma-phi)\n",
    "        - [NRTL](#nrtl)\n",
    "        - [Wilson](#wilson)\n",
    "        - [Redlich-Kister Expansion](#redlich-kister)\n",
    "        - [UNIQUAC](#uniquac)\n",
    "        - [UNIFAC](#unifac)\n",
    "    - [Cubic Equations of State](#cubic-eos)\n",
    "        - [QMR mixing rule](#qmr-mixingrule)\n",
    "        - [MHV mixing rule](#mhv-mixingrule)\n",
    "        - [MHV1 mixing rule](#mhv1-mixingrule)\n",
    "        - [Wong-Sandler mixing rule](#ws-mixingrule)"
   ]
  },
  {
   "cell_type": "code",
   "execution_count": 1,
   "metadata": {},
   "outputs": [],
   "source": [
    "import numpy as np\n",
    "from phasepy import mixture, component, virialgamma, preos"
   ]
  },
  {
   "cell_type": "markdown",
   "metadata": {},
   "source": [
    "<a id='pure-fluids'></a>\n",
    "\n",
    "## Single components\n",
    "\n",
    "Physical properties are specified when a component is created. Typical properties include critical properties (``Tc``, ``Pc``, ``Zc``, ``Vc``), acentric factor (``w``), Antoine Coefficients (``Ant``), group specification for Modified UNIFAC group contribution (``GC``) method and molecular volume and surface (``ri`` and ``qi``) used in UNIQUAC.\n",
    "\n",
    "The following Antoine's equation is implemented in the `component` class.\n",
    "\n",
    "$$ \\ln (P /bar) = A - \\frac{B}{T/K + C}$$ \n",
    "\n",
    "Where $P$ is the saturation pressure and $T$ is the absolute temperature. The parameters $A$, $B$ and $C$ are obtained as follows: `A, B, C = component.Ant`.\n",
    "\n",
    "The liquid volume of the fluids can be estimated using Rackett's equation:\n",
    "\n",
    "$$ v = v_c Z_c^{(1 - T_r)^{2/7}} $$ \n",
    "\n",
    "Where, $v$ is the liquid volume, $v_c$ is the critical volume, $Z_c$ is the critical fluid compressibility and $T_r$ is the reduced temperature. You need to provide the critical parameter (`Tc`, `Vc` and`Zc`) for this method to work."
   ]
  },
  {
   "cell_type": "code",
   "execution_count": 2,
   "metadata": {},
   "outputs": [
    {
     "name": "stdout",
     "output_type": "stream",
     "text": [
      "Water saturation pressure at 373 K: 1.0072796747419537 bar\n",
      "Water liquid molar volume at 310 K: 16.46025809309672 cm3/mol\n",
      "Ethanol saturation pressure at 373 K: 2.233335305328437 bar\n",
      "Ethanol liquid molar volume at 310 K: 56.32856995891473 cm3/mol\n"
     ]
    }
   ],
   "source": [
    "water = component(name='water', Tc=647.13, Pc=220.55, Zc=0.229, Vc=55.948, w=0.344861,\n",
    "                  Ant=[11.64785144, 3797.41566067, -46.77830444],\n",
    "                  GC={'H2O':1}, ri=0.92, qi=1.4)\n",
    "\n",
    "ethanol = component(name='ethanol', Tc=514.0, Pc=61.37, Zc=0.241, Vc=168.0, w=0.643558,\n",
    "                    Ant=[11.61809279, 3423.0259436, -56.48094263],\n",
    "                    GC={'CH3':1, 'CH2':1, 'OH(P)':1}, ri=2.1055, qi=1.972)\n",
    "\n",
    "print('Water saturation pressure at 373 K:', water.psat(T=373.0), 'bar')\n",
    "print('Water liquid molar volume at 310 K:', water.vlrackett(T=310.0), 'cm3/mol')\n",
    "print('Ethanol saturation pressure at 373 K:', ethanol.psat(T=373.0), 'bar')\n",
    "print('Ethanol liquid molar volume at 310 K:', ethanol.vlrackett(T=310.0), 'cm3/mol')"
   ]
  },
  {
   "cell_type": "code",
   "execution_count": 3,
   "metadata": {},
   "outputs": [
    {
     "name": "stdout",
     "output_type": "stream",
     "text": [
      "Saturation pressure, liquid and vapor molar volumes: (array([0.98800647]), array([66.75754804]), array([28799.31921623]))\n",
      "Liquid density: 0.014979601980949216\n",
      "Vapor density: 3.515440899573753e-05\n"
     ]
    }
   ],
   "source": [
    "# Example 1. Peng Robinson EOS for single component (without volume translation)\n",
    "eos = preos(ethanol)\n",
    "print('Saturation pressure, liquid and vapor molar volumes:', eos.psat(T=350.0))\n",
    "print('Liquid density:', eos.density(T=350.0, P=1.0, state='L'))\n",
    "print('Vapor density:', eos.density(T=350.0, P=1.0, state='V'))"
   ]
  },
  {
   "cell_type": "code",
   "execution_count": 4,
   "metadata": {},
   "outputs": [
    {
     "name": "stdout",
     "output_type": "stream",
     "text": [
      "Saturation pressure, liquid and vapor molar volumes: (array([0.98800647]), array([61.40263868]), array([28793.96430687]))\n",
      "Liquid density: 0.016285971597906863\n",
      "Vapor density: 3.516102801262953e-05\n"
     ]
    }
   ],
   "source": [
    "# Example 2. Peng Robinson EOS for single component (with volume translation, parameter c)\n",
    "ethanol = component(name='ethanol', Tc=514.0, Pc=61.37, Zc=0.241, Vc=168.0, w=0.643558,\n",
    "                    c=5.35490936, Ant=[11.61809279, 3423.0259436, -56.48094263],\n",
    "                    GC={'CH3':1, 'CH2':1, 'OH(P)':1}, ri=2.1055, qi=1.972)\n",
    "eos = preos(ethanol, volume_translation=True)\n",
    "print('Saturation pressure, liquid and vapor molar volumes:', eos.psat(T=350.0))\n",
    "print('Liquid density:', eos.density(T=350.0, P=1.0, state='L'))\n",
    "print('Vapor density:', eos.density(T=350.0, P=1.0, state='V'))"
   ]
  },
  {
   "cell_type": "markdown",
   "metadata": {},
   "source": [
    "<a id='fluid-mixtures'></a>\n",
    "\n",
    "## Mixtures\n",
    "\n",
    "Mixtures are created from components with the ``mixture`` class function or by adding components (`+`).\n",
    "\n",
    "The mixture function allows setting interaction parameters, such for NRTL model (``mixture.NRTL``), Wilson model (``mixture.wilson``), Redlich-Kister polynomial (``mixture.rk``), UNIQUAC model (``mixture.uniquac``) and UNIFAC model (``mixture.unifac``)."
   ]
  },
  {
   "cell_type": "code",
   "execution_count": 5,
   "metadata": {},
   "outputs": [
    {
     "name": "stdout",
     "output_type": "stream",
     "text": [
      "Component names: ['ethanol', 'water']\n",
      "Number of components: 2\n",
      "Component saturation pressures: [2.23333531 1.00727967]\n",
      "Component liquid molar volumes: [56.32856996 16.46025809]\n"
     ]
    }
   ],
   "source": [
    "# creating a mixture with the mixture class function\n",
    "mix = mixture(ethanol, water)\n",
    "# creating a mixture by adding two components\n",
    "mix = ethanol + water\n",
    "\n",
    "print('Component names:', mix.names)\n",
    "print('Number of components:', mix.nc)\n",
    "print('Component saturation pressures:', mix.psat(T=373.0))\n",
    "print('Component liquid molar volumes:', mix.vlrackett(T=310.0))"
   ]
  },
  {
   "cell_type": "markdown",
   "metadata": {},
   "source": [
    "Phasepy can handle multicomponent mixtures. You can add a component to an existing mixture using the `add_component` method or by adding it to the mixture (`+`). This is shown below."
   ]
  },
  {
   "cell_type": "code",
   "execution_count": 6,
   "metadata": {},
   "outputs": [],
   "source": [
    "mtbe = component(name='mtbe', Tc=497.1, Pc=34.3, Zc=0.273, Vc=329.0, w=0.266059,\n",
    "                 Ant=[9.16238246, 2541.97883529, -50.40534341],\n",
    "                 GC={'CH3':3, 'CH3O':1, 'C':1})\n",
    "\n",
    "# adding a component using the add_component method\n",
    "mix = mixture(ethanol, water)\n",
    "mix.add_component(mtbe)\n",
    "\n",
    "# creating the ternary mixture by adding the pure components\n",
    "mix = ethanol + water + mtbe\n",
    "\n",
    "# adding a component to an existing mixture\n",
    "mix = mixture(ethanol, water)\n",
    "mix += mtbe"
   ]
  },
  {
   "cell_type": "markdown",
   "metadata": {},
   "source": [
    "<a id='models'></a>\n",
    "\n",
    "## Phase equilibrium models\n",
    "\n",
    "Phase equilibrium models are created from a mixture and model specifications. Model-specific parameters must be provided to the mixture.\n",
    "\n",
    "Phasepy includes two modeling approaches. In the discontinuous modeling approach, where the vapor can be modeled from a virial expansion and the liquid is modeled using an activity coefficient model. In the continuous modeling approach, both vapor al liquid phases are modeled with the same equation of state.\n",
    "\n",
    "\n",
    "<a id='gamma-phi'></a>\n",
    "## Discontinous modeling:\n",
    "\n",
    "Available models through the `virialgamma` function.\n",
    "\n",
    " - Vapor phase: `Abbott`, `Tsonopoulos` or `ideal_gas`.\n",
    " - Liquid phase: `nrtl`, `wilson`, `rk`, `uniquac` or `unifac`.\n",
    "\n",
    "\n",
    "\n",
    "\n",
    "<a id='nrtl'></a>\n",
    "### NRTL activity coefficient model\n",
    "\n",
    "The NRTL model computes the Gibbs's excess energy as follows:\n",
    "\n",
    "$$ g^e = \\sum_{i=1}^c  x_i \\frac{\\sum_{j=1}^c \\tau_{ji}G_{ji}x_j}{\\sum_{l=1}^c G_{li}x_l}$$\n",
    "\n",
    "Where, \n",
    "$$ \\tau_{ji} = \\frac{A_{ji}}{T}, \\quad G_{ji} = \\exp{(-\\alpha_{ji}\\tau_{ji})}, \\quad \n",
    "\\alpha_{ji} = \\alpha_{ij} $$\n",
    "\n",
    "Here $A_{ij}$ and $\\alpha_{ij}$ are the interaction energy and aleatory factor between the component $i$ and $j$\n",
    "\n",
    "In Phasepy, the NRTL's interaction energies are computed as: $A_{ij} = A_{ij, 0} + A_{ij, 1} T$.\n",
    "\n",
    "You can supply the NRTL parameter using the `mix.NRTL` method."
   ]
  },
  {
   "cell_type": "code",
   "execution_count": 7,
   "metadata": {},
   "outputs": [],
   "source": [
    "# Example 3. Initialization of NRTL activity coefficient model for liquid, and Abbott virial model for vapor\n",
    "mix = ethanol + water\n",
    "\n",
    "alpha = np.array([[0.0, 0.5597628],\n",
    "                  [0.5597628, 0.0]])\n",
    "Aij0 = np.array([[0.0, -57.6880881],\n",
    "              [668.682368, 0.0]])\n",
    "Aij1 = np.array([[0.0, 0.46909821],\n",
    "               [-0.37982045, 0.0]])\n",
    "mix.NRTL(alpha, Aij0, Aij1)\n",
    "eos = virialgamma(mix, virialmodel='Abbott', actmodel='nrtl')"
   ]
  },
  {
   "cell_type": "markdown",
   "metadata": {},
   "source": [
    "<a id='wilson'></a>\n",
    "### Wilson activity coefficient model\n",
    "\n",
    "\n",
    "In the Wilson's model the Gibbs's excess energy is computed as follows:\n",
    "\n",
    "$$ g^e = - \\sum_i x_i \\ln\\left[ \\sum_j  x_j \\Lambda_{ij}\\right]$$\n",
    "\n",
    "Where,\n",
    "\n",
    "$$ \\Lambda_{ij} = \\frac{v_j}{v_i} \\exp{\\frac{-A_{ij}}{T}}$$\n",
    "\n",
    "Here, $v_i$ is volume of the component $i$ and $A_{ij}$ is the interaction energy between component $i$ and $j$. The energies can be fitted to experimental data. Phasepy uses Rackett Equation to compute volumes in Wilson's model, you need to provide critical properties of the fluid for this method to work (`Tc`, `Pc`, `Zc`, `Vc`, `w`).\n",
    "\n",
    "You can supply the Wilson energies using the ``mix.wilson`` method."
   ]
  },
  {
   "cell_type": "code",
   "execution_count": 8,
   "metadata": {},
   "outputs": [],
   "source": [
    "# Example 5. Initialization of Wilson activity coefficient model for liquid, and Abbott virial model for vapor\n",
    "mix = ethanol + water\n",
    "\n",
    "Aij = np.array([[0., 163.97284376],\n",
    "                [497.26813303, 0.]])\n",
    "mix.wilson(Aij)\n",
    "eos = virialgamma(mix, virialmodel='Abbott', actmodel='wilson')"
   ]
  },
  {
   "cell_type": "markdown",
   "metadata": {},
   "source": [
    "<a id='redlich-kister'></a>\n",
    "### Redlich Kister Expansion activity coefficient model\n",
    "\n",
    "he Redlich-Kister expansion model the Gibbs's excess energy as a polynomial:\n",
    "\n",
    "$$ g^e_{ij} = x_ix_j \\sum_{k=0}^m C_k (x_i - x_j)^k $$\n",
    "\n",
    "In Phasepy polynomials coefficients are computed as:  $C_k = C_0 + C_1/T$\n",
    "\n",
    "You can supply the Redlich-Kister polynomial coefficients using the ``mix.rk`` method."
   ]
  },
  {
   "cell_type": "code",
   "execution_count": 9,
   "metadata": {},
   "outputs": [],
   "source": [
    "# Example 6. Inititalization of Redlich Kister expansion for liquid, Tsonopoulos virial model for vapor\n",
    "mix = ethanol + water\n",
    "\n",
    "C0 = np.array([1.20945699, -0.62209997, 3.18919339])\n",
    "C1 = np.array([-13.271128, 101.837857, -1100.29221])\n",
    "mix.rk(C0, C1)\n",
    "eos = virialgamma(mix, virialmodel='Tsonopoulos', actmodel='rk')"
   ]
  },
  {
   "cell_type": "markdown",
   "metadata": {},
   "source": [
    "<a id='uniquac'></a>\n",
    "### UNIQUAC activity coefficient model\n",
    "\n",
    "In the UNIQUAC model, the activity coefficients are computed as the sum of a combinatory and a residual term.\n",
    "\n",
    "$$\\ln \\gamma_i = \\underbrace{ \\ln \\frac{\\Phi_i}{x_i} + 1 \\frac{\\Phi_i}{x_i} - \\frac{10}{2} q_i \\left[ \\ln \\frac{\\Phi_i}{\\vartheta_i} + 1 - \\frac{\\Phi_i}{\\vartheta_i} \\right] }_{\\ln \\gamma_i^{comb}} + \\underbrace{q_i \\left[1 - \\ln S_i - \\sum_i \\frac{\\tau_{ij}\\vartheta_j}{S_j} \\right]}_{\\ln \\gamma_i^{res}} $$\n",
    "\n",
    "Where,\n",
    "\n",
    "$$ \\Phi_i = \\frac{r_i x_i}{\\sum_j r_j x_j} \\quad \\vartheta_i = \\frac{q_i x_i}{\\sum_j q_j x_j} \\quad \\tau_{ij} = \\exp \\left[-\\frac{A_{ij}}{T}\\right] \\quad S_i = \\sum_j \\vartheta_j \\tau_{ji} $$\n",
    "\n",
    "The UNIQUAC activiy coefficient model requires the molecular volume ($r_i$) and surface ($q_i$) as the interaction energy ($A_{ij}$).  In Phasepy the interaction energy is computed as follows: $A_{ij} = A_{ij, 0} + A_{ij, 1} T$. Where $A_{ij, 0}$ is in Kelvin and $A_{ij, 1}$ is dimensionless.\n",
    "\n",
    "**note1:** you need to provide the molecular surface and volume (``ri`` and ``qi``) to the components for this method to work.\n",
    "\n",
    "**note2:** you can supply the UNIQUAC energies using the ``mix.uniquac`` method.\n"
   ]
  },
  {
   "cell_type": "code",
   "execution_count": 10,
   "metadata": {},
   "outputs": [],
   "source": [
    "# Example 6. Inititalization of UNIQUAC for liquid, ideal gas law for vapor\n",
    "mix = ethanol + water\n",
    "\n",
    "# interactions energies in K\n",
    "A12, A21 = -7.33540823, 151.83100234 \n",
    "Aij0 = np.array([[0., A12], [A21, 0.]])\n",
    "mix.uniquac(Aij0)\n",
    "eos = virialgamma(mix, virialmodel='ideal_gas', actmodel='uniquac')"
   ]
  },
  {
   "cell_type": "markdown",
   "metadata": {},
   "source": [
    "<a id='unifac'></a>\n",
    "\n",
    "### UNIFAC activity coefficient model\n",
    "\n",
    "Phasepy includes the original UNIFAC and Dortmund-UNIFAC group contribution activity models. In these models, the activity coefficients are obtained from a combinatorial and a residual contribution.\n",
    "\n",
    "$$\\ln \\gamma_i = \\ln \\gamma_i^{comb} + \\ln \\gamma_i^{res} $$\n",
    "\n",
    "\n",
    "Phasepy includes the public parameters published by Dortmund Data Bank. For group's definitions and parameters, see [here](http://www.ddbst.com/published-parameters-unifac.html) for the original UNIFAC and [here](http://www.ddbst.com/PublishedParametersUNIFACDO.html) for Dortmund-UNIFAC.\n",
    "\n",
    "You need to provide the group contribution information through the `GC` parameter when creating a component for this method to work.\n",
    "\n",
    "Once your mixture has been set up, you can read the database using the `mix.original_unifac` or `mix.unifac` method for the original and Dortmund UNIFAC, respectively."
   ]
  },
  {
   "cell_type": "code",
   "execution_count": 11,
   "metadata": {},
   "outputs": [],
   "source": [
    "# Example 7a. Inititalization of Original UNIFAC for liquid, ideal gas law for vapor\n",
    "\n",
    "# ethanol must be redefined with the correct group definition for the original UNIFAC\n",
    "ethanol2 = component(name='ethanol', Tc=514.0, Pc=61.37, Zc=0.241, Vc=168.0, w=0.643558,\n",
    "                     c=5.35490936, Ant=[11.61809279, 3423.0259436, -56.48094263],\n",
    "                     GC={'CH3':1, 'CH2':1, 'OH':1}, ri=2.1055, qi=1.972)\n",
    "\n",
    "mix = ethanol2 + water\n",
    "# reading original UNIFAC database\n",
    "mix.original_unifac()\n",
    "eos = virialgamma(mix, virialmodel='ideal_gas', actmodel='original_unifac')"
   ]
  },
  {
   "cell_type": "code",
   "execution_count": 12,
   "metadata": {},
   "outputs": [],
   "source": [
    "# Example 7b. Inititalization of Dortmund Modified UNIFAC for liquid, ideal gas law for vapor\n",
    "\n",
    "\n",
    "mix = ethanol + water\n",
    "# reading Dortmund Modified UNIFACc database\n",
    "mix.unifac()\n",
    "eos = virialgamma(mix, virialmodel='ideal_gas', actmodel='unifac')"
   ]
  },
  {
   "cell_type": "markdown",
   "metadata": {},
   "source": [
    "<a id='cubic-eos'></a>\n",
    "### Cubics Equations of State\n",
    "\n",
    "Phasepy includes the following cubic equations of state: `vdweos`, `rkeos`, `rkseos`, `preos`, `prsveos`. When working with mixtures you can use the classical quadratic mixing rule or choose from one of the implemented advanced mixing rules (MHV, MHV-1, or WS).\n",
    "\n",
    "<a id='qmr-mixingrule'></a>\n",
    "#### Quadratic mixing rule (QMR)\n",
    "\n",
    "In quadratic mixing rule (`qmr`) the cohesive parameter and covolume is computed as follows:\n",
    "\n",
    "$$ b_{mix} = \\sum_{i} x_i b_i \\qquad a_{mix} = \\sum_i \\sum_j x_i x_j \\sqrt{a_i a_j} (1-k_{ij}) $$\n",
    "\n",
    "You can supply the ``Kij`` correction matrix using the ``mix.kij_cubic`` method."
   ]
  },
  {
   "cell_type": "code",
   "execution_count": 13,
   "metadata": {},
   "outputs": [],
   "source": [
    "# Example 8. Initialization of Peng Robinson EOS for mixture with Quadratic mixing rule.\n",
    "mix = ethanol + water\n",
    "\n",
    "Kij = np.array([[0, -0.11], [-0.11, 0]])\n",
    "mix.kij_cubic(Kij)\n",
    "eos = preos(mix, mixrule='qmr')"
   ]
  },
  {
   "cell_type": "markdown",
   "metadata": {},
   "source": [
    "<a id='mhv-mixingrule'></a>\n",
    "\n",
    "#### Modified Huron-Vidal  mixing rule (MHV)\n",
    "\n",
    "The Modified Huron-Vidal mixing rule matches the Gibbs excess energy from an activity coefficient model and the obtained from the cubic EoS at the low pressure limit ($P \\rightarrow 0$). With this mixing rule the covolume is obtained as $ b_{mix} = \\sum_{i} x_i b_i$. While the cohesive parameter is obtained from the solution to the following non-linear equation:\n",
    "\n",
    "$$ g^{E, model} + \\sum_i x_i \\ln \\left[\\frac{b_{mix}}{b_i} \\right] = q(\\alpha) - \\sum_i x_i q(\\alpha_i)$$\n",
    "\n",
    "Where, $\\alpha = a/(b RT)$ and the $q(\\alpha)$ function is computed as follows:\n",
    "\n",
    "$$ q(\\alpha) = -1 - \\ln(u_0 - 1) - \\frac{\\alpha}{c_1-c_2} \\ln \\left[\\frac{u_0 + c_1}{u_0 + c_2} \\right] $$\n",
    "\n",
    "Where $u_0 = V/b$ is computed from the volume solution at zero pressure from the cubic equation of state.\n",
    "\n",
    "**note1:** This set of equations has a solution ($\\alpha$) only at low pressures, you should not use this mixing rule at pressures higher than ~ 5 bar.\n",
    "\n",
    "**note2:** You can couple this mixing rule with any of the implemented activity coefficient models. You need to provide the model's parameter to the `mixture` object."
   ]
  },
  {
   "cell_type": "code",
   "execution_count": 14,
   "metadata": {},
   "outputs": [],
   "source": [
    "# Example 10. Initialization of Peng Robinson EOS for mixture. Mixing rule is Modified Huron Vidal with NRTL.\n",
    "mix = ethanol + water\n",
    "\n",
    "alpha = np.array([[0.0, 0.5597628],\n",
    "                  [0.5597628, 0.0]])\n",
    "Aij0 = np.array([[0.0, -57.6880881],\n",
    "              [668.682368, 0.0]])\n",
    "Aij1 = np.array([[0.0, 0.46909821],\n",
    "               [-0.37982045, 0.0]])\n",
    "mix.NRTL(alpha, Aij0, Aij1)\n",
    "eos = preos(mix, mixrule='mhv_nrtl')"
   ]
  },
  {
   "cell_type": "code",
   "execution_count": 15,
   "metadata": {},
   "outputs": [],
   "source": [
    "# Example 11. Initialization of Peng Robinson EOS for mixture. Mixing rule is Modified Huron Vidal with Wilson.\n",
    "mix = ethanol + water\n",
    "\n",
    "# interaction energies in #K\n",
    "Aij = np.array([[0., 163.97284376],\n",
    "                [497.26813303, 0.]])\n",
    "mix.wilson(Aij)\n",
    "eos = preos(mix, mixrule='mhv_wilson')"
   ]
  },
  {
   "cell_type": "code",
   "execution_count": 16,
   "metadata": {},
   "outputs": [],
   "source": [
    "# Example 12. Initialization of Peng Robinson EOS for mixture. Mixing rule is Modified Huron Vidal with Redlich Kister.\n",
    "mix = ethanol + water\n",
    "\n",
    "C0 = np.array([1.20945699, -0.62209997, 3.18919339])\n",
    "C1 = np.array([-13.271128, 101.837857, -1100.29221])\n",
    "mix.rk(C0, C1)\n",
    "eos = preos(mix, mixrule='mhv_rk')"
   ]
  },
  {
   "cell_type": "code",
   "execution_count": 17,
   "metadata": {},
   "outputs": [],
   "source": [
    "# Example 13. Initialization of Peng Robinson EOS for mixture. Mixing rule is Modified Huron Vidal with UNIQUAC.\n",
    "mix = ethanol + water\n",
    "# note: you need to provide the molecular surface and volume (ri and qi) to the components for this method to work.\n",
    "\n",
    "# interactions energies in K\n",
    "A12, A21 = -7.33540823, 151.83100234 \n",
    "Aij0 = np.array([[0., A12], [A21, 0.]])\n",
    "mix.uniquac(Aij0)\n",
    "eos = preos(mix, mixrule='mhv_uniquac')"
   ]
  },
  {
   "cell_type": "code",
   "execution_count": 18,
   "metadata": {},
   "outputs": [],
   "source": [
    "# Example 14. Initialization of Peng Robinson EOS for mixture. Mixing rule is Modified Huron Vidal with Modified UNIFAC.\n",
    "mix = ethanol + water\n",
    "\n",
    "mix.unifac()\n",
    "eos = preos(mix, mixrule='mhv_unifac')"
   ]
  },
  {
   "cell_type": "markdown",
   "metadata": {},
   "source": [
    "<a id='mhv1-mixingrule'></a>\n",
    "\n",
    "\n",
    "#### Modified Huron-Vidal-1 mixing rule (MHV-1)\n",
    "\n",
    "The original MHV mixing rule can be used only at low pressure. Michelsen proposed a linearization of the $q(\\alpha)$ function.\n",
    "\n",
    "$$ q(\\alpha) \\approx q_0 + q_1 \\alpha \\rightarrow  \\alpha = \\frac{1}{q_1} \\left[ g^{E, model} + \\sum_i x_i \\ln \\frac{b_{mix}}{b_i} \\right] + \\sum_i x_i \\alpha_i $$\n",
    "\n",
    "Where the $q_1$ parameter has been fitted to experimental data for PR, PRSK, vdW EoS. This mixing rule is known as MHV-1.\n",
    "\n",
    "**note:** You can couple this mixing rule with any of the implemented activity coefficient models. You need to provide the model's parameter to the `mixture` object."
   ]
  },
  {
   "cell_type": "code",
   "execution_count": 19,
   "metadata": {},
   "outputs": [],
   "source": [
    "# Example 15. Initialization of Peng Robinson EOS for mixture. Mixing rule is MHV1 with NRTL.\n",
    "mix = ethanol + water\n",
    "\n",
    "alpha = np.array([[0.0, 0.5597628],\n",
    "                  [0.5597628, 0.0]])\n",
    "Aij0 = np.array([[0.0, -57.6880881],\n",
    "              [668.682368, 0.0]])\n",
    "Aij1 = np.array([[0.0, 0.46909821],\n",
    "               [-0.37982045, 0.0]])\n",
    "mix.NRTL(alpha, Aij0, Aij1)\n",
    "eos = preos(mix, mixrule='mhv1_nrtl')"
   ]
  },
  {
   "cell_type": "code",
   "execution_count": 20,
   "metadata": {},
   "outputs": [],
   "source": [
    "# Example 16. Initialization of Peng Robinson EOS for mixture. Mixing rule is MHV1 with Wilson.\n",
    "mix = ethanol + water\n",
    "\n",
    "Aij = np.array([[0., 163.97284376],\n",
    "                [497.26813303, 0.]])\n",
    "mix.wilson(Aij)\n",
    "eos = preos(mix, mixrule='mhv1_wilson')"
   ]
  },
  {
   "cell_type": "code",
   "execution_count": 21,
   "metadata": {},
   "outputs": [],
   "source": [
    "# Example 17. Initialization of Peng Robinson EOS for mixture. Mixing rule is MHV1 with Redlich Kister.\n",
    "mix = ethanol + water\n",
    "\n",
    "C0 = np.array([1.20945699, -0.62209997, 3.18919339])\n",
    "C1 = np.array([-13.271128, 101.837857, -1100.29221])\n",
    "mix.rk(C0, C1)\n",
    "eos = preos(mix, mixrule='mhv1_rk')"
   ]
  },
  {
   "cell_type": "code",
   "execution_count": 22,
   "metadata": {},
   "outputs": [],
   "source": [
    "# Example 18. Initialization of Peng Robinson EOS for mixture. Mixing rule is MHV1 with UNIQUAC.\n",
    "mix = ethanol + water\n",
    "# note: you need to provide the molecular surface and volume (ri and qi) to the components for this method to work.\n",
    "\n",
    "# interactions energies in K\n",
    "A12, A21 = -7.33540823, 151.83100234 \n",
    "Aij0 = np.array([[0., A12], [A21, 0.]])\n",
    "mix.uniquac(Aij0)\n",
    "eos = preos(mix, mixrule='mhv1_uniquac')"
   ]
  },
  {
   "cell_type": "code",
   "execution_count": 23,
   "metadata": {},
   "outputs": [],
   "source": [
    "# Example 19. Initialization of Peng Robinson EOS for mixture. Mixing rule is MHV1 with Modified UNIFAC.\n",
    "\n",
    "mix = ethanol + water\n",
    "mix.unifac()\n",
    "\n",
    "eos = preos(mix, mixrule='mhv1_unifac')"
   ]
  },
  {
   "cell_type": "markdown",
   "metadata": {},
   "source": [
    "<a id='ws-mixingrule'></a>\n",
    "\n",
    "#### Wong-Sandler mixing rule (WS)\n",
    "\n",
    "This advanced mixing rule uses the infinity pressure reference and considers a theoretically correct calculation of the second-virial:\n",
    "\n",
    "$$ B = \\sum_i \\sum_j x_i x_j \\left[ b - \\frac{a}{RT} \\right]_{ij} = b_{mix} - \\frac{a_{mix}}{RT} $$\n",
    "\n",
    "In this mixing rule, the covolume is computed as follows:\n",
    "\n",
    "$$ b_{mix}= \\frac{\\sum_i \\sum_j x_i x_j \\left[ b - \\frac{a}{RT} \\right]_{ij}}{1 - \\frac{g^{E, model}}{C^*} - \\sum_i x_i \\frac{a_i}{b_i RT}} $$\n",
    "\n",
    "This allows an adjustable parameter ``kij`` for each pair. \n",
    "\n",
    "$$ \\left[ b - \\frac{a}{RT} \\right]_{ij} = \\frac{1}{2} \\left[ \\left( b_i - \\frac{a_i}{RT} \\right) + \\left( b_j - \\frac{a_j}{RT} \\right) \\right] \\left(1 -k_{ij} \\right)$$\n",
    "\n",
    "Finally, the cohesive parameter is computed as follows:\n",
    "\n",
    "$$ a_{mix} = b_{mix} RT \\left[ \\frac{g^{E, model}}{C^*} + \\sum_i x_i \\frac{a_i}{b_i RT} \\right]$$\n",
    "\n",
    "**note1:** you can supply the ``Kij`` correction matrix using the ``mix.kij_ws`` method.\n",
    "\n",
    "\n",
    "**note2:** You can couple this mixing rule with any of the implemented activity coefficient models. You need to provide the model's parameter to the `mixture` object."
   ]
  },
  {
   "cell_type": "code",
   "execution_count": 24,
   "metadata": {},
   "outputs": [],
   "source": [
    "# Example 20. Initialization of Peng Robinson EOS for mixture. Mixing rule is WS with NRTL.\n",
    "mix = ethanol + water\n",
    "\n",
    "alpha = np.array([[0.0, 0.5597628],\n",
    "                  [0.5597628, 0.0]])\n",
    "Aij0 = np.array([[0.0, -57.6880881],\n",
    "              [668.682368, 0.0]])\n",
    "Aij1 = np.array([[0.0, 0.46909821],\n",
    "               [-0.37982045, 0.0]])\n",
    "mix.NRTL(alpha, Aij0, Aij1)\n",
    "eos = preos(mix, mixrule='ws_nrtl')"
   ]
  },
  {
   "cell_type": "code",
   "execution_count": 25,
   "metadata": {},
   "outputs": [],
   "source": [
    "# Example 21. Initialization of Peng Robinson EOS for mixture. Mixing rule is WS with Wilson.\n",
    "mix = ethanol + water\n",
    "\n",
    "\n",
    "Aij = np.array([[0., 163.97284376],\n",
    "                [497.26813303, 0.]])\n",
    "mix.wilson(Aij)\n",
    "eos = preos(mix, mixrule='ws_wilson')"
   ]
  },
  {
   "cell_type": "code",
   "execution_count": 26,
   "metadata": {},
   "outputs": [],
   "source": [
    "# Example 22. Initialization of Peng Robinson EOS for mixture. Mixing rule is WS with Redlich Kister.\n",
    "mix = ethanol + water\n",
    "\n",
    "C0 = np.array([1.20945699, -0.62209997, 3.18919339])\n",
    "C1 = np.array([-13.271128, 101.837857, -1100.29221])\n",
    "mix.rk(C0, C1)\n",
    "eos = preos(mix, mixrule='ws_rk')"
   ]
  },
  {
   "cell_type": "code",
   "execution_count": 27,
   "metadata": {},
   "outputs": [],
   "source": [
    "# Example 23. Initialization of Peng Robinson EOS for mixture. Mixing rule is WS with UNIQUAC.\n",
    "mix = ethanol + water\n",
    "# note: you need to provide the molecular surface and volume (ri and qi) to the components for this method to work.\n",
    "\n",
    "# interactions energies in K\n",
    "A12, A21 = -7.33540823, 151.83100234 \n",
    "Aij0 = np.array([[0., A12], [A21, 0.]])\n",
    "mix.uniquac(Aij0)\n",
    "eos = preos(mix, mixrule='ws_uniquac')"
   ]
  },
  {
   "cell_type": "code",
   "execution_count": 28,
   "metadata": {},
   "outputs": [],
   "source": [
    "# Example 24. Initialization of Peng Robinson EOS for mixture. Mixing rule is WS with Modified UNIFAC.\n",
    "mix = ethanol + water\n",
    "\n",
    "mix.unifac()\n",
    "\n",
    "kijws = 0.226140922855718\n",
    "Kij_ws = np.array([[0, kijws], [kijws, 0.]])\n",
    "\n",
    "mix.kij_ws(Kij_ws)\n",
    "\n",
    "eos = preos(mix, mixrule='ws_unifac')"
   ]
  },
  {
   "cell_type": "markdown",
   "metadata": {},
   "source": [
    "For further information please also check [official documentation](https://phasepy.readthedocs.io/), or just try:\n",
    "\n",
    "```function?```"
   ]
  }
 ],
 "metadata": {
  "kernelspec": {
   "display_name": "thermo",
   "language": "python",
   "name": "thermo"
  },
  "language_info": {
   "codemirror_mode": {
    "name": "ipython",
    "version": 3
   },
   "file_extension": ".py",
   "mimetype": "text/x-python",
   "name": "python",
   "nbconvert_exporter": "python",
   "pygments_lexer": "ipython3",
   "version": "3.9.7"
  }
 },
 "nbformat": 4,
 "nbformat_minor": 4
}
