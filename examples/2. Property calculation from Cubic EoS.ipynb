{
 "cells": [
  {
   "cell_type": "markdown",
   "metadata": {},
   "source": [
    "# Property calculation with cubic EoS\n",
    "\n",
    "First it is necessary to import the ``component`` class and the equation of state (EoS). For these example we will use Peng-Robinson EoS (``preos``)."
   ]
  },
  {
   "cell_type": "code",
   "execution_count": 1,
   "metadata": {},
   "outputs": [],
   "source": [
    "import numpy as np\n",
    "from phasepy import component, preos"
   ]
  },
  {
   "cell_type": "markdown",
   "metadata": {},
   "source": [
    "---\n",
    "### Pure Fluids\n",
    "\n",
    "A fluid is created (``water``) and then the EoS object is created. The ``eosp`` object includes the methods to evaluate properties from the equation of state, such as, densities, pressure, fugacity coefficients, chemical potential and some thermal derived properties (residual entropy, residual enthalpy, residual heat capacities and speed of sound).\n",
    "\n",
    "**warning:** thermal derived properties are computed with numerical derivatives using $O(h^4)$ approximation."
   ]
  },
  {
   "cell_type": "code",
   "execution_count": 2,
   "metadata": {},
   "outputs": [],
   "source": [
    "water = component(name = 'water', Tc = 647.13, Pc = 220.55, Zc = 0.229, Vc = 55.948, w = 0.344861,\n",
    "                GC = {'H2O':1}, Mw = 18.04)\n",
    "\n",
    "eosp = preos(water)"
   ]
  },
  {
   "cell_type": "markdown",
   "metadata": {},
   "source": [
    "The density of the fluid is computed with the ``eosp.density`` method. It requires the temperature, pressure and the aggregation state."
   ]
  },
  {
   "cell_type": "code",
   "execution_count": 3,
   "metadata": {},
   "outputs": [
    {
     "name": "stderr",
     "output_type": "stream",
     "text": [
      "/opt/homebrew/Caskroom/miniforge/base/envs/thermo/lib/python3.9/site-packages/numpy/core/_asarray.py:171: VisibleDeprecationWarning: Creating an ndarray from ragged nested sequences (which is a list-or-tuple of lists-or-tuples-or ndarrays with different lengths or shapes) is deprecated. If you meant to do this, you must specify 'dtype=object' when creating the ndarray.\n",
      "  return array(a, dtype, copy=False, order=order, subok=True)\n"
     ]
    },
    {
     "data": {
      "text/plain": [
       "(0.045697369422639834, 3.5769380018112745e-05)"
      ]
     },
     "execution_count": 3,
     "metadata": {},
     "output_type": "execute_result"
    }
   ],
   "source": [
    "T = 340.  # K\n",
    "P = 1.  # bar\n",
    "# computed densities in mol/cm3\n",
    "eosp.density(T, P, 'L'), eosp.density(T, P, 'V')"
   ]
  },
  {
   "cell_type": "markdown",
   "metadata": {},
   "source": [
    "Similarly the pressure of the fluid can be computed at given molar volume and temperature using the ``eosp.pressure`` method. "
   ]
  },
  {
   "cell_type": "code",
   "execution_count": 4,
   "metadata": {},
   "outputs": [
    {
     "data": {
      "text/plain": [
       "(array([1.]), array([1.]))"
      ]
     },
     "execution_count": 4,
     "metadata": {},
     "output_type": "execute_result"
    }
   ],
   "source": [
    "rhol = 0.045697369422639834\n",
    "vl = 1./rhol\n",
    "\n",
    "rhov = 3.5769380018112745e-05\n",
    "vv = 1./rhov\n",
    "eosp.pressure(T, vl), eosp.pressure(T, vv)"
   ]
  },
  {
   "cell_type": "markdown",
   "metadata": {},
   "source": [
    "For pure fluids, the ``eos.psat`` method allows to compute the saturation pressure at given temperature. It returns the equilibrium pressure and molar volumes of the liquid and vapor phase. Similarly, the ``eos.tsat`` method allows to compute the saturation temperarute at given pressure.\n",
    "\n",
    "The phase equilibria can be verified through fugacity coefficients using the ``eos.logfug`` method or by using chemical potentials with the ``eos.muad`` method. The chemical potentials require that dimensionless density and temperature."
   ]
  },
  {
   "cell_type": "code",
   "execution_count": 5,
   "metadata": {},
   "outputs": [
    {
     "name": "stdout",
     "output_type": "stream",
     "text": [
      "Fugacity coefficients: True\n",
      "Chemical potential: True\n"
     ]
    },
    {
     "name": "stderr",
     "output_type": "stream",
     "text": [
      "/Users/gac21/Documents/phasepy/phasepy/cubic/cubicpure.py:426: RuntimeWarning: divide by zero encountered in true_divide\n",
      "  zfactor = np.sqrt(a/ci*10**5/100**6)*10**-10\n"
     ]
    }
   ],
   "source": [
    "Psat, vlsat, vvsat = eosp.psat(T)\n",
    "\n",
    "# checking fugacity coefficients\n",
    "logfugl, vlsat = eosp.logfug(T, Psat, 'L')\n",
    "logfugv, vvsat = eosp.logfug(T, Psat, 'V')\n",
    "\n",
    "\n",
    "# checking chemical potentials\n",
    "Tfactor, Pfactor, rofactor, tenfactor, zfactor = eosp.sgt_adim(T)\n",
    "\n",
    "Tad = T*Tfactor\n",
    "rholad = 1/vlsat * rofactor\n",
    "rhovad = 1/vvsat * rofactor\n",
    "\n",
    "mul = eosp.muad(rholad, Tad)\n",
    "muv = eosp.muad(rhovad, Tad)\n",
    "\n",
    "print('Fugacity coefficients:', np.allclose(logfugl, logfugv ))\n",
    "print('Chemical potential:', np.allclose(mul, muv ))"
   ]
  },
  {
   "cell_type": "code",
   "execution_count": 6,
   "metadata": {},
   "outputs": [
    {
     "name": "stdout",
     "output_type": "stream",
     "text": [
      "Fugacity coefficients: True\n",
      "Chemical potential: True\n"
     ]
    }
   ],
   "source": [
    "# computing saturation temperature\n",
    "P = 1.01325 # bar\n",
    "Tsat, vlsat2, vvsat2 = eosp.tsat(P, T0=350.)\n",
    "\n",
    "# checking fugacity coefficients\n",
    "logfugl, vlsat = eosp.logfug(Tsat, P, 'L')\n",
    "logfugv, vvsat = eosp.logfug(Tsat, P, 'V')\n",
    "\n",
    "\n",
    "# checking chemical potentials\n",
    "Tfactor, Pfactor, rofactor, tenfactor, zfactor = eosp.sgt_adim(Tsat)\n",
    "\n",
    "Tad2 = Tsat*Tfactor\n",
    "rholad2 = 1/vlsat2 * rofactor\n",
    "rhovad2 = 1/vvsat2 * rofactor\n",
    "\n",
    "mul = eosp.muad(rholad2, Tad2)\n",
    "muv = eosp.muad(rhovad2, Tad2)\n",
    "\n",
    "print('Fugacity coefficients:', np.allclose(logfugl, logfugv ))\n",
    "print('Chemical potential:', np.allclose(mul, muv ))"
   ]
  },
  {
   "cell_type": "markdown",
   "metadata": {},
   "source": [
    "The ``eosp`` object also includes the calculation of some thermal derived properties such as residual entropy (``eosp.EntropyR``), residual enthalpy (``eosp.EnthalpyR``), residual isochoric heat capacity (``eosp.CvR``), , residual isobaric heat capacity (``eosp.CpR``).\n",
    "\n",
    "For the speed of sound calculation (``eosp.speed_sound``) the ideal gas heat capacities are required, in the example the isochoric and isobaric ideal gas contribution are set to $3R/2$ and $5R/2$, respectively. Better values of ideal gas heat capacities contribution can be found from empirical correlations, such as the provided by DIPPR 801."
   ]
  },
  {
   "cell_type": "code",
   "execution_count": 7,
   "metadata": {},
   "outputs": [
    {
     "name": "stdout",
     "output_type": "stream",
     "text": [
      "Vaporization Entropy :  [128.64101949] J / mol K\n",
      "Vaporization Enthalpy :  [43737.94662497] J / mol\n",
      "Residual isochoric heat capacity :  [30.75238673] J / mol K\n",
      "Residual isobaric heat capacity :  [47.74391528] J / mol K\n",
      "Speed of sound :  [508.68253869] m / s\n"
     ]
    }
   ],
   "source": [
    "# vaporization entropy in J/mol K\n",
    "Svap = eosp.EntropyR(T, Psat, 'V') - eosp.EntropyR(T, Psat, 'L')\n",
    "\n",
    "# vaporization enthalpy in J/mol\n",
    "Hvap = eosp.EnthalpyR(T, Psat, 'V') - eosp.EnthalpyR(T, Psat, 'L')\n",
    "\n",
    "# isochoric and isobaric residual heats capacities in J / mol K\n",
    "cvr = eosp.CvR(T, P, 'L')\n",
    "cpr = eosp.CpR(T, P, 'L')\n",
    "\n",
    "# ideal gas heat capacities, better values can be obtained with DIPPR 801 correlations\n",
    "r = 8.314  # J / mol K\n",
    "CvId = 3*r/2\n",
    "CpId = 5*r/2\n",
    "w = eosp.speed_sound(T, P, 'V', CvId=CvId, CpId=CpId)\n",
    "\n",
    "print('Vaporization Entropy : ', Svap, 'J / mol K')\n",
    "print('Vaporization Enthalpy : ', Hvap, 'J / mol')\n",
    "print('Residual isochoric heat capacity : ', cvr, 'J / mol K')\n",
    "print('Residual isobaric heat capacity : ', cpr, 'J / mol K')\n",
    "print('Speed of sound : ', w, 'm / s')"
   ]
  },
  {
   "cell_type": "markdown",
   "metadata": {},
   "source": [
    "---\n",
    "### Fluid mixtures\n",
    "\n",
    "The EoS can be used for mixtures. The mixture is first created from two pure fluids using the ``mixture`` class. \n",
    "In this example the mixture is modeled with the Peng-Robinson EoS using the MHV mixing rule and the UNIFAC activity coefficient model. \n",
    "\n",
    "The ``eos`` object includes the methods to evaluate properties from the equation of state, such as, densities, pressure, fugacity coefficients, chemical potential and some thermal derived properties (residual entropy, residual enthalpy, residual heat capacities and speed of sound).\n",
    "\n",
    "**again:** thermal derived properties are computed with numerical derivatives using $O(h^4)$ approximation."
   ]
  },
  {
   "cell_type": "code",
   "execution_count": 8,
   "metadata": {},
   "outputs": [],
   "source": [
    "from phasepy import mixture\n",
    "\n",
    "water = component(name = 'water', Tc = 647.13, Pc = 220.55, Zc = 0.229, Vc = 55.948, w = 0.344861,\n",
    "                GC = {'H2O':1}, Mw = 18.04)\n",
    "\n",
    "\n",
    "ethanol = component(name = 'ethanol', Tc = 514.0, Pc = 61.37, Zc = 0.241, Vc = 168.0, w = 0.643558,\n",
    "                GC = {'CH3':1, 'CH2':1,'OH(P)':1}, Mw = 46.07)\n",
    "\n",
    "mix = mixture(water, ethanol)\n",
    "\n",
    "# or\n",
    "\n",
    "mix = water + ethanol\n",
    "\n",
    "mix.unifac()\n",
    "eos = preos(mix, 'mhv_unifac')"
   ]
  },
  {
   "cell_type": "markdown",
   "metadata": {},
   "source": [
    "The density of the fluid is computed with the ``eos.density`` method. It requires the composition, temperature, pressure and the aggregation state."
   ]
  },
  {
   "cell_type": "code",
   "execution_count": 9,
   "metadata": {},
   "outputs": [
    {
     "data": {
      "text/plain": [
       "(0.019059211378583994, 3.611599060036926e-05)"
      ]
     },
     "execution_count": 9,
     "metadata": {},
     "output_type": "execute_result"
    }
   ],
   "source": [
    "T = 340.  # K\n",
    "P = 1.  # bar\n",
    "x = np.array([0.3, 0.7])\n",
    "eos.density(x, T, P, 'L'), eos.density(x, T, P, 'V')"
   ]
  },
  {
   "cell_type": "markdown",
   "metadata": {},
   "source": [
    "The pressure of the fluid mixture can be computed at given composition, molar volume and temperature using the ``eos.pressure`` method. "
   ]
  },
  {
   "cell_type": "code",
   "execution_count": 10,
   "metadata": {},
   "outputs": [
    {
     "data": {
      "text/plain": [
       "(0.9999999999995453, 0.9999999999999989)"
      ]
     },
     "execution_count": 10,
     "metadata": {},
     "output_type": "execute_result"
    }
   ],
   "source": [
    "rhol = eos.density(x, T, P, 'L')\n",
    "vl = 1. / rhol\n",
    "\n",
    "rhov = eos.density(x, T, P, 'V')\n",
    "vv = 1. / rhov\n",
    "\n",
    "eos.pressure(x, vl, T), eos.pressure(x, vv, T)"
   ]
  },
  {
   "cell_type": "markdown",
   "metadata": {},
   "source": [
    "The effective fugacity coefficients can be computed at given composition, temperature, pressure and aggregation state using the ``eos.logfugef`` method. This functions returns the natural logarithm of the fugacity coefficients and the computed volume root.\n",
    "\n",
    "The fugacity of the mixture can be computed with the ``eos.logfugmix`` method. It works similarly as the previous method. \n",
    "\n",
    "The chemical potential are computed at given dimensionless density vector ($\\rho_i = x_i \\rho b_0$) and temperature.\n"
   ]
  },
  {
   "cell_type": "code",
   "execution_count": 11,
   "metadata": {},
   "outputs": [
    {
     "name": "stdout",
     "output_type": "stream",
     "text": [
      "Partial molar property :  True\n"
     ]
    },
    {
     "data": {
      "text/plain": [
       "array([-0.05741901,  0.01584424])"
      ]
     },
     "execution_count": 11,
     "metadata": {},
     "output_type": "execute_result"
    }
   ],
   "source": [
    "lnphi, v = eos.logfugef(x, T, P, 'L')\n",
    "lnphimix, v = eos.logfugmix(x, T, P, 'L')\n",
    "\n",
    "print('Partial molar property : ', np.allclose(lnphimix, np.dot(lnphi, x)))\n",
    "\n",
    "rhofactor = eos.b[0]\n",
    "rhoad = 1/v * rofactor\n",
    "rhovector = x*rhoad\n",
    "eos.muad(rhovector, T)\n"
   ]
  },
  {
   "cell_type": "markdown",
   "metadata": {},
   "source": [
    "The ``eos`` object also includes the calculation of some thermal derived properties such as residual entropy (``eos.EntropyR``), residual enthalpy (``eos.EnthalpyR``), residual isochoric heat capacity (``eos.CvR``), residual isobaric heat capacity (``eos.CpR``).\n",
    "\n",
    "For the speed of sound calculation (``eos.speed_sound``) the ideal gas heat capacities are required, in the example, the isochoric and isobaric ideal gas contributions are set to $3R/2$ and $5R/2$, respectively. Better values of ideal gas heat capacities contribution can be found from empirical correlations, such as the provided by DIPPR 801."
   ]
  },
  {
   "cell_type": "code",
   "execution_count": 12,
   "metadata": {},
   "outputs": [
    {
     "name": "stdout",
     "output_type": "stream",
     "text": [
      "Residual Entropy :  -116.82399490450543 J / mol K\n",
      "Residual Enthalpy :  -41118.718917157086 J / mol\n",
      "Residual isochoric heat capacity :  49.63465096712046 J / mol K\n",
      "Residual isobaric heat capacity :  80.14478165987333 J / mol K\n",
      "Speed of sound :  351.21516610308225 m / s\n"
     ]
    }
   ],
   "source": [
    "# Thermal derived properties\n",
    "\n",
    "Sr = eos.EntropyR(x, T, P, 'L')\n",
    "Hr = eos.EnthalpyR(x, T, P, 'L')\n",
    "Cvr = eos.CvR(x, T, P, 'L')\n",
    "Cpr = eos.CpR(x, T, P, 'L')\n",
    "\n",
    "# ideal gas heat capacities, better values can be obtained with DIPPR 801 correlations\n",
    "r = 8.314  # J / mol K\n",
    "CvId = 3*r/2\n",
    "CpId = 5*r/2\n",
    "w = eos.speed_sound(x, T, P, 'V', CvId=CvId, CpId=CpId)\n",
    "\n",
    "print('Residual Entropy : ', Sr, 'J / mol K')\n",
    "print('Residual Enthalpy : ', Hr, 'J / mol')\n",
    "print('Residual isochoric heat capacity : ', Cvr, 'J / mol K')\n",
    "print('Residual isobaric heat capacity : ', Cpr, 'J / mol K')\n",
    "print('Speed of sound : ', w, 'm / s')"
   ]
  },
  {
   "cell_type": "markdown",
   "metadata": {},
   "source": [
    "---\n",
    "For further information about each method check out the documentation running: ``eos.function?``"
   ]
  },
  {
   "cell_type": "code",
   "execution_count": null,
   "metadata": {},
   "outputs": [],
   "source": []
  }
 ],
 "metadata": {
  "kernelspec": {
   "display_name": "Python 3 (ipykernel)",
   "language": "python",
   "name": "python3"
  },
  "language_info": {
   "codemirror_mode": {
    "name": "ipython",
    "version": 3
   },
   "file_extension": ".py",
   "mimetype": "text/x-python",
   "name": "python",
   "nbconvert_exporter": "python",
   "pygments_lexer": "ipython3",
   "version": "3.9.7"
  }
 },
 "nbformat": 4,
 "nbformat_minor": 4
}
