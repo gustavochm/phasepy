{
 "cells": [
  {
   "cell_type": "markdown",
   "metadata": {},
   "source": [
    "# Vapor Liquid Liquid Equilibrium (VLLE)\n",
    "\n",
    "Function ``vlleb`` solves VLLE for binary mixtures and ``vlle`` for multicomponent mixtures."
   ]
  },
  {
   "cell_type": "markdown",
   "metadata": {},
   "source": [
    "## Binary (two component) mixture VLLE"
   ]
  },
  {
   "cell_type": "code",
   "execution_count": 1,
   "metadata": {},
   "outputs": [
    {
     "data": {
      "text/plain": [
       "(array([0.17165659, 0.82834341]),\n",
       " array([0.99256232, 0.00743768]),\n",
       " array([0.15177615, 0.84822385]),\n",
       " array([327.60666698]))"
      ]
     },
     "execution_count": 1,
     "metadata": {},
     "output_type": "execute_result"
    }
   ],
   "source": [
    "import numpy as np\n",
    "from phasepy import component, mixture, virialgamma\n",
    "from phasepy.equilibrium import vlleb\n",
    "\n",
    "water = component(name='water', Tc=647.13, Pc=220.55, Zc=0.229, Vc=55.948, w=0.344861,\n",
    "                  Ant=[11.64785144, 3797.41566067, -46.77830444],\n",
    "                  GC={'H2O':1})\n",
    "\n",
    "mtbe = component(name='mtbe', Tc=497.1, Pc=34.3, Zc=0.273, Vc=329.0, w=0.266059,\n",
    "                 Ant=[9.16238246, 2541.97883529, -50.40534341],\n",
    "                 GC={'CH3':3, 'CH3O':1, 'C':1})\n",
    "\n",
    "mix = mixture(water, mtbe)\n",
    "mix.unifac()\n",
    "eos = virialgamma(mix, actmodel='unifac')\n",
    "P = 1.01\n",
    "T0 = 320.0\n",
    "x0 = np.array([0.01, 0.99])\n",
    "w0 = np.array([0.99, 0.01])\n",
    "y0 = (x0 + w0)/2\n",
    "vlleb(x0, w0, y0, T0, P, 'P', eos)"
   ]
  },
  {
   "cell_type": "markdown",
   "metadata": {},
   "source": [
    "## Multicomponent mixture VLLE"
   ]
  },
  {
   "cell_type": "code",
   "execution_count": 2,
   "metadata": {},
   "outputs": [
    {
     "data": {
      "text/plain": [
       "           T: 328.5\n",
       "           P: 1.01\n",
       " error_outer: 3.985492841236682e-08\n",
       " error_inner: 3.4482008487377304e-10\n",
       "        iter: 14\n",
       "        beta: array([0.41457868, 0.22479531, 0.36062601])\n",
       "       tetha: array([0., 0., 0.])\n",
       "           X: array([[0.946738  , 0.01222701, 0.04103499],\n",
       "       [0.23284911, 0.67121402, 0.09593687],\n",
       "       [0.15295408, 0.78764474, 0.05940118]])\n",
       "           v: [None, None, None]\n",
       "      states: ['L', 'L', 'V']"
      ]
     },
     "execution_count": 2,
     "metadata": {},
     "output_type": "execute_result"
    }
   ],
   "source": [
    "from phasepy.equilibrium import vlle\n",
    "\n",
    "ethanol = component(name='ethanol', Tc=514.0, Pc=61.37, Zc=0.241, Vc=168.0, w=0.643558,\n",
    "                    Ant=[11.61809279, 3423.0259436, -56.48094263],\n",
    "                    GC={'CH3':1, 'CH2':1, 'OH(P)':1})\n",
    "\n",
    "mix = mixture(water, mtbe)\n",
    "mix.add_component(ethanol)\n",
    "mix.unifac()\n",
    "eos = virialgamma(mix, actmodel='unifac')\n",
    "P = 1.01\n",
    "T = 328.5\n",
    "Z = np.array([0.5, 0.44, 0.06])\n",
    "x0 = np.array([0.95, 0.025, 0.025])\n",
    "w0 = np.array([0.4, 0.5, 0.1])\n",
    "y0 = np.array([0.15, 0.8, 0.05])\n",
    "vlle(x0, w0, y0, Z, T, P, eos, K_tol=1e-11, full_output=True)"
   ]
  },
  {
   "cell_type": "markdown",
   "metadata": {},
   "source": [
    "Please also check [official documentation](https://phasepy.readthedocs.io/), or just try:\n",
    "\n",
    "```function?```"
   ]
  },
  {
   "cell_type": "code",
   "execution_count": null,
   "metadata": {},
   "outputs": [],
   "source": []
  }
 ],
 "metadata": {
  "kernelspec": {
   "display_name": "Python 3",
   "language": "python",
   "name": "python3"
  },
  "language_info": {
   "codemirror_mode": {
    "name": "ipython",
    "version": 3
   },
   "file_extension": ".py",
   "mimetype": "text/x-python",
   "name": "python",
   "nbconvert_exporter": "python",
   "pygments_lexer": "ipython3",
   "version": "3.8.3"
  }
 },
 "nbformat": 4,
 "nbformat_minor": 4
}
