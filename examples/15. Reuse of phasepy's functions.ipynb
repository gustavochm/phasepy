{
 "cells": [
  {
   "cell_type": "markdown",
   "metadata": {},
   "source": [
    "# Reuse of phasepy functions\n",
    "\n",
    "The purpose of this notebook is to show how the necessary methods and attributes for an object to be used alongside phasepy functions for phase equilibria and square gradient theory.\n",
    "\n",
    "- [Pure Fluid](#pure-fluids)\n",
    "- [Fluid Mixtures](#mixtures)"
   ]
  },
  {
   "cell_type": "code",
   "execution_count": 1,
   "metadata": {},
   "outputs": [],
   "source": [
    "import numpy as np\n",
    "from phasepy import component, mixture, preos"
   ]
  },
  {
   "cell_type": "markdown",
   "metadata": {},
   "source": [
    "<a id='pure-fluids'></a>\n",
    "\n",
    "\n",
    "## 1. Pure Fluids EoS Methods and Attributes\n",
    "\n",
    "You can reuse the ```sgt_pure``` function to study the interfacial behavior of a pure fluid. For this function you must supply an object which must include the following methods:\n",
    "\n",
    "- ```eos.sgt_adim```: Method that evaluates dimensionless factors for temperature, pressure, density, tension, and distance for interfacial properties computations with SGT.\n",
    "- ```eos.muad```: Method that computes the dimensionless chemical potential at given density and temperature.\n",
    "- ```eos.a0ad```: Method that computes the dimensionless Helmholtz density energy at given density and temperature.\n",
    "- ```eos.dOm```: Method that computes the dimensionless Thermodynamic Grand potential at given density and temperature.\n",
    "- ```eos.ci``` :  Computes influence parameters for SGT."
   ]
  },
  {
   "cell_type": "code",
   "execution_count": 2,
   "metadata": {},
   "outputs": [],
   "source": [
    "water =  component(name = 'Water', Tc = 647.13, Pc = 220.55, Zc = 0.229, Vc = 55.948, w = 0.344861,\n",
    "                   ksv = [ 0.87185176, -0.06621339], cii = [2.06553362e-26, 2.64204784e-23, 4.10320513e-21])\n",
    "\n",
    "eosp = preos(water)"
   ]
  },
  {
   "cell_type": "markdown",
   "metadata": {},
   "source": [
    "You must be able to compute the VLE of the fluid. In phasepy's cubic eos you can do that with the ```eos.psat``` method."
   ]
  },
  {
   "cell_type": "code",
   "execution_count": 3,
   "metadata": {},
   "outputs": [
    {
     "data": {
      "text/plain": [
       "(array([0.02665047]), array([0.04708998]), array([1.07556519e-06]))"
      ]
     },
     "execution_count": 3,
     "metadata": {},
     "output_type": "execute_result"
    }
   ],
   "source": [
    "Tsat = 298.15 # K\n",
    "Psat, vl, vv = eosp.psat(Tsat)\n",
    "rhol = 1. / vl\n",
    "rhov = 1. / vv\n",
    "# Saturation pressure (bar), liquid density (mol/cm3), vapor density (mol/cm3)\n",
    "Psat, rhol, rhov"
   ]
  },
  {
   "cell_type": "markdown",
   "metadata": {},
   "source": [
    "---\n",
    "\n",
    "####  ```eos.sgt_adim``` method:\n",
    "- Parameters: `T` (Temperature)\n",
    "- Returns: `Tfactor`, `Pfactor`, `rhofactor`, `tenfactor`, `zfactor`\n",
    "\n",
    "For pure fluids, Square Gradient Theory (SGT) states that the interfacial tension is computed as follows. \n",
    "\n",
    "$$ \\gamma = \\sqrt{2c_{ii}} \\int_{\\rho_v}^{\\rho_l} \\underbrace{\\left[a_0 - \\rho \\mu^0 + P^0 \\right]}_{\\Delta \\Omega} d\\rho \\rightarrow \\gamma^* = \\sqrt{2} \\int_{\\rho_v^*}^{\\rho_l^*} \\underbrace{\\left[a_0^* - \\rho \\mu^{0*} + P^{0*} \\right]}_{\\Delta \\Omega^*} d\\rho^*$$\n",
    "\n",
    "Where $\\gamma$ is the interfacial tension, $c_{ii}$ is the influence parameter, $\\rho$ is the fluid density, $a_0$ is the Helmholtz density energy, $\\mu$ is the chemical potential, $P$ is the pressure, and $\\Delta \\Omega$ is the Thermodynamic Grand Potential Difference. Superscript $0$ refers to properties evaluated at equilibrium, and superscript $*$ refers to the dimensionless properties. Subscript $l$ and $v$, refers to liquid and vapor phase, respectively.\n",
    "\n",
    "The dimensionless quantities are obtaines as shown below:\n",
    "\n",
    "- $T^* = Tfactor \\cdot T$\n",
    "- $P^* = Pfactor \\cdot P$\n",
    "- $\\rho^* = rhofactor \\cdot \\rho$\n",
    "- $ z^* = zfactor \\cdot z$\n",
    "- $ \\gamma = tenfactor \\cdot \\gamma^*$\n",
    "\n",
    "The ``eos.sgt_adim``  included in phasepy's cubic eos computes the following factors:\n",
    "\n",
    "- $Tfactor = R \\cdot b / a$\n",
    "- $Pfactor = b^2 / a$\n",
    "- $rhofactor = b$\n",
    "- $tenfactor = 1000*\\sqrt{a \\cdot c_{ii}}/b^2*(\\sqrt{101325/1.01325} \\cdot 100^3)$\n",
    "- $zfactor =  \\sqrt{a/c_{ii}*10^5/100^6}*10^{-10}$\n",
    "\n",
    "Where $a$ and $b$ are the cohesive and covolume from the cubic EoS and $R$ is the ideal gas constant. These conversion factors allow working with dimensionally consistent SGT equations and will compute the interfacial length in Angstrom  ($\\rm \\mathring A$) and interfacial tension in mN/m.\n",
    "\n",
    "You can set the factors to 1 if your unit system is consistent but be aware that the influence parameter is included in the SGT equation through the ```tenfactor``` and ```zfactor``` parameters. \n"
   ]
  },
  {
   "cell_type": "code",
   "execution_count": 4,
   "metadata": {},
   "outputs": [],
   "source": [
    "Tfactor, Pfactor, rhofactor, tenfactor, zfactor = eosp.sgt_adim(Tsat)\n",
    "\n",
    "# The factors are used as follows:\n",
    "rola = rhol * rhofactor\n",
    "rova = rhov * rhofactor\n",
    "Tad = Tsat * Tfactor\n",
    "Pad = Psat * Pfactor"
   ]
  },
  {
   "cell_type": "markdown",
   "metadata": {},
   "source": [
    "---\n",
    "\n",
    "####  ```eos.ci``` method:\n",
    "- Parameters: `T` (Temperature)\n",
    "- Returns: `cii` (influence parameter)\n",
    "\n",
    "In phasepy's cubic EoS objects the ``eos.ci`` method is called by the ``eos.sgt_adim`` method.\n",
    "\n"
   ]
  },
  {
   "cell_type": "code",
   "execution_count": 5,
   "metadata": {},
   "outputs": [
    {
     "data": {
      "text/plain": [
       "1.3816594292666143e-20"
      ]
     },
     "execution_count": 5,
     "metadata": {},
     "output_type": "execute_result"
    }
   ],
   "source": [
    "# computing influence parameter at given temperature\n",
    "eosp.ci(Tsat)"
   ]
  },
  {
   "cell_type": "markdown",
   "metadata": {},
   "source": [
    "---\n",
    "\n",
    "#### `eos.a0ad` method:\n",
    "- Parameters: `rhoa` (dimensionless density), `Tad` (dimensionless Temperature)\n",
    "- Returns: `a0` (dimensionless Helmholtz density energy)\n",
    "\n",
    "\n",
    "The ```eos.a0ad``` method computes the dimensionless Helmholtz density energy ($a_0$) at given dimensionless density and dimensionless temperature."
   ]
  },
  {
   "cell_type": "code",
   "execution_count": 6,
   "metadata": {},
   "outputs": [
    {
     "data": {
      "text/plain": [
       "array([-1.34987859e-05])"
      ]
     },
     "execution_count": 6,
     "metadata": {},
     "output_type": "execute_result"
    }
   ],
   "source": [
    "eosp.a0ad(rova, Tad)"
   ]
  },
  {
   "cell_type": "markdown",
   "metadata": {},
   "source": [
    "---\n",
    "\n",
    "#### ```eos.muad``` method:\n",
    "- Parameters: `rhoa` (dimensionless density), `Tad` (dimensionless Temperature)\n",
    "- Returns: `mu` (dimensionless chemical potential)\n",
    "\n",
    "The ```eos.muad``` method computes the dimensionless chemical potential ($\\mu$) at a given dimensionless density and dimensionless temperature."
   ]
  },
  {
   "cell_type": "code",
   "execution_count": 7,
   "metadata": {},
   "outputs": [
    {
     "data": {
      "text/plain": [
       "(array([-0.6135512]), array([-0.61355089]))"
      ]
     },
     "execution_count": 7,
     "metadata": {},
     "output_type": "execute_result"
    }
   ],
   "source": [
    "# Equilibrium chemical potential\n",
    "mu0 = eosp.muad(rova, Tad)\n",
    "mu02 = eosp.muad(rola, Tad)\n",
    "mu0, mu02"
   ]
  },
  {
   "cell_type": "markdown",
   "metadata": {},
   "source": [
    "--- \n",
    "#### ```eos.dOm``` method:\n",
    "- Parameters: `rhoa` (dimensionless density), `Tad` (dimensionless Temperature), `mu0` (dimensionless equilibrium chemical potential), `Pad` (dimensionless equilibrium pressure)\n",
    "- Returns: `dom` (dimensionless Thermodynamic Grand Potential difference)\n",
    "\n",
    "\n",
    "The ```eos.dOm``` will compute the Grand Thermodynamic Potential difference ($\\Delta \\Omega$) at a given dimensionless density, temperature, equilibrium chemical potential, and pressure."
   ]
  },
  {
   "cell_type": "code",
   "execution_count": 8,
   "metadata": {},
   "outputs": [
    {
     "data": {
      "text/plain": [
       "array([1.36469886e-05])"
      ]
     },
     "execution_count": 8,
     "metadata": {},
     "output_type": "execute_result"
    }
   ],
   "source": [
    "# Thermodynamic Grand Potential difference\n",
    "rhoa = 10.*rova\n",
    "eosp.dOm(rhoa, Tad, mu0, Pad)"
   ]
  },
  {
   "cell_type": "markdown",
   "metadata": {},
   "source": [
    "<a id='mixtures'></a>\n",
    "\n",
    "\n",
    "## 2. Fluid Mixtures EoS Methods and Attributes\n",
    "\n",
    "For fluid mixtures you can compute the reuse phase equilibrium and stability functions, such as: ```tpd_min```, ```tpd_minimas```, ```lle_init```, ```flash```, ```bubblePy```, ```bubbleTy```, ```dewTx```, ```dewPx```, ```lle```, ```vlleb```, ```vlle```.\n",
    "\n",
    "Additionally, you can reuse the implemented functions for Square Gradient for mixtures, such as: ```sgt_mix_beta0```, ```sgt_mix```, ```msgt_mix```.\n",
    "\n",
    "In order to use these functions, the EoS object must include the following methods and attributes:\n",
    "\n",
    "**methods:**\n",
    "\n",
    "- ```eos.temperature_aux```: computes temperature dependent parameters.\n",
    "-  ```eos.logfugef_aux```: computes effective fugacity coefficients.\n",
    "- ```eos.dlogfugef_aux```: computes effective fugacity coefficients and it composition derivatives (OPTIONAL).\n",
    "- ```eos.a0ad_aux```: computes dimensionless Helmholtz density energy.\n",
    "- ```eos.muad_aux``` : computes dimensionless chemical potential.\n",
    "- ```eos.dmuad_aux``` : computes dimensionless chemical potential and its composition derivatives (OPTIONAL).\n",
    "- ```eos.dOm_aux``` : computes dimensionless Thermodynamic Grand Potential Difference.\n",
    "- ```eos.ci``` :  computes influence parameters matrix for SGT.\n",
    "- ```eos.sgt_adim``` : computes dimensionless factors for SGT.\n",
    "\n",
    "**attributes:**\n",
    "\n",
    "- ```eos.secondorder```: Boolean, ``True`` if ```eos.dlogfugef_aux``` is available.\n",
    "- ```eos.secondordersgt```: Boolean, ``True`` if ```eos.dmuad_aux``` is available."
   ]
  },
  {
   "cell_type": "code",
   "execution_count": 9,
   "metadata": {},
   "outputs": [],
   "source": [
    "water =  component(name = 'Water', Tc = 647.13, Pc = 220.55, Zc = 0.229, Vc = 55.948, w = 0.344861,\n",
    "                ksv = [ 0.87185176, -0.06621339],\n",
    "                cii = [2.06553362e-26, 2.64204784e-23, 4.10320513e-21],\n",
    "                GC = {'H2O':1})\n",
    "\n",
    "ethanol = component(name = 'Ethanol', Tc = 514.0, Pc = 61.37, Zc = 0.241, Vc = 168.0, w = 0.643558,\n",
    "                ksv = [1.27092923, 0.0440421 ],\n",
    "                cii = [ 2.35206942e-24, -1.32498074e-21,  2.31193555e-19],\n",
    "                GC = {'CH3':1, 'CH2':1, 'OH(P)':1})\n",
    "\n",
    "mix = mixture(ethanol, water)\n",
    "# or\n",
    "mix = ethanol + water\n",
    "mix.unifac()\n",
    "eosm = preos(mix, 'mhv_unifac')"
   ]
  },
  {
   "cell_type": "markdown",
   "metadata": {},
   "source": [
    "---\n",
    "#### `eos.temperature_aux` method:\n",
    "- Parameters: `T` (Temperature)\n",
    "- Returns: `temp_aux` (Tuple with all temperature dependent parameters)\n",
    "\n",
    "The ```eos.temperature_aux``` will compute all the EoS temperature-dependent parameters. This method returns a tuple which is used in all auxiliary methods ( ```eos.method_aux```)."
   ]
  },
  {
   "cell_type": "code",
   "execution_count": 10,
   "metadata": {},
   "outputs": [],
   "source": [
    "T = 298.15 # K\n",
    "temp_aux = eosm.temperature_aux(T)"
   ]
  },
  {
   "cell_type": "markdown",
   "metadata": {},
   "source": [
    "---\n",
    "#### `eos.logfugef_aux` method:\n",
    "- Parameters: `x` (Mole fraction array), `temp_aux` (Tuple with Temperature-dependent parameters), `P` (Pressure), `state` (aggregation state: `'L'` or `'V'`) and `v0` (optionally, to solve volume root)\n",
    "- Returns: `logfugef` (natural logarithm of the effective fugacity coefficients) and `v` (volume root)\n",
    "\n",
    "For the phase equilibria and stability functions, you need to provide an expression for the effective fugacity coefficient ($\\ln \\hat{\\phi_i}$).\n",
    "\n",
    "The natural logarithm of the effective fugacity coefficients is computed with the ```eos.logfugef_aux``` method. This method requires the mole fraction vector, the temp_aux tuple obtained from the ```eos.temperature_aux``` method, the pressure, the aggregation state (```'L'``` or ```'V'```) and the option to include an initial guess to compute the volume of the mixture at the given conditions. "
   ]
  },
  {
   "cell_type": "code",
   "execution_count": 11,
   "metadata": {},
   "outputs": [
    {
     "data": {
      "text/plain": [
       "(array([-1.74849038, -3.55682539]), 29.3806008794218)"
      ]
     },
     "execution_count": 11,
     "metadata": {},
     "output_type": "execute_result"
    }
   ],
   "source": [
    "T = 298.15 # K\n",
    "P = 1.01325 # bar\n",
    "temp_aux = eosm.temperature_aux(T)\n",
    "x = np.array([0.2, 0.8])\n",
    "logfugef, vlm = eosm.logfugef_aux(x, temp_aux, P, 'L', v0=None)\n",
    "logfugef, vlm"
   ]
  },
  {
   "cell_type": "markdown",
   "metadata": {},
   "source": [
    "---\n",
    "#### `eos.dlogfugef_aux` method:\n",
    "- Parameters: `x` (Mole fraction array), `temp_aux` (Tuple with Temperature-dependent parameters), `P` (Pressure), `state` (aggregation state: `'L'` or `'V'`) and `v0` (optionally, to solve volume root)\n",
    "- Returns: `logfugef` (natural logarithm of the effective fugacity coefficients), `dlogfugef` (natural logarithm of the effective fugacity coefficients composition derivatives) and `v` (volume root)\n",
    "\n",
    "Optionally, for equilibria computation at fixed temperature and pressure (```flash``` or ```vlle```) you can speed up the computation if you provide the derivatives of the fugacity coefficient ($d\\ln \\hat{\\phi_i} / dn_j)$. \n",
    "\n",
    "The method ``eos.dlogfugef_aux`` computes the fugacity coefficient, its composition derivatives, and the volume root. This function requires the mole fraction vector, the temp_aux tuple obtained from the ```eos.temperature_aux``` method, the pressure, the aggregation state (```'L'``` or ```'V'```) and the option to include an initial guess to compute the volume of the mixture at the given conditions. \n",
    "\n",
    "You can indicate that this method is available setting the ``eos.secondorder`` attribute to ``True``."
   ]
  },
  {
   "cell_type": "code",
   "execution_count": 12,
   "metadata": {},
   "outputs": [
    {
     "name": "stdout",
     "output_type": "stream",
     "text": [
      "eos.secondorder:  True\n"
     ]
    },
    {
     "data": {
      "text/plain": [
       "(array([-1.74849038, -3.55682539]),\n",
       " array([[-2.26756678,  0.56689169],\n",
       "        [ 0.56689169, -0.14172292]]),\n",
       " 29.38060087942181)"
      ]
     },
     "execution_count": 12,
     "metadata": {},
     "output_type": "execute_result"
    }
   ],
   "source": [
    "print('eos.secondorder: ', eosm.secondorder)\n",
    "\n",
    "T = 298.15 # K\n",
    "P = 1.01325 # bar\n",
    "temp_aux = eosm.temperature_aux(T)\n",
    "x = np.array([0.2, 0.8])\n",
    "logfugef, dlogfug, vlm = eosm.dlogfugef_aux(x, temp_aux, P, 'L', v0=None)\n",
    "logfugef, dlogfug, vlm "
   ]
  },
  {
   "cell_type": "markdown",
   "metadata": {},
   "source": [
    "---\n",
    "\n",
    "####  ```eos.sgt_adim``` method:\n",
    "- Parameters: `T` (Temperature)\n",
    "- Returns: `Tfactor`, `Pfactor`, `rhofactor`, `tenfactor`, `zfactor`\n",
    "\n",
    "For mixtures, SGT states that the density profiles must fulfill the following Euler-Lagrange system:\n",
    "\n",
    "$$ \\sum_j c_{ij} \\frac{d^2 \\rho_j}{dz^2} = \\mu_i - \\mu_i^0 \\quad \\rightarrow \\quad  \\sum_j \\frac{c_{ij}}{c_{11}} \\frac{d^2 \\rho_j^*}{dz^{*2}} = \\mu_i^* - \\mu_i^{*0} \\\\\n",
    "\\rho(z \\rightarrow -\\infty) = \\rho^\\alpha \\quad \\rho(z \\rightarrow \\infty) = \\rho^\\beta  \\quad \\rightarrow \\quad\n",
    "\\rho(z^* \\rightarrow -\\infty) = \\rho^{*\\alpha} \\quad \\rho(z^* \\rightarrow \\infty) = \\rho^{*\\beta} $$ \n",
    "\n",
    "\n",
    "Then the dimensionless interfacial tension is computed as follows:\n",
    "\n",
    "$$ \\gamma^* = \\int_{0}^{L^*} \\sqrt{2 \\Delta \\Omega^*(\\rho^*)  \\left( \\sum_{i=1}^c \\sum_{j=1}^c \\frac{c_{ij}}{c_{11}} \\frac{d\\rho^*_i}{dz^*} \\frac{d\\rho^*_j}{dz^*} \\right) }dz^* $$\n",
    "\n",
    "The dimensionless quantities are obtaines as shown below:\n",
    "\n",
    "- $T^* = Tfactor \\cdot T$\n",
    "- $P^* = Pfactor \\cdot P$\n",
    "- $\\rho^* = rhofactor \\cdot \\rho$\n",
    "- $ z^* = zfactor \\cdot z$\n",
    "- $ \\gamma = tenfactor \\cdot \\gamma^*$\n",
    "\n",
    "Similarly as for pure fluids, the ```eos.sgt_adim``` computes the factors to work with a dimensionless SGT's equations. \n",
    "\n",
    "- $Tfactor = R \\cdot b_1 / a_1$\n",
    "- $Pfactor = b_1^2 / a_1$\n",
    "- $rhofactor = b_1$\n",
    "- $tenfactor = 1000*\\sqrt{a_1 \\cdot c_{11}}/b_1^2*(\\sqrt{101325/1.01325} \\cdot 100^3)$\n",
    "- $zfactor =  \\sqrt{a_1/c_{11}*10^5/100^6}*10^{-10}$\n",
    "\n",
    "Where, $a_1$ and $b_1$ are the cohesive and covolume from the cubic EoS of the first component of the mixture. These conversion factors allow working with dimensionally consistent SGT equations and will compute the interfacial length in Angstrom  ($\\rm \\mathring A$) and interfacial tension in mN/m.\n",
    "\n",
    "You can set the factors to 1 if your unit system is consistent but be aware that the influence parameter of the first component is used when solving the density profiles and IFT. You need to re-include it through the ```tenfactor``` and ```zfactor``` parameters. "
   ]
  },
  {
   "cell_type": "code",
   "execution_count": 13,
   "metadata": {},
   "outputs": [],
   "source": [
    "T = 298.15 # K\n",
    "Tfactorm, Pfactorm, rhofactorm, tenfactorm, zfactorm = eosm.sgt_adim(T)"
   ]
  },
  {
   "cell_type": "markdown",
   "metadata": {},
   "source": [
    "---\n",
    "\n",
    "####  ```eos.ci``` method:\n",
    "- Parameters: `T` (Temperature)\n",
    "- Returns: `cij` (influence parameter matrix)\n",
    "\n",
    "\n",
    "The influence parameter matrix is computed with the ```eos.ci``` method."
   ]
  },
  {
   "cell_type": "code",
   "execution_count": 14,
   "metadata": {},
   "outputs": [],
   "source": [
    "T = 298.15 # K\n",
    "cij = eosm.ci(T)"
   ]
  },
  {
   "cell_type": "markdown",
   "metadata": {},
   "source": [
    "---\n",
    "#### `eos.a0ad_aux` method:\n",
    "- Parameters: `rhoa` (dimentionless density vector), `temp_aux` (Tuple with Temperature-dependent parameters)\n",
    "- Returns: `a0ad` (dimensionless Helholmtz density energy)\n",
    "\n",
    "The dimensionless Helholmtz density energy ($a_0$) is computed with the ```eos.a0ad_aux``` method. This method requires the dimensionless density vector and the tuple computed with the ```eos.temperature_aux``` method."
   ]
  },
  {
   "cell_type": "code",
   "execution_count": 15,
   "metadata": {},
   "outputs": [
    {
     "data": {
      "text/plain": [
       "-0.2892854573806896"
      ]
     },
     "execution_count": 15,
     "metadata": {},
     "output_type": "execute_result"
    }
   ],
   "source": [
    "rhoad = x / vlm * rhofactorm\n",
    "eosm.a0ad_aux(rhoad, temp_aux)"
   ]
  },
  {
   "cell_type": "markdown",
   "metadata": {},
   "source": [
    "---\n",
    "#### `eos.muad_aux` method:\n",
    "- Parameters: `rhoa` (dimentionless density vector), `temp_aux` (Tuple with Temperature-dependent parameters)\n",
    "- Returns: `muad` (dimensionless chemical potential array)\n",
    "\n",
    "The method ```eos.muad_aux``` computes the dimensionless chemical potential ($\\mu_i$) at a given density vector and temperature. This method requires the dimensionless density vector and the tuple computed with the ```eos.temperature_aux``` method."
   ]
  },
  {
   "cell_type": "code",
   "execution_count": 16,
   "metadata": {},
   "outputs": [
    {
     "data": {
      "text/plain": [
       "array([-0.1370864 , -0.16176095])"
      ]
     },
     "execution_count": 16,
     "metadata": {},
     "output_type": "execute_result"
    }
   ],
   "source": [
    "rhoad = x / vlm * rhofactorm\n",
    "\n",
    "muad = eosm.muad_aux(rhoad, temp_aux)\n",
    "muad "
   ]
  },
  {
   "cell_type": "markdown",
   "metadata": {},
   "source": [
    "---\n",
    "#### `eos.dmuad_aux` method:\n",
    "- Parameters: `rhoa` (dimentionless density vector), `temp_aux` (Tuple with Temperature-dependent parameters)\n",
    "- Returns: `muad` (dimensionless chemical potential array) and `dmuad` (dimensionless chemical potential array composition derivatives)\n",
    "\n",
    "The method ```eos.dmuad_aux``` computes the chemical potential ($\\mu_i$) and its composition derivatives matrix ($d\\mu_i/d\\rho_j$)  at given density vector and temperature. This method requires the dimensionless density vector and the tuple computed with the ```eos.temperature_aux``` method.\n",
    "\n",
    "This method is used if the ```eos.secondordersgt``` attribute is set to ```True``` and allows a faster density profile computation."
   ]
  },
  {
   "cell_type": "code",
   "execution_count": 17,
   "metadata": {},
   "outputs": [
    {
     "name": "stdout",
     "output_type": "stream",
     "text": [
      "eos.secondordersgt:  True\n"
     ]
    },
    {
     "data": {
      "text/plain": [
       "(array([-0.1370864 , -0.16176095]),\n",
       " array([[8.52913634, 2.87491965],\n",
       "        [2.87491965, 0.98810607]]))"
      ]
     },
     "execution_count": 17,
     "metadata": {},
     "output_type": "execute_result"
    }
   ],
   "source": [
    "print('eos.secondordersgt: ', eosm.secondordersgt)\n",
    "rhoad = x / vlm * rhofactorm\n",
    "\n",
    "muad, dmuad = eosm.dmuad_aux(rhoad, temp_aux)\n",
    "muad, dmuad"
   ]
  },
  {
   "cell_type": "markdown",
   "metadata": {},
   "source": [
    "--- \n",
    "#### ```eos.dOm_aux``` method:\n",
    "- Parameters: `rhoa` (dimentionless density vector), `temp_aux` (Tuple with Temperature-dependent parameters), `mu0` (dimensionless equilibrium chemical potential), `Pad` (dimensionless equilibrium pressure)\n",
    "- Returns: `dom` (dimensionless Thermodynamic Grand Potential difference)\n",
    "\n",
    "The Thermodynamic Grand Potential difference ($\\Delta \\Omega$) is computed with the ```eos.dOm_aux``` method. This method requires the dimensionless density vector, the temp_aux tuple computed with the ```eos.temperature_aux```, the dimensionless equilibrium chemical potential, and the equilibrium pressure."
   ]
  },
  {
   "cell_type": "code",
   "execution_count": 18,
   "metadata": {},
   "outputs": [
    {
     "data": {
      "text/plain": [
       "array([-9.23967584e-05])"
      ]
     },
     "execution_count": 18,
     "metadata": {},
     "output_type": "execute_result"
    }
   ],
   "source": [
    "# dimentionless density vector\n",
    "rhoad = x / vlm * rhofactorm\n",
    "\n",
    "# dimenstionless equilibrium pressure \n",
    "P = 1.01325 # bar\n",
    "Pad = P*Pfactor\n",
    "\n",
    "eosm.dOm_aux(rhoad, temp_aux, muad, Pad)"
   ]
  }
 ],
 "metadata": {
  "kernelspec": {
   "display_name": "Python 3",
   "language": "python",
   "name": "python3"
  },
  "language_info": {
   "codemirror_mode": {
    "name": "ipython",
    "version": 3
   },
   "file_extension": ".py",
   "mimetype": "text/x-python",
   "name": "python",
   "nbconvert_exporter": "python",
   "pygments_lexer": "ipython3",
   "version": "3.8.3"
  }
 },
 "nbformat": 4,
 "nbformat_minor": 4
}
