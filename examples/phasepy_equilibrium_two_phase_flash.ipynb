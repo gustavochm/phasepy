{
 "cells": [
  {
   "cell_type": "markdown",
   "metadata": {},
   "source": [
    "# Two-Phase Flash Calculation (VLE and LLE)\n",
    "\n",
    "Phasepy ``flash`` routine solves phase compositions for equilibrium flash in constant pressure and temperature (PT-flash). Examples below apply Peng-Robinson equation of state. The mixing rule applied is Modified Huron Vidal combined with Modified UNIFAC."
   ]
  },
  {
   "cell_type": "code",
   "execution_count": 1,
   "metadata": {},
   "outputs": [],
   "source": [
    "import numpy as np\n",
    "from phasepy import mixture, component, preos\n",
    "from phasepy.equilibrium import flash"
   ]
  },
  {
   "cell_type": "markdown",
   "metadata": {},
   "source": [
    "The ```flash``` function requires initial guesses for the phase compositions, the states of the phases, i.e ```LV``` fo liquid-vapor flash or ```LL``` for liquid-liquid flash, the global phase composition and the temperature and pressure of the system."
   ]
  },
  {
   "cell_type": "markdown",
   "metadata": {},
   "source": [
    "## Vapor Liquid Equilibrium Flash"
   ]
  },
  {
   "cell_type": "code",
   "execution_count": 2,
   "metadata": {},
   "outputs": [
    {
     "data": {
      "text/plain": [
       "      T: 350.0\n",
       "      P: 0.8\n",
       "   beta: 0.466570454690678\n",
       "  error: 9.467811189463731e-09\n",
       "   iter: 7\n",
       "      X: array([0.23951593, 0.76048407])\n",
       "     v1: 32.508877873118664\n",
       " state1: 'L'\n",
       "      Y: array([0.58348128, 0.41651872])\n",
       "     v2: 35869.13850299179\n",
       " state2: 'V'"
      ]
     },
     "execution_count": 2,
     "metadata": {},
     "output_type": "execute_result"
    }
   ],
   "source": [
    "water = component(name='water', Tc=647.13, Pc=220.55, \n",
    "                  w=0.344861, GC={'H2O':1})\n",
    "\n",
    "ethanol = component(name='ethanol', Tc=514.0, Pc=61.37,\n",
    "                    w=0.643558, GC={'CH3':1, 'CH2':1, 'OH(P)':1})\n",
    "\n",
    "mix = mixture(ethanol, water)\n",
    "mix.unifac() \n",
    "eos = preos(mix, 'mhv_unifac')\n",
    "T = 350.0\n",
    "P = 0.8\n",
    "Z = np.array([0.4, 0.6])\n",
    "x0 = np.array([0.23512692, 0.76487308])\n",
    "y0 = np.array([0.5, 0.5])\n",
    "flash(x0, y0, 'LV', Z, T, P, eos, full_output=True)"
   ]
  },
  {
   "cell_type": "markdown",
   "metadata": {},
   "source": [
    "## Liquid Liquid Equilibrium Flash"
   ]
  },
  {
   "cell_type": "code",
   "execution_count": 3,
   "metadata": {},
   "outputs": [
    {
     "data": {
      "text/plain": [
       "      T: 320.0\n",
       "      P: 1.01\n",
       "   beta: 0.4110257205721999\n",
       "  error: 2.4238302780752387e-09\n",
       "   iter: 10\n",
       "      X: array([0.15602773, 0.84397227])\n",
       "     v1: 102.2534074025592\n",
       " state1: 'L'\n",
       "      Y: array([0.99289086, 0.00710914])\n",
       "     v2: 22.185269194247574\n",
       " state2: 'L'"
      ]
     },
     "execution_count": 3,
     "metadata": {},
     "output_type": "execute_result"
    }
   ],
   "source": [
    "water = component(name='water', Tc=647.13, Pc=220.55, Zc=0.229, Vc=55.948, w=0.344861,\n",
    "                  Ant=[11.64785144, 3797.41566067, -46.77830444],\n",
    "                  GC={'H2O':1})\n",
    "\n",
    "mtbe = component(name='mtbe', Tc=497.1, Pc=34.3, Zc=0.273, Vc=329.0, w=0.266059,\n",
    "                 Ant=[9.16238246, 2541.97883529, -50.40534341],\n",
    "                 GC={'CH3':3, 'CH3O':1, 'C':1})\n",
    "\n",
    "mix = mixture(water, mtbe)\n",
    "mix.unifac()\n",
    "eos = preos(mix, 'mhv_unifac')\n",
    "T = 320.0\n",
    "P = 1.01\n",
    "Z = np.array([0.5, 0.5])\n",
    "x0 = np.array([0.01, 0.99])\n",
    "w0 = np.array([0.99, 0.01])\n",
    "flash(x0, w0, 'LL', Z, T, P, eos, full_output=True)"
   ]
  },
  {
   "cell_type": "markdown",
   "metadata": {},
   "source": [
    "Please also check [official documentation](https://phasepy.readthedocs.io/), or just try:\n",
    "\n",
    "```function?```"
   ]
  },
  {
   "cell_type": "code",
   "execution_count": null,
   "metadata": {},
   "outputs": [],
   "source": []
  }
 ],
 "metadata": {
  "kernelspec": {
   "display_name": "Python 3",
   "language": "python",
   "name": "python3"
  },
  "language_info": {
   "codemirror_mode": {
    "name": "ipython",
    "version": 3
   },
   "file_extension": ".py",
   "mimetype": "text/x-python",
   "name": "python",
   "nbconvert_exporter": "python",
   "pygments_lexer": "ipython3",
   "version": "3.8.3"
  }
 },
 "nbformat": 4,
 "nbformat_minor": 4
}
