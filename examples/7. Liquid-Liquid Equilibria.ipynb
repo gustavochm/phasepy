{
 "cells": [
  {
   "cell_type": "markdown",
   "metadata": {},
   "source": [
    "# Liquid Liquid Equilibrium (LLE)\n",
    "\n",
    "Phase stability plays a key role during equilibrium computation when dealing with more than two liquid phases. For this purpose the following modified multiphase Rachford-Rice mass balance has been proposed by [Gupta et al.](https://www.sciencedirect.com/science/article/pii/037838129180021M):\n",
    "\n",
    "\n",
    "$$ \\sum_{i=1}^c \\frac{z_i (K_{ik} \\exp{\\theta_k}-1)}{1+ \\sum\\limits^{\\pi}_{\\substack{j=1 \\\\ j \\neq r}}{\\psi_j (K_{ij}} \\exp{\\theta_j} -1)} = 0 \\qquad k = 1,..., \\pi,  k \\neq r $$\n",
    "\n",
    "Subject to:\n",
    "\n",
    "$$ \\psi_k \\theta_k = 0 $$\n",
    "\n",
    "In this system of equations, $z_i$ represents the global composition of the component $i$,  $ K_{ij} = x_{ij}/x_{ir} = \\hat{\\phi}_{ir}/\\hat{\\phi}_{ij} $ is the constant equilibrium of component $i$ in phase $j$ respect to the reference phase $r$, and $\\psi_j$ and $\\theta_j$ are the phase fraction and stability variable of the phase $j$.  \n",
    "\n",
    "The solution strategy is similar to the classic isothermal isobaric two-phase flash. First, a reference phase must be selected, this phase is considered stable during the procedure. In an inner loop, the system of equations is solved using multidimensional Newton's method for phase fractions and stability variables and then compositions are updated in an outer loop using accelerated successive substitution (ASS).  Once the algorithm has converged, the stability variable gives information about the phase. If it takes a value of zero the phase is stable and if it is positive the phase is not.  The proposed successive substitution method can be slow, if that is the case the algorithm attempts to minimize Gibbs Free energy of the system. This procedure also ensures stable solutions and is solved using SciPy's functions.\n",
    "\n",
    "$$ min \\, {G} = \\sum_{k=1}^\\pi \\sum_{i=1}^c F_{ik} \\ln \\hat{f}_{ik}  $$\n",
    "\n",
    "This notebook shows the solution of liquid-liquid equilibrium using the ``lle`` function. This function incorporates the algorithm described above. To start, the required functions are imported."
   ]
  },
  {
   "cell_type": "code",
   "execution_count": 1,
   "metadata": {},
   "outputs": [],
   "source": [
    "import numpy as np\n",
    "from phasepy import component, mixture, virialgamma, unifac\n",
    "from phasepy.equilibrium import lle"
   ]
  },
  {
   "cell_type": "markdown",
   "metadata": {},
   "source": [
    "The LLE calculation for the mixture of water and mtbe will be exemplified. First the mixture and its interaction parameters are set up. "
   ]
  },
  {
   "cell_type": "code",
   "execution_count": 2,
   "metadata": {},
   "outputs": [
    {
     "data": {
      "text/plain": [
       "           T: 320.0\n",
       "           P: 1.01\n",
       " error_outer: 2.9035040568173407e-09\n",
       " error_inner: 1.0073726451407202e-10\n",
       "        iter: 7\n",
       "        beta: array([0.53009228, 0.46990772])\n",
       "       tetha: array([0.])\n",
       "           X: array([[0.05876935, 0.94123065],\n",
       "       [0.99774233, 0.00225767]])\n",
       "           v: [None, None]\n",
       "      states: ['L', 'L']"
      ]
     },
     "execution_count": 2,
     "metadata": {},
     "output_type": "execute_result"
    }
   ],
   "source": [
    "water = component(name='water', Tc=647.13, Pc=220.55, Zc=0.229, Vc=55.948, w=0.344861,\n",
    "                  Ant=[11.64785144, 3797.41566067, -46.77830444],\n",
    "                  GC={'H2O':1})\n",
    "\n",
    "mtbe = component(name='mtbe', Tc=497.1, Pc=34.3, Zc=0.273, Vc=329.0, w=0.266059,\n",
    "                 Ant=[9.16238246, 2541.97883529, -50.40534341],\n",
    "                 GC={'CH3':3, 'CH3O':1, 'C':1})\n",
    "\n",
    "mix = mixture(water, mtbe)\n",
    "# or\n",
    "mix = water + mtbe\n",
    "\n",
    "mix.unifac()\n",
    "eos = virialgamma(mix, actmodel='unifac')\n",
    "T = 320.0\n",
    "P = 1.01\n",
    "Z = np.array([0.5, 0.5])\n",
    "x0 = np.array([0.01, 0.99])\n",
    "w0 = np.array([0.99, 0.01])\n",
    "lle(x0, w0, Z, T, P, eos, full_output=True)"
   ]
  },
  {
   "cell_type": "markdown",
   "metadata": {},
   "source": [
    "-----\n",
    "Initial guesses for the phase compositions can be obtained using the ``lle_init`` function. This is shown below."
   ]
  },
  {
   "cell_type": "code",
   "execution_count": 3,
   "metadata": {},
   "outputs": [
    {
     "data": {
      "text/plain": [
       "(array([0.99868736, 0.00131264]), array([0.11778925, 0.88221075]))"
      ]
     },
     "execution_count": 3,
     "metadata": {},
     "output_type": "execute_result"
    }
   ],
   "source": [
    "from phasepy.equilibrium import lle_init\n",
    "from phasepy import preos \n",
    "eos = preos(mix, 'mhv_unifac')\n",
    "T = 320.0\n",
    "P = 1.01\n",
    "z = np.array([0.5, 0.5])\n",
    "lle_init(z, T, P, eos)"
   ]
  },
  {
   "cell_type": "markdown",
   "metadata": {},
   "source": [
    "For further information please also check [official documentation](https://phasepy.readthedocs.io/), or just try:\n",
    "\n",
    "```function?```"
   ]
  },
  {
   "cell_type": "code",
   "execution_count": null,
   "metadata": {},
   "outputs": [],
   "source": []
  }
 ],
 "metadata": {
  "kernelspec": {
   "display_name": "thermo",
   "language": "python",
   "name": "thermo"
  },
  "language_info": {
   "codemirror_mode": {
    "name": "ipython",
    "version": 3
   },
   "file_extension": ".py",
   "mimetype": "text/x-python",
   "name": "python",
   "nbconvert_exporter": "python",
   "pygments_lexer": "ipython3",
   "version": "3.9.7"
  }
 },
 "nbformat": 4,
 "nbformat_minor": 4
}
