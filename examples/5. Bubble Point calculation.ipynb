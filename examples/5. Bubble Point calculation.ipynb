{
 "cells": [
  {
   "cell_type": "markdown",
   "metadata": {},
   "source": [
    "# Bubble Point (VLE)\n",
    "\n",
    "The isothermal-isobaric two-phase flash is the base for the calculation Vapor-Liquid Equilibria. This calculation is based on the solution of the Rachford-Rice mass balance. \n",
    "\n",
    "$$ FO = \\sum_{i=1}^c \\left( x_i^\\beta - x_i^\\alpha \\right) = \\sum_{i=1}^c \\frac{z_i (K_i-1)}{1+\\psi (K_i-1)} $$\n",
    "\n",
    "\n",
    "Where,  $K_i = x_i^\\beta/x_i^\\alpha =\\hat{\\phi}_i^\\alpha /\\hat{\\phi}_i^\\beta  $ represents the equilibrium constant  and $\\psi$ the fraction of the phase $\\beta$. For bubble and dew points calculations the phase fraction $\\psi$ is known beforehand and set to 0 for bubble points (differential size bubble) and to 1 for dew point (differential size liquid drop).\n",
    "\n",
    "The Rachford-Rice mass balance reduces to the following equations:\n",
    "\n",
    "### Bubble\n",
    "\n",
    "$$ FO = \\sum_{i=1}^c x_i (K_i-1) = \\sum_{i=1}^c y_i -1 = 0 $$\n",
    "\n",
    "The solution of this calculations includes using accelerated successive substitution (ASS) to update the phase compositions in an inner loop and the quasi-Newton method is used to update pressure or temperature in an outer loop. If slow convergence is detected, the algorithm attempts to solve the following system of equations using equilibrium constants, $K$, as iteration variables. This is done using SciPy's optimization routines.\n",
    "\n",
    "$$ f_i = \\ln K_i + \\ln \\hat{\\phi}_i^v(\\underline{y}, T, P) -\\ln \\hat{\\phi}_i^l(\\underline{x}, T, P) \\quad i = 1,...,c $$\n",
    "$$ f_{c+1} = \\sum_{i=1}^c (y_i-x_i) $$\n",
    "\n",
    "**note:** these calculations does not check for the stability of the phases.\n",
    "\n",
    "\n",
    "In this notebook, examples of calculation of bubble point properties using Peng-Robinson equation of state are shown. The mixing rule applied is Modified Huron Vidal combined with Modified UNIFAC."
   ]
  },
  {
   "cell_type": "code",
   "execution_count": 1,
   "metadata": {},
   "outputs": [],
   "source": [
    "import numpy as np\n",
    "from phasepy import mixture, component, preos\n",
    "from phasepy.equilibrium import bubblePy, bubbleTy"
   ]
  },
  {
   "cell_type": "markdown",
   "metadata": {},
   "source": [
    "---\n",
    "# Binary mixture example\n",
    "\n",
    "This calculation will be exemplified for the mixture of ethanol and water."
   ]
  },
  {
   "cell_type": "code",
   "execution_count": 2,
   "metadata": {},
   "outputs": [],
   "source": [
    "water = component(name='water', Tc=647.13, Pc=220.55, \n",
    "                  w=0.344861, GC={'H2O':1})\n",
    "ethanol = component(name='ethanol', Tc=514.0, Pc=61.37,\n",
    "                    w=0.643558, GC={'CH3':1, 'CH2':1, 'OH(P)':1})\n",
    "mix = mixture(ethanol, water)\n",
    "# or\n",
    "mix = ethanol + water\n",
    "mix.unifac() \n",
    "eos = preos(mix, 'mhv_unifac')"
   ]
  },
  {
   "cell_type": "markdown",
   "metadata": {},
   "source": [
    "-----\n",
    "#### Bubble point algorithm x, T -> y, P"
   ]
  },
  {
   "cell_type": "code",
   "execution_count": 3,
   "metadata": {},
   "outputs": [
    {
     "data": {
      "text/plain": [
       "      T: 350.0\n",
       "      P: 0.8969829229313712\n",
       "  error: 1.1558531909372505e-12\n",
       "   iter: 5\n",
       "      X: array([0.5, 0.5])\n",
       "     v1: 44.140674802039406\n",
       " state1: 'Liquid'\n",
       "      Y: array([0.68233401, 0.31766599])\n",
       "     v2: 31901.55013661387\n",
       " state2: 'Vapor'"
      ]
     },
     "execution_count": 3,
     "metadata": {},
     "output_type": "execute_result"
    }
   ],
   "source": [
    "x = np.array([0.5, 0.5])\n",
    "T = 350.0\n",
    "y0 = np.array([0.5, 0.5])\n",
    "P0 = 1.0\n",
    "bubblePy(y0, P0, x, T, eos, full_output=True)"
   ]
  },
  {
   "cell_type": "markdown",
   "metadata": {},
   "source": [
    "-----\n",
    "#### Bubble point algorithm x, P -> y, T"
   ]
  },
  {
   "cell_type": "code",
   "execution_count": 4,
   "metadata": {},
   "outputs": [
    {
     "data": {
      "text/plain": [
       "      T: 382.8457630542609\n",
       "      P: 3.0\n",
       "  error: 2.334872295778911e-10\n",
       "   iter: 5\n",
       "      X: array([0.6, 0.4])\n",
       "     v1: 51.11127949434465\n",
       " state1: 'Liquid'\n",
       "      Y: array([0.7027532, 0.2972468])\n",
       "     v2: 10143.393200684532\n",
       " state2: 'Vapor'"
      ]
     },
     "execution_count": 4,
     "metadata": {},
     "output_type": "execute_result"
    }
   ],
   "source": [
    "x = np.array([0.6, 0.4])\n",
    "P = 3.0\n",
    "y0 = np.array([0.5, 0.5])\n",
    "T0 = 320.0\n",
    "bubbleTy(y0, T0, x, P, eos, full_output=True)"
   ]
  },
  {
   "cell_type": "markdown",
   "metadata": {},
   "source": [
    "# Ternary mixture example"
   ]
  },
  {
   "cell_type": "code",
   "execution_count": 5,
   "metadata": {},
   "outputs": [],
   "source": [
    "mtbe = component(name='mtbe', Tc=497.1, Pc=34.3, Zc=0.273, Vc=329.0, w=0.266059,\n",
    "                 Ant=[9.16238246, 2541.97883529, -50.40534341], \n",
    "                 GC={'CH3':3, 'CH3O':1, 'C':1})\n",
    "\n",
    "ethanol = component(name='ethanol', Tc=514.0, Pc=61.37, Zc=0.241, Vc=168.0, w=0.643558,\n",
    "                    Ant=[11.61809279, 3423.0259436, -56.48094263],\n",
    "                    GC={'CH3':1, 'CH2':1,'OH(P)':1})\n",
    "\n",
    "butanol = component(name='n-Butanol', Tc=563.0, Pc=44.14, Zc=0.258, Vc=274.0, w=0.589462,\n",
    "                    Ant=[9.74673479, 2668.52570016, -116.66189545],\n",
    "                    GC={'CH3':1, 'CH2':3, 'OH(P)':1})\n",
    "\n",
    "mix = mixture(mtbe, ethanol)\n",
    "mix.add_component(butanol)\n",
    "# or \n",
    "mix = mtbe + ethanol + butanol\n",
    "\n",
    "mix.unifac()\n",
    "eos = preos(mix, 'mhv_unifac')"
   ]
  },
  {
   "cell_type": "markdown",
   "metadata": {},
   "source": [
    "-----\n",
    "#### Bubble point algorithm x, T -> y, P"
   ]
  },
  {
   "cell_type": "code",
   "execution_count": 6,
   "metadata": {},
   "outputs": [
    {
     "data": {
      "text/plain": [
       "      T: 350.0\n",
       "      P: 1.279357776059534\n",
       "  error: 3.5202407655532397e-10\n",
       "   iter: 5\n",
       "      X: array([0.2, 0.5, 0.3])\n",
       "     v1: 87.34523143118854\n",
       " state1: 'Liquid'\n",
       "      Y: array([0.5295944 , 0.41590612, 0.05449948])\n",
       "     v2: 21941.417797142472\n",
       " state2: 'Vapor'"
      ]
     },
     "execution_count": 6,
     "metadata": {},
     "output_type": "execute_result"
    }
   ],
   "source": [
    "x = np.array([0.2, 0.5, 0.3])\n",
    "T = 350.0\n",
    "y0 = np.array([0.2, 0.5, 0.3])\n",
    "P0 = 1\n",
    "bubblePy(y0, P0, x, T, eos, full_output=True)"
   ]
  },
  {
   "cell_type": "markdown",
   "metadata": {},
   "source": [
    "-----\n",
    "#### Bubble point algorithm x, P -> y, T"
   ]
  },
  {
   "cell_type": "code",
   "execution_count": 7,
   "metadata": {},
   "outputs": [
    {
     "data": {
      "text/plain": [
       "      T: 364.2163639657916\n",
       "      P: 2.0\n",
       "  error: 1.767475055203093e-13\n",
       "   iter: 5\n",
       "      X: array([0.2, 0.5, 0.3])\n",
       "     v1: 89.37008110948325\n",
       " state1: 'Liquid'\n",
       "      Y: array([0.48385218, 0.45234195, 0.06380586])\n",
       "     v2: 14396.13565517928\n",
       " state2: 'Vapor'"
      ]
     },
     "execution_count": 7,
     "metadata": {},
     "output_type": "execute_result"
    }
   ],
   "source": [
    "x = np.array([0.2, 0.5, 0.3])\n",
    "P = 2.0\n",
    "y0 = np.array([0.2, 0.5, 0.3])\n",
    "T0 = 320.0\n",
    "bubbleTy(y0, T0, x, P, eos, full_output=True)"
   ]
  },
  {
   "cell_type": "markdown",
   "metadata": {},
   "source": [
    "For further information please also check [official documentation](https://phasepy.readthedocs.io/), or just try:\n",
    "\n",
    "```function?```"
   ]
  },
  {
   "cell_type": "code",
   "execution_count": null,
   "metadata": {},
   "outputs": [],
   "source": []
  }
 ],
 "metadata": {
  "kernelspec": {
   "display_name": "thermo",
   "language": "python",
   "name": "thermo"
  },
  "language_info": {
   "codemirror_mode": {
    "name": "ipython",
    "version": 3
   },
   "file_extension": ".py",
   "mimetype": "text/x-python",
   "name": "python",
   "nbconvert_exporter": "python",
   "pygments_lexer": "ipython3",
   "version": "3.9.7"
  }
 },
 "nbformat": 4,
 "nbformat_minor": 4
}
