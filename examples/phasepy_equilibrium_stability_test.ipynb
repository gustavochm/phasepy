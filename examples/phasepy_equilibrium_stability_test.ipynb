{
 "cells": [
  {
   "cell_type": "markdown",
   "metadata": {},
   "source": [
    "# Stability testing with Tangent Plane Distance (TPD) function"
   ]
  },
  {
   "cell_type": "code",
   "execution_count": 1,
   "metadata": {},
   "outputs": [],
   "source": [
    "import numpy as np\n",
    "from phasepy import component, mixture, preos\n",
    "from phasepy.equilibrium import tpd_min, tpd_minimas, lle_init"
   ]
  },
  {
   "cell_type": "markdown",
   "metadata": {},
   "source": [
    "```tpd_min``` function searches for phase composition corresponding to a minimum of TPD function given an initial value. User needs to specify wheter the trial (W) and reference (Z) phases are liquids or vapors."
   ]
  },
  {
   "cell_type": "code",
   "execution_count": 2,
   "metadata": {},
   "outputs": [
    {
     "name": "stdout",
     "output_type": "stream",
     "text": [
      "Liquid molar fractions and TPD value: (array([0.30683438, 0.69316562]), -0.005923915138229763)\n",
      "Vapor molar fractions and TPD value: (array([0.16434188, 0.83565812]), 0.24576563932356765)\n"
     ]
    }
   ],
   "source": [
    "water = component(name='water', Tc=647.13, Pc=220.55, Zc=0.229, Vc=55.948, w=0.344861,\n",
    "                  Ant=[11.64785144, 3797.41566067, -46.77830444],\n",
    "                  GC={'H2O':1})\n",
    "\n",
    "mtbe = component(name='mtbe', Tc=497.1, Pc=34.3, Zc=0.273, Vc=329.0, w=0.266059,\n",
    "                 Ant=[9.16238246, 2541.97883529, -50.40534341], \n",
    "                 GC={'CH3':3, 'CH3O':1, 'C':1})\n",
    "\n",
    "mix = mixture(water, mtbe)\n",
    "mix.unifac()\n",
    "eos = preos(mix, 'mhv_unifac')\n",
    "T = 320.0\n",
    "P = 1.01\n",
    "z = np.array([0.5, 0.5])\n",
    "w = np.array([0.01, 0.99])\n",
    "print(\"Liquid molar fractions and TPD value:\", tpd_min(w, z, T, P, eos, stateW='L', stateZ='L'))\n",
    "print(\"Vapor molar fractions and TPD value:\", tpd_min(w, z, T, P, eos, stateW='V', stateZ='L'))"
   ]
  },
  {
   "cell_type": "markdown",
   "metadata": {},
   "source": [
    "```tpd_minimas``` will attempt (but does not guarantee) to search for different minima of the TPD function."
   ]
  },
  {
   "cell_type": "code",
   "execution_count": 3,
   "metadata": {},
   "outputs": [
    {
     "name": "stdout",
     "output_type": "stream",
     "text": [
      "TPD liquid minima: ((array([0.99538258, 0.00461742]), array([0.30683406, 0.69316594])), array([-0.33722905, -0.00592392]))\n",
      "TPD vapor minima: ((array([0.16434088, 0.83565912]), array([0.16434088, 0.83565912])), array([0.24576564, 0.24576564]))\n"
     ]
    }
   ],
   "source": [
    "nmin = 2\n",
    "print(\"TPD liquid minima:\", tpd_minimas(nmin, z, T, P, eos, stateW='L', stateZ='L'))\n",
    "print(\"TPD vapor minima:\", tpd_minimas(nmin, z, T, P, eos, stateW='V', stateZ='L'))"
   ]
  },
  {
   "cell_type": "markdown",
   "metadata": {},
   "source": [
    "```lle_init``` function can be used to find initial guess for liquid-liquid equilibrium phase compositions."
   ]
  },
  {
   "cell_type": "code",
   "execution_count": 4,
   "metadata": {},
   "outputs": [
    {
     "data": {
      "text/plain": [
       "(array([0.99538258, 0.00461742]), array([0.30683406, 0.69316594]))"
      ]
     },
     "execution_count": 4,
     "metadata": {},
     "output_type": "execute_result"
    }
   ],
   "source": [
    "lle_init(z, T, P, eos)"
   ]
  },
  {
   "cell_type": "markdown",
   "metadata": {},
   "source": [
    "Please also check [official documentation](https://phasepy.readthedocs.io/), or just try:\n",
    "\n",
    "```function?```"
   ]
  },
  {
   "cell_type": "code",
   "execution_count": null,
   "metadata": {},
   "outputs": [],
   "source": []
  }
 ],
 "metadata": {
  "kernelspec": {
   "display_name": "Python 3",
   "language": "python",
   "name": "python3"
  },
  "language_info": {
   "codemirror_mode": {
    "name": "ipython",
    "version": 3
   },
   "file_extension": ".py",
   "mimetype": "text/x-python",
   "name": "python",
   "nbconvert_exporter": "python",
   "pygments_lexer": "ipython3",
   "version": "3.8.3"
  }
 },
 "nbformat": 4,
 "nbformat_minor": 4
}
