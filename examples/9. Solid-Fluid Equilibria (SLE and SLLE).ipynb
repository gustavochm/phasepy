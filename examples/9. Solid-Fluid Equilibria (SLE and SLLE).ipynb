{
 "cells": [
  {
   "cell_type": "markdown",
   "id": "804d10a2",
   "metadata": {},
   "source": [
    "# Solid-Fluid Equilibria\n",
    "\n",
    "This notebook exemplifies solid-fluid equilibria calculations. There are two implemented functions for this purpose: \n",
    "\n",
    "- `sle`: Computes the Solid-Liquid equilibria of a given mixture of global composition (Z) at temperature (T) and pressure (P).\n",
    "\n",
    "- `slle`: Computes the Solid-Liquid-Liquid equilibria of a given mixture of global composition (Z) at temperature (T) and pressure (P).\n",
    "\n",
    "**Notes**\n",
    "1. Both functions use a modified multiphase flash that computes equilibrium and stability simultaneously. However, note that `sle` doesn't check if the liquid phase is miscible.\n",
    "\n",
    "2. Both functions consider the solid phases to be pure phases.\n",
    "\n",
    "3. The function requires you to set up the components' fusion enthalpy and temperature allowed to solidify. \n",
    "\n",
    "4. These function has set by default the number of liquid phases; however, multiple solid phases can be computed. Make sure the maximum number of phases is lower or equal to the number of components in the mixture (Gibbs phase rule)\n",
    "\n",
    "Firstly, the required functions are imported. "
   ]
  },
  {
   "cell_type": "code",
   "execution_count": 1,
   "id": "795b3c0e",
   "metadata": {},
   "outputs": [],
   "source": [
    "import numpy as np\n",
    "from phasepy import component, mixture, virialgamma\n",
    "from phasepy.equilibrium import sle, slle"
   ]
  },
  {
   "cell_type": "markdown",
   "id": "c2900bee",
   "metadata": {},
   "source": [
    "### Mixture definition \n",
    "\n",
    "In this notebook, a ternary mixture of ibuprofen (1) + ethanol (2) + water (3) will be considered.\n",
    "\n",
    "Ibuprofen will be allowed to solidify. Therefore, its fusion enthalpy `[J/mol]` and temperature `[K]` are supplied.\n",
    "\n",
    "The mixture will be modelled using the original UNIFAC activity coefficient model."
   ]
  },
  {
   "cell_type": "code",
   "execution_count": 2,
   "id": "75f3980f",
   "metadata": {},
   "outputs": [],
   "source": [
    "hf_ibuprofen = 25500 # J/mol\n",
    "tf_ibuprofen = 347.15 # K\n",
    "ibuprofen = component(name='ibuprofen', Tc=765., Pc=29.8, Zc=0.313, Vc=668.,\n",
    "                      GC={'CH3':3, 'CH':1, 'ACH':4, 'ACCH2':1, 'ACCH':1, 'COOH':1},\n",
    "                      dHf=hf_ibuprofen, Tf=tf_ibuprofen)\n",
    "\n",
    "water = component(name='water', Tc=647.096, Pc=220.64, Zc=0.229,\n",
    "                  Vc=55.9472,GC={'H2O':1})\n",
    "\n",
    "ethanol = component(name='ethanol', Tc=514, Pc=61.37, Zc=0.241, Vc=168.,\n",
    "                    GC={'CH3':1, 'CH2':1, 'OH':1})\n",
    "\n",
    "mix = ibuprofen + ethanol + water\n",
    "eos = virialgamma(mix, virialmodel='ideal_gas', actmodel='original_unifac')"
   ]
  },
  {
   "cell_type": "markdown",
   "id": "8e8cf96f",
   "metadata": {},
   "source": [
    "### Solid-Liquid-Equilibria\n",
    "\n",
    "This phase equilibrium is computed using the `sle` function. The liquid fugacity coefficient is obtained as usual from the activity coefficient model or a cubic equation of state. The solid phase is considered pure, and its fugacity coefficient is computed as follows:\n",
    "\n",
    "$$ \\ln \\phi^s = \\ln \\phi^l - \\frac{\\Delta H_f}{R} \\left(\\frac{1}{T} - \\frac{1}{T_f}\\right)$$\n",
    "\n",
    "The phase equilibrium is computed with a flash that verifies equilibria and stability between the liquid and solid phases. **Note:** The stability of the liquid phase itself is not verified. The liquid phase can still be unstable. In that case, using the `slle` function is recommended. \n",
    "\n",
    "The SLE is computed as follows:\n",
    "- `beta`: [liquid phase, solid phases] -> phase fractions.\n",
    "- `tetha`: [solid phases] -> the liquid phase is assumed to be stable. If tetha > 0, it means that the phase is unstable."
   ]
  },
  {
   "cell_type": "code",
   "execution_count": 3,
   "id": "22a8fda0",
   "metadata": {},
   "outputs": [
    {
     "data": {
      "text/plain": [
       "            T: 318.15\n",
       "            P: 1.01325\n",
       "  error_outer: 4.9841582070805744e-11\n",
       "  error_inner: 1.0168101651486629e-10\n",
       "         iter: 11\n",
       "         beta: array([0.64400275, 0.35599725])\n",
       "        tetha: array([0.])\n",
       "      X_fluid: array([[0.37888464, 0.46583652, 0.15527884]])\n",
       "      v_fluid: [None]\n",
       " states_fluid: ['L']\n",
       "      X_solid: array([[1., 0., 0.]])"
      ]
     },
     "execution_count": 3,
     "metadata": {},
     "output_type": "execute_result"
    }
   ],
   "source": [
    "P = 1.01325 # bar\n",
    "T = 318.15 # K\n",
    "Z = np.array([0.6, 0.3, 0.1])\n",
    "sle(Z, T, P, eos, solid_phases_index=[0], full_output=True)"
   ]
  },
  {
   "cell_type": "markdown",
   "id": "230bebbe",
   "metadata": {},
   "source": [
    "### Solid-Liquid-Liquid-Equilibria\n",
    "\n",
    "Similarly, the `slle` is available if the liquid mixture is unstable. If no initial guesses for the liquid phase are provided, the function uses `lle_init` to generate them.\n",
    "\n",
    "For the same previous data point, an SLLE can be attempted. In this case, the phase fraction of the second liquid phase is zero, and hence at these conditions, this mixture only exhibits SLE."
   ]
  },
  {
   "cell_type": "code",
   "execution_count": 4,
   "id": "774c0d7b",
   "metadata": {},
   "outputs": [
    {
     "data": {
      "text/plain": [
       "            T: 318.15\n",
       "            P: 1.01325\n",
       "  error_outer: 4.984148542203448e-11\n",
       "  error_inner: 1.8121569149448063e-10\n",
       "         iter: 11\n",
       "         beta: array([0.64400275, 0.        , 0.35599725])\n",
       "        tetha: array([0., 0.])\n",
       "      X_fluid: array([[0.37888464, 0.46583652, 0.15527884],\n",
       "       [0.37888464, 0.46583652, 0.15527884]])\n",
       "      v_fluid: [None, None]\n",
       " states_fluid: ['L', 'L']\n",
       "      X_solid: array([[1., 0., 0.]])"
      ]
     },
     "execution_count": 4,
     "metadata": {},
     "output_type": "execute_result"
    }
   ],
   "source": [
    "P = 1.01325 # bar\n",
    "T = 318.15 # K\n",
    "Z = np.array([0.6, 0.3, 0.1])\n",
    "slle(Z, T, P, eos, solid_phases_index=[0], full_output=True)"
   ]
  },
  {
   "cell_type": "markdown",
   "id": "ef3ca897",
   "metadata": {},
   "source": [
    "The solver can also handle cases where the stable solution includes two liquids and a solid, as shown below:"
   ]
  },
  {
   "cell_type": "code",
   "execution_count": 5,
   "id": "3f2fa970",
   "metadata": {},
   "outputs": [
    {
     "data": {
      "text/plain": [
       "            T: 318.15\n",
       "            P: 1.01325\n",
       "  error_outer: 3.198117594922145e-08\n",
       "  error_inner: 2.0015495563078728e-10\n",
       "         iter: 55\n",
       "         beta: array([0.81623743, 0.16467607, 0.11908649])\n",
       "        tetha: array([0., 0.])\n",
       "      X_fluid: array([[3.44030753e-01, 3.92795847e-01, 2.63173400e-01],\n",
       "       [6.23824634e-04, 1.78443203e-01, 8.20932973e-01]])\n",
       "      v_fluid: [None, None]\n",
       " states_fluid: ['L', 'L']\n",
       "      X_solid: array([[1., 0., 0.]])"
      ]
     },
     "execution_count": 5,
     "metadata": {},
     "output_type": "execute_result"
    }
   ],
   "source": [
    "P = 1.01325 # bar\n",
    "T = 318.15 # K\n",
    "Z = np.array([0.40, 0.35, 0.35])\n",
    "slle(Z, T, P, eos, solid_phases_index=[0], full_output=True)"
   ]
  },
  {
   "cell_type": "markdown",
   "id": "830271cd",
   "metadata": {},
   "source": [
    "And, if the two liquids split is more stable than the three-phase split, the solver handles that automatically. As can be seen, the phase fraction of the solid phase is zero, and its stability variable is positive.\n",
    "\n",
    "**Note**: `error_outer` corresponds to the error in the successive substitution or norm of Jacobian obtained from minimizing the Gibbs free energy. If one of the phases has been eliminated during the Gibbs free energy minimization, then the norm of this Jacobian can be far from zero. (As is the case below)."
   ]
  },
  {
   "cell_type": "code",
   "execution_count": 6,
   "id": "dce6913b",
   "metadata": {},
   "outputs": [
    {
     "data": {
      "text/plain": [
       "            T: 318.15\n",
       "            P: 1.01325\n",
       "  error_outer: 0.08833939563934295\n",
       "  error_inner: 3.5659831981451483e-10\n",
       "         iter: 26\n",
       "         beta: array([0.73696836, 0.26303164, 0.        ])\n",
       "        tetha: array([0.        , 0.10771003])\n",
       "      X_fluid: array([[0.27058093, 0.45127219, 0.27814687],\n",
       "       [0.00224465, 0.25634434, 0.74141102]])\n",
       "      v_fluid: [None, None]\n",
       " states_fluid: ['L', 'L']\n",
       "      X_solid: array([[1., 0., 0.]])"
      ]
     },
     "execution_count": 6,
     "metadata": {},
     "output_type": "execute_result"
    }
   ],
   "source": [
    "P = 1.01325 # bar\n",
    "T = 318.15 # K\n",
    "Z = np.array([0.2, 0.4, 0.4])\n",
    "slle(Z, T, P, eos, solid_phases_index=[0], full_output=True)"
   ]
  },
  {
   "cell_type": "markdown",
   "id": "f6c07c6c",
   "metadata": {},
   "source": [
    "For further information please also check [official documentation](https://phasepy.readthedocs.io/), or just try:\n",
    "\n",
    "```function?```"
   ]
  }
 ],
 "metadata": {
  "kernelspec": {
   "display_name": "thermo",
   "language": "python",
   "name": "thermo"
  },
  "language_info": {
   "codemirror_mode": {
    "name": "ipython",
    "version": 3
   },
   "file_extension": ".py",
   "mimetype": "text/x-python",
   "name": "python",
   "nbconvert_exporter": "python",
   "pygments_lexer": "ipython3",
   "version": "3.9.7"
  }
 },
 "nbformat": 4,
 "nbformat_minor": 5
}
